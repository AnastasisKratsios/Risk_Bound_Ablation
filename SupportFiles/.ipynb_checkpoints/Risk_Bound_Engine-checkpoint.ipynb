{
 "cells": [
  {
   "cell_type": "markdown",
   "id": "5a48a9d8",
   "metadata": {},
   "source": [
    "# Risk Bound Engine"
   ]
  },
  {
   "cell_type": "markdown",
   "id": "ec3d1926",
   "metadata": {},
   "source": [
    "---"
   ]
  },
  {
   "cell_type": "markdown",
   "id": "8c9bc637",
   "metadata": {},
   "source": [
    "## Our Risk Bound\n",
    "This function computes the risk-bound in our main Theorem."
   ]
  },
  {
   "cell_type": "code",
   "execution_count": null,
   "id": "d65ba52f",
   "metadata": {},
   "outputs": [],
   "source": [
    "def get_risk_bound__scalar(N,k,F,distortion_known=distortion_given,Risk_or_Concentration=True,distortion_type=3,Lip=Lip_prob):\n",
    "    # Round N, k, and F down (failsafe)\n",
    "#     N = int(max(1,N))\n",
    "#     k = max(1,round(k))\n",
    "#     F = max(1,round(F))\n",
    "    #-----------------------------------------#\n",
    "    ## Case-By-Case Definition of Quantities ## \n",
    "    #-----------------------------------------#\n",
    "    ## -------------------- ##\n",
    "    ## Low Dimensional Case ##\n",
    "    ## -------------------- ##\n",
    "    if F<=2:\n",
    "        #Test if Distortion is Known, if not..put worst-case\n",
    "        if distortion_known == False: \n",
    "            # Set worst-Case distortion for embedding into at-most two-dimensional Euclidean space\n",
    "            dist = 12*k\n",
    "        else:\n",
    "            # Set Custom Distortion\n",
    "            dist = distortion_known\n",
    "            \n",
    "        # Get Remaining Constants for Concentration Theorem\n",
    "        if F == 1:\n",
    "            # rate\n",
    "            rate = 1/np.sqrt(N)\n",
    "            # C_F\n",
    "            C_F = 1/(np.sqrt(8)-2)\n",
    "        if F == 2:\n",
    "            # rate\n",
    "            rate = (32+np.log2(N))/np.sqrt(N)\n",
    "            # C_F\n",
    "            C_F = np.sqrt(2)/4\n",
    "            \n",
    "    ## ------------------------ ##\n",
    "    ## Non-Low Dimensional Case ##\n",
    "    ## ------------------------ ##         \n",
    "    if F > 2:\n",
    "        # rate\n",
    "        rate = 1/(N**(1/F))\n",
    "        # C_F\n",
    "        C_F__1 = 2\n",
    "        C_F__2 = ((F/2)-1)/(2*(1-2**(1-(F/2))))\n",
    "        C_F__2 = C_F__2**(2/F)\n",
    "        C_F__3 = (1+1/(2*((F/2)-1)))\n",
    "        C_F__4 = np.sqrt(F)\n",
    "        C_F = C_F__1*C_F__2*C_F__3*C_F__4\n",
    "\n",
    "        \n",
    "        #Test if Distortion is Known, if not..put worst-case\n",
    "        if distortion_known == False: \n",
    "            # Set worst-Case distortion for embedding into F-dimensional Euclidean space  \n",
    "            \n",
    "            # The following is used in all cases where F>2\n",
    "            ε_mk = (2**(3/2))*(math.log(k)**.5)/F\n",
    "            tilde_ε_mk_1 = (np.abs(1+ε_mk))**.5\n",
    "            tilde_ε_mk_2 = (np.abs(1-ε_mk))**.5\n",
    "            tilde_ε_mk = tilde_ε_mk_1/tilde_ε_mk_2\n",
    "            \n",
    "            ## ------------------------- ##\n",
    "            ## Moderate-Dimensional Case ##\n",
    "            ## ------------------------- ##    \n",
    "            \n",
    "            if F <= 8*np.round(math.log(k),0):\n",
    "                dist__1 = 720*tilde_ε_mk\n",
    "                dist__2 = (math.log(k)/k)**.5\n",
    "                dist__3 = k**(2/F)\n",
    "                dist__4 = (k/F)**.5\n",
    "                dist__5 = math.floor(2*math.log2(k)+1)\n",
    "                \n",
    "                dist = tilde_ε_mk*dist__1*dist__2*dist__3*dist__4*dist__5\n",
    "                \n",
    "            else:\n",
    "                dist__1 = 48*math.floor(2*math.log2(k)+1) # This is used in both of the following cases\n",
    "                ## --------------------- ##\n",
    "                ## High-Dimensional Case ##\n",
    "                ## --------------------- ##    \n",
    "                if F < 2**k:\n",
    "                    dist = dist__1*tilde_ε_mk\n",
    "                    \n",
    "                ## -------------------------- ##\n",
    "                ## Very High-Dimensional Case ##\n",
    "                ## -------------------------- ##    \n",
    "                if F >= 2**k:\n",
    "                    dist = dist__1\n",
    "                        \n",
    "        \n",
    "        else:\n",
    "            # Set Custom Distortion\n",
    "            dist = distortion_known\n",
    "\n",
    "    # Custom Distortion\n",
    "    if distortion_given == True:\n",
    "        dist = dist_function(F=F, \n",
    "                             distortion_type = distortion_type,\n",
    "                             k=k,\n",
    "                             emb_dist_rate=1,\n",
    "                             C=1,\n",
    "                             d=d,\n",
    "                             verbose=False)\n",
    "    \n",
    "    #-----------------#\n",
    "    ## Compute Bound ## \n",
    "    #-----------------#\n",
    "    \n",
    "    if Risk_or_Concentration == True: ### Compute Risk-Bound:        \n",
    "        #### Get Dependancies\n",
    "        bound__1 = L*diam\n",
    "        bound__2 = C_F*(2*dist-1)*rate\n",
    "        bound__3 = (math.log(2/delta)**.5)**dist\n",
    "        bound__4 = 1/np.sqrt(N)\n",
    "        #### Compute Bound\n",
    "        bound = bound__1*bound__2*(bound__3+bound__4)\n",
    "    else: ### Compute Concentration Inequality:\n",
    "        print('TBD')\n",
    "        bound = 1 # TEMP\n",
    "\n",
    "    return bound\n",
    "\n",
    "get_risk_bound = np.vectorize(get_risk_bound__scalar)"
   ]
  },
  {
   "cell_type": "markdown",
   "id": "ea7d9835",
   "metadata": {},
   "source": [
    "## Benchmarks \n",
    "\n",
    "### Trivial VC/Occam Bound (Binary Classification)\n",
    "\n",
    "From the The (Quantitative) Fundamental Theorem of Statistical Learning ([Theorem 6.8 in \"Understanding Machine Learning\" (with extra details in Section 28.1)](https://scholar.google.com/citations?view_op=view_citation&hl=en&user=kezPqwoAAAAJ&citation_for_view=kezPqwoAAAAJ:XiVPGOgt02cC)\n",
    "$$\n",
    "\\begin{aligned}\n",
    "    \\mathcal{R}(f) - \\hat{\\mathcal{R}}(f)\n",
    "\\le &\n",
    "    n^{-1/2}\n",
    "    (\n",
    "        128 \\operatorname{VC-dim}\\log(n+1) + \\log(8/\\delta)\n",
    "    )^{1/2}\n",
    "\\\\ \n",
    "\\le & \n",
    "    n^{-1/2}\n",
    "    (\n",
    "        128 \\#\\mathcal{X}\\log(n+1) + \\log(8/\\delta)\n",
    "    )^{1/2}\n",
    "\\end{aligned}\n",
    "$$\n",
    "where we use the fact that $\\operatorname{VC-dim}(2^{\\mathcal{X}})\\le \\log_2(\\#2^{\\mathcal{X}})=\\#\\mathcal{X}$."
   ]
  },
  {
   "cell_type": "code",
   "execution_count": null,
   "id": "c062da2c",
   "metadata": {},
   "outputs": [],
   "source": [
    "def trivial_VCBound(N_in=N,k_in=k,delta = delta):\n",
    "    a = 1/np.sqrt(N_in)\n",
    "    b = 128 * k_in *np.log(N_in+1)\n",
    "    c = np.log(8/delta)\n",
    "    d = np.sqrt(b*c)\n",
    "    return a*d"
   ]
  },
  {
   "cell_type": "markdown",
   "id": "0c778b5a",
   "metadata": {},
   "source": [
    "## Hoeffding Bound\n",
    "\n",
    "\n",
    "From [Corollary 4.6 of \"Understanding Machine Learning\"](https://scholar.google.com/citations?view_op=view_citation&hl=en&user=kezPqwoAAAAJ&citation_for_view=kezPqwoAAAAJ:XiVPGOgt02cC) we have the following Heofding-type bound\n",
    "$$\n",
    "\\begin{aligned}\n",
    "    (2n)^{-1/2}\n",
    "    \\log\\big(\n",
    "    2 \\times 2^k/\\delta\n",
    "    \\big)^{1/2}\n",
    "    = \n",
    "    (2n)^{-1/2}\n",
    "     \\big(\n",
    "     \\log(2/\\delta) + k\\log(2)\n",
    "     \\big)^{1/2}\n",
    "\\end{aligned}\n",
    "$$\n"
   ]
  },
  {
   "cell_type": "code",
   "execution_count": 1,
   "id": "fcb9dfb1",
   "metadata": {},
   "outputs": [
    {
     "ename": "NameError",
     "evalue": "name 'N' is not defined",
     "output_type": "error",
     "traceback": [
      "\u001b[0;31m---------------------------------------------------------------------------\u001b[0m",
      "\u001b[0;31mNameError\u001b[0m                                 Traceback (most recent call last)",
      "Input \u001b[0;32mIn [1]\u001b[0m, in \u001b[0;36m<cell line: 1>\u001b[0;34m()\u001b[0m\n\u001b[0;32m----> 1\u001b[0m \u001b[38;5;28;01mdef\u001b[39;00m \u001b[38;5;21mHoeffding_Bound\u001b[39m(N_in\u001b[38;5;241m=\u001b[39m\u001b[43mN\u001b[49m,k_in\u001b[38;5;241m=\u001b[39mk,delta \u001b[38;5;241m=\u001b[39m delta):\n\u001b[1;32m      2\u001b[0m     a \u001b[38;5;241m=\u001b[39m \u001b[38;5;241m1\u001b[39m\u001b[38;5;241m/\u001b[39mnp\u001b[38;5;241m.\u001b[39msqrt(\u001b[38;5;241m2\u001b[39m\u001b[38;5;241m*\u001b[39mN_in)\n\u001b[1;32m      3\u001b[0m     b \u001b[38;5;241m=\u001b[39m np\u001b[38;5;241m.\u001b[39mlog(\u001b[38;5;241m2\u001b[39m\u001b[38;5;241m/\u001b[39mdelta)\n",
      "\u001b[0;31mNameError\u001b[0m: name 'N' is not defined"
     ]
    }
   ],
   "source": [
    "def Hoeffding_Bound(N_in=N,k_in=k,delta = delta):\n",
    "    a = 1/np.sqrt(2*N_in)\n",
    "    b = np.log(2/delta)\n",
    "    c = k_in*np.log(2)\n",
    "    d = np.sqrt(b+c)\n",
    "    return a*d"
   ]
  },
  {
   "cell_type": "code",
   "execution_count": null,
   "id": "d333dc26",
   "metadata": {},
   "outputs": [],
   "source": [
    "print('Risk Bounds Loaded')"
   ]
  },
  {
   "cell_type": "markdown",
   "id": "d0bb744d",
   "metadata": {},
   "source": [
    "---\n",
    "\n",
    "# Fin\n",
    "\n",
    "---"
   ]
  }
 ],
 "metadata": {
  "kernelspec": {
   "display_name": "Python 3 (ipykernel)",
   "language": "python",
   "name": "python3"
  },
  "language_info": {
   "codemirror_mode": {
    "name": "ipython",
    "version": 3
   },
   "file_extension": ".py",
   "mimetype": "text/x-python",
   "name": "python",
   "nbconvert_exporter": "python",
   "pygments_lexer": "ipython3",
   "version": "3.9.12"
  }
 },
 "nbformat": 4,
 "nbformat_minor": 5
}
