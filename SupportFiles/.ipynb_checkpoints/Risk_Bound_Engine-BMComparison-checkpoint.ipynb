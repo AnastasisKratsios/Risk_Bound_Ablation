{
 "cells": [
  {
   "cell_type": "markdown",
   "id": "5a48a9d8",
   "metadata": {},
   "source": [
    "# Risk Bound Engine - Bartlett and Mendelson (2002) Comparison"
   ]
  },
  {
   "cell_type": "markdown",
   "id": "ec3d1926",
   "metadata": {},
   "source": [
    "---"
   ]
  },
  {
   "cell_type": "markdown",
   "id": "d45a801e",
   "metadata": {},
   "source": [
    "#### Coersion\n",
    "List of random things to convert when using the risk engine for the discrete case."
   ]
  },
  {
   "cell_type": "code",
   "execution_count": 1,
   "id": "0a2d0543",
   "metadata": {},
   "outputs": [
    {
     "ename": "NameError",
     "evalue": "name 'Lip_WorstCase' is not defined",
     "output_type": "error",
     "traceback": [
      "\u001b[0;31m---------------------------------------------------------------------------\u001b[0m",
      "\u001b[0;31mNameError\u001b[0m                                 Traceback (most recent call last)",
      "Input \u001b[0;32mIn [1]\u001b[0m, in \u001b[0;36m<cell line: 1>\u001b[0;34m()\u001b[0m\n\u001b[0;32m----> 1\u001b[0m Lip_Constant_Manual \u001b[38;5;241m=\u001b[39m \u001b[43mLip_WorstCase\u001b[49m \u001b[38;5;241m+\u001b[39m \u001b[38;5;241m1\u001b[39m\n",
      "\u001b[0;31mNameError\u001b[0m: name 'Lip_WorstCase' is not defined"
     ]
    }
   ],
   "source": [
    "Lip_Constant_Manual = Lip_WorstCase + 1"
   ]
  },
  {
   "cell_type": "markdown",
   "id": "8c9bc637",
   "metadata": {},
   "source": [
    "## Our Risk Bound\n",
    "This function computes the risk-bound in our main Theorem."
   ]
  },
  {
   "cell_type": "code",
   "execution_count": null,
   "id": "d65ba52f",
   "metadata": {},
   "outputs": [],
   "source": [
    "def get_risk_bound__vs_BM___scalar(N,F,d,Risk_or_Concentration=True,Lip=Lip_WorstCase):\n",
    "    \n",
    "    # Compute Discretized Lipschitz Constant\n",
    "    Lip_WorstCase__discretized = Lip_WorstCase + 1\n",
    "\n",
    "    # Compute log grid size\n",
    "    ln_k__1 = (d+1)\n",
    "    ln_k__2 = p*np.log(10) + np.log(d/9)/2\n",
    "    ln_k = ln_k__1*ln_k__2\n",
    "    \n",
    "    \n",
    "    ## ----------------------------- ##\n",
    "    ## Failsafe Low Dimensional Case ##\n",
    "    ## ----------------------------- ##\n",
    "    if F <= round(8*ln_k):\n",
    "        # diss allow low-dimensional embeddings\n",
    "        F = round(8*ln_k)\n",
    "        \n",
    "    #--------------------------------#\n",
    "    ## Compute Euclidean Distortion ##\n",
    "    #--------------------------------#\n",
    "    dist = Euclidean_Distortion__Standard___logk(F=F,p=p,d=d)\n",
    "    \n",
    "    \n",
    "    \n",
    "    #-------------------------------------------------------#\n",
    "    ## Case-By-Case Definition of Concentration Quantities ## \n",
    "    #-------------------------------------------------------#\n",
    "    \n",
    "    ## ------------------------ ##\n",
    "    ## Non-Low Dimensional Case ##\n",
    "    ## ------------------------ ##         \n",
    "    if F > 2:\n",
    "        # rate\n",
    "        rate = 1/(N**(1/F))\n",
    "        # C_F\n",
    "        C_F__1 = 2\n",
    "        C_F__2 = ((F/2)-1)/(2*(1-2**(1-(F/2))))\n",
    "        C_F__2 = C_F__2**(2/F)\n",
    "        C_F__3 = (1+1/(2*((F/2)-1)))\n",
    "        C_F__4 = np.sqrt(F)\n",
    "        C_F = C_F__1*C_F__2*C_F__3*C_F__4\n",
    "\n",
    "\n",
    "    \n",
    "    #-----------------#\n",
    "    ## Compute Bound ## \n",
    "    #-----------------#\n",
    "      \n",
    "    #### Get Dependancies\n",
    "    diam_XY = diam*( np.sqrt(1+Lip_WorstCase**2) )\n",
    "    bound__1 = Lip_WorstCase__discretized*diam_XY\n",
    "    bound__2 = C_F*(2*dist-1)*rate\n",
    "    bound__3 = (np.log(2/delta)**.5)**dist\n",
    "    bound__4 = 1/np.sqrt(N)\n",
    "    #### Compute Bound\n",
    "    bound = bound__1*bound__2*(bound__3+bound__4)\n",
    "\n",
    "    return bound"
   ]
  },
  {
   "cell_type": "code",
   "execution_count": null,
   "id": "48657baf",
   "metadata": {},
   "outputs": [],
   "source": [
    "# def get_risk_bound__NVar__MBCompare_scalar(N):\n",
    "#     return get_risk_bound__scalar(k=k_global,F=F_global,N=N)\n",
    "\n",
    "# get_risk_bound__NVar__MBCompare = np.vectorize(get_risk_bound__NVar__MBCompare_scalar)"
   ]
  },
  {
   "cell_type": "markdown",
   "id": "ea7d9835",
   "metadata": {},
   "source": [
    "## Benchmarks \n",
    "\n"
   ]
  },
  {
   "cell_type": "markdown",
   "id": "eeb25efa",
   "metadata": {},
   "source": [
    "---\n",
    "\n",
    "# For Rademacher-Type Bounds\n",
    "\n",
    "From [Theorems 8 and 12](https://www.jmlr.org/papers/volume3/bartlett02a/bartlett02a.pdf)and [Lemma C.1](https://jmlr.org/papers/v24/22-1293.html) we have the following benmchark bound.\n",
    "\n",
    "The Rademacher complexity of the class of $L$-lipschitz functions, defined on a $d$-dimensional domain is bounded as\n",
    "$$\n",
    "    \\sup_{f \\in \\mathcal{F}_L} | \\mathfrak{R}(f ; \\mu) - \\hat{\\mathfrak{R}}(f) |\n",
    " \\le\n",
    " 2\n",
    " %%% Using Lemma C.1: Rademacher Complexity of \\mathcal{F}_L defined below\n",
    "    \\left( \\frac{8(d+1)^2D^2(16BL)^d}{N}\\right)^{1/(d+3)} + 4 \\sqrt{2} D \\left( \\frac{1}{N}\\frac{(16BL)^d}{(8(d+1)D)^{d+1}}\\right)^{1/(d+3)}\n",
    " %%%\n",
    " + \\|\\ell\\|_\\infty \\sqrt{\\frac{8\\log 2/\\delta}{N}}\n",
    "$$\n",
    "where $D := \\sup_{f \\in \\mathcal{F}_L} \\|f\\|_\\infty$ and $\\operatorname{diam}(\\mathcal{X}) \\leq B$."
   ]
  },
  {
   "cell_type": "code",
   "execution_count": 1,
   "id": "db3c0821",
   "metadata": {},
   "outputs": [
    {
     "ename": "NameError",
     "evalue": "name 'diam' is not defined",
     "output_type": "error",
     "traceback": [
      "\u001b[0;31m---------------------------------------------------------------------------\u001b[0m",
      "\u001b[0;31mNameError\u001b[0m                                 Traceback (most recent call last)",
      "Input \u001b[0;32mIn [1]\u001b[0m, in \u001b[0;36m<cell line: 1>\u001b[0;34m()\u001b[0m\n\u001b[0;32m----> 1\u001b[0m D \u001b[38;5;241m=\u001b[39m \u001b[38;5;241m2\u001b[39m\u001b[38;5;241m*\u001b[39m\u001b[43mdiam\u001b[49m \u001b[38;5;241m*\u001b[39m Lip_Constant_Manual\n\u001b[1;32m      2\u001b[0m B \u001b[38;5;241m=\u001b[39m diam\n\u001b[1;32m      3\u001b[0m L \u001b[38;5;241m=\u001b[39m \u001b[38;5;241m1\u001b[39m\n",
      "\u001b[0;31mNameError\u001b[0m: name 'diam' is not defined"
     ]
    }
   ],
   "source": [
    "D = 2*diam * Lip_Constant_Manual\n",
    "B = diam\n",
    "L = 1\n",
    "lmax = diam"
   ]
  },
  {
   "cell_type": "code",
   "execution_count": null,
   "id": "5e02e864",
   "metadata": {},
   "outputs": [],
   "source": [
    "def Rad_Comp_Bound(N,D=D,B=1,L=Lip_Constant_Manual,d=d,lmax=1,delta=delta):\n",
    "    # Compute Empirical Rademacher Complexity\n",
    "    ## Term 1\n",
    "    Emp_Rad_Comp__1 = 8*((d+1)**2)*(D**2)*((16*B*L)**d)/N\n",
    "    Emp_Rad_Comp__1 = Emp_Rad_Comp__1**(1/(d+3))\n",
    "    ## Term 2\n",
    "    Emp_Rad_Comp__2 = (16*B*L)**d\n",
    "    Emp_Rad_Comp__2 = Emp_Rad_Comp__2/( (8*(d+1 )*D)**(d+1) )\n",
    "    Emp_Rad_Comp__2 = (Emp_Rad_Comp__2/N)**(1/(d+3))\n",
    "    Emp_Rad_Comp__2 = 4*np.sqrt(2)*D*Emp_Rad_Comp__2\n",
    "    ## Term 3\n",
    "\n",
    "    Emp_Rad_Comp__3 = 8*np.log(2/delta)/N\n",
    "    Emp_Rad_Comp__3 = np.sqrt(Emp_Rad_Comp__3)\n",
    "\n",
    "    ## Total\n",
    "    Emp_Rad_Comp = (2 *Emp_Rad_Comp__1) + Emp_Rad_Comp__2 + Emp_Rad_Comp__3\n",
    "\n",
    "    return Emp_Rad_Comp"
   ]
  },
  {
   "cell_type": "markdown",
   "id": "e6728fbb",
   "metadata": {},
   "source": [
    "#### Note of the following version\n",
    "This version is written in a way which one never needs to take a massive exponent like 16^d (cancelling powers first appropriately).  At worst one takes small powers very close to 1...which isn't a problem (up to rounding errors)"
   ]
  },
  {
   "cell_type": "markdown",
   "id": "4c01b6f4",
   "metadata": {},
   "source": [
    "From [Theorems 8 and 12](https://www.jmlr.org/papers/volume3/bartlett02a/bartlett02a.pdf) and [Lemma C.1](https://jmlr.org/papers/v24/22-1293.html) we have the following benmchark bound.\n",
    "\n",
    "The Rademacher complexity of the class of $L$-lipschitz functions, defined on a $d$-dimensional domain is bounded as\n",
    "$$\n",
    "    \\sup_{f \\in \\mathcal{F}_L} | \\mathfrak{R}(f ; \\mu) - \\hat{\\mathfrak{R}}(f) |\n",
    " \\le\n",
    " 2\n",
    " %%% Using Lemma C.1: Rademacher Complexity of \\mathcal{F}_L defined below\n",
    "    \\left( \\frac{8(d+1)^2D^2(16BL)^d}{N}\\right)^{1/(d+3)} + 4 \\sqrt{2} D \\left( \\frac{1}{N}\\frac{(16BL)^d}{(8(d+1)D)^{d+1}}\\right)^{1/(d+3)}\n",
    " %%%\n",
    " + \\|\\ell\\|_\\infty \\sqrt{\\frac{8\\log 2/\\delta}{N}}\n",
    "$$\n",
    "where $D := \\sup_{f \\in \\mathcal{F}_L} \\|f\\|_\\infty$ and $\\operatorname{diam}(\\mathcal{X}) \\leq B$."
   ]
  },
  {
   "cell_type": "code",
   "execution_count": null,
   "id": "4b60c955",
   "metadata": {},
   "outputs": [],
   "source": [
    "## This version is written in a way which one never needs to take a massive exponent like 16^d (cancelling powers first appropriately)\n",
    "## At worst one takes small powers very close to 1...which isn't a problem (up to rounding errors)\n",
    "\n",
    "## This version is written in a way which one never needs to take a massive exponent like 16^d (cancelling powers first appropriately)\n",
    "## At worst one takes small powers very close to 1...which isn't a problem (up to rounding errors)\n",
    "\n",
    "def Rad_Comp_Bound(N,D=D,B=1,L=Lip_Constant_Manual,d=d,lmax=1,delta=delta):\n",
    "    # Exponents (for rates wrt. d)\n",
    "    exp_d3__num1 = 1/(1+(3/d))\n",
    "    exp_1d13 = (1+ (1/d) )/(1+(3/d))\n",
    "    exp_d3__COD = 1/(d+3) # This is the cursed rate part\n",
    "    \n",
    "    # Compute Rates Involved in the Bound\n",
    "    rate_slowpart = N**exp_d3__COD # Slow rate part (curse of dimensionality)\n",
    "    rate_fastpart = np.sqrt(N) # Fast rate part (no curse of dimensionality ... i.e. Monte-Carlo rate)\n",
    "    \n",
    "    # Compute Empirical Rademacher Complexity\n",
    "    ## Term 1\n",
    "    Emp_Rad_Comp__1 = 8*( ((d+1)**2) * (D**2) )\n",
    "    Emp_Rad_Comp__1 = Emp_Rad_Comp__1**exp_d3__COD\n",
    "\n",
    "    Emp_Rad_Comp__1__1 = (16*B*L)**exp_d3__num1\n",
    "    Emp_Rad_Comp__1 = Emp_Rad_Comp__1 * Emp_Rad_Comp__1__1\n",
    "    Emp_Rad_Comp__1 = Emp_Rad_Comp__1/rate_slowpart   # Here we feel the COD\n",
    "    \n",
    "    \n",
    "    ## Term 2\n",
    "    Emp_Rad_Comp__2__num = (16*B*L)**exp_d3__num1\n",
    "    Emp_Rad_Comp__2__den = ( 8*(d+1) )**exp_1d13\n",
    "    Emp_Rad_Comp__2 = Emp_Rad_Comp__2__num/Emp_Rad_Comp__2__den\n",
    "    Emp_Rad_Comp__2 = 4*np.sqrt(2)*D*Emp_Rad_Comp__2\n",
    "    Emp_Rad_Comp__2 = Emp_Rad_Comp__2/rate_slowpart   # Here we feel the COD\n",
    "                                       \n",
    "                                       \n",
    "    ## Term 3\n",
    "    Emp_Rad_Comp__3 = 8*np.log(2/delta)\n",
    "    Emp_Rad_Comp__3 = np.sqrt(Emp_Rad_Comp__3)\n",
    "    Emp_Rad_Comp__3 = lmax*Emp_Rad_Comp__3\n",
    "    Emp_Rad_Comp__3 = Emp_Rad_Comp__3/rate_fastpart  # Here we do not feel the COD\n",
    "\n",
    "    ## Total\n",
    "    Emp_Rad_Comp = (2*Emp_Rad_Comp__1) + Emp_Rad_Comp__2 + Emp_Rad_Comp__3\n",
    "\n",
    "    return Emp_Rad_Comp"
   ]
  },
  {
   "cell_type": "code",
   "execution_count": null,
   "id": "3023b80e",
   "metadata": {},
   "outputs": [],
   "source": [
    "def get_Rad_Bound__scalar(N):\n",
    "    return Rad_Comp_Bound(N=N)\n",
    "\n",
    "get_Rad_Bound = np.vectorize(get_Rad_Bound__scalar)"
   ]
  },
  {
   "cell_type": "markdown",
   "id": "d0bb744d",
   "metadata": {},
   "source": [
    "---\n",
    "\n",
    "# Fin\n",
    "\n",
    "---"
   ]
  }
 ],
 "metadata": {
  "kernelspec": {
   "display_name": "Python 3 (ipykernel)",
   "language": "python",
   "name": "python3"
  },
  "language_info": {
   "codemirror_mode": {
    "name": "ipython",
    "version": 3
   },
   "file_extension": ".py",
   "mimetype": "text/x-python",
   "name": "python",
   "nbconvert_exporter": "python",
   "pygments_lexer": "ipython3",
   "version": "3.9.12"
  }
 },
 "nbformat": 4,
 "nbformat_minor": 5
}
