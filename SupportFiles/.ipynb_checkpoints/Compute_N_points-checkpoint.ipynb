{
 "cells": [
  {
   "cell_type": "markdown",
   "id": "1bf09a79",
   "metadata": {},
   "source": [
    "# Compute Number of Points (k)"
   ]
  },
  {
   "cell_type": "markdown",
   "id": "622a619c",
   "metadata": {},
   "source": [
    "## Either we set k manually or we consider the no. Points Needed to Pack a Cube:\n",
    "\n",
    "From [George G. Lorentz, Manfred v. Golitschek, and Yuly Makovoz. Constructive approximation - Proposition 1.3](https://link.springer.com/book/9783642646102) the packing number of $[0,\\operatorname{diam}]^d$ in $\\ell_{\\infty}^d$ by $\\ell_{\\infty}^d$-balls of radius $10^{-p}$ is no more than\n",
    "$$\n",
    "k \\ge \n",
    "\\Big\\lceil\n",
    "2^{-d}\n",
    "        \\,\n",
    "        \\Big(10^{p}*\\operatorname{diam}\\Big)^d\n",
    "\\Big\\rceil\n",
    "$$\n",
    "we use this lower-bound to compute $k$."
   ]
  },
  {
   "cell_type": "code",
   "execution_count": null,
   "id": "baf56af5",
   "metadata": {},
   "outputs": [],
   "source": [
    "if cube_k:\n",
    "    k = (diam*(10**(p))**d)\n",
    "    k = ( 2**(-d) ) * k\n",
    "    k = round( k )\n",
    "else:\n",
    "    k = k_manual"
   ]
  },
  {
   "cell_type": "markdown",
   "id": "253c34d5",
   "metadata": {},
   "source": [
    "Report Number of points ($k$) generated"
   ]
  },
  {
   "cell_type": "code",
   "execution_count": 1,
   "id": "e7fa28c4",
   "metadata": {},
   "outputs": [
    {
     "ename": "NameError",
     "evalue": "name 'k' is not defined",
     "output_type": "error",
     "traceback": [
      "\u001b[0;31m---------------------------------------------------------------------------\u001b[0m",
      "\u001b[0;31mNameError\u001b[0m                                 Traceback (most recent call last)",
      "Input \u001b[0;32mIn [1]\u001b[0m, in \u001b[0;36m<cell line: 1>\u001b[0;34m()\u001b[0m\n\u001b[0;32m----> 1\u001b[0m \u001b[38;5;28mprint\u001b[39m(\u001b[38;5;124m'\u001b[39m\u001b[38;5;124mNumber of points:\u001b[39m\u001b[38;5;124m'\u001b[39m\u001b[38;5;241m+\u001b[39m\u001b[38;5;28mstr\u001b[39m(\u001b[43mk\u001b[49m))\n",
      "\u001b[0;31mNameError\u001b[0m: name 'k' is not defined"
     ]
    }
   ],
   "source": [
    "print('Number of points:'+str('{:.2e}'.format(k)))"
   ]
  }
 ],
 "metadata": {
  "kernelspec": {
   "display_name": "Python 3 (ipykernel)",
   "language": "python",
   "name": "python3"
  },
  "language_info": {
   "codemirror_mode": {
    "name": "ipython",
    "version": 3
   },
   "file_extension": ".py",
   "mimetype": "text/x-python",
   "name": "python",
   "nbconvert_exporter": "python",
   "pygments_lexer": "ipython3",
   "version": "3.9.12"
  }
 },
 "nbformat": 4,
 "nbformat_minor": 5
}
