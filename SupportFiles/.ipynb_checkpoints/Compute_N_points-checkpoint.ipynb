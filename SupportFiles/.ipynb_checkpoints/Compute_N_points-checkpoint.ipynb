{
 "cells": [
  {
   "cell_type": "markdown",
   "id": "1bf09a79",
   "metadata": {},
   "source": [
    "# Compute Number of Points (k)"
   ]
  },
  {
   "cell_type": "markdown",
   "id": "622a619c",
   "metadata": {},
   "source": [
    "## Either we set k manually or we consider the no. Points Needed to Pack a Cube:\n",
    "\n",
    "From [George G. Lorentz, Manfred v. Golitschek, and Yuly Makovoz. Constructive approximation - Proposition 1.3](https://link.springer.com/book/9783642646102) the packing number of $[0,\\operatorname{diam}]^d$ in $\\ell_{\\infty}^d$ by $\\ell_{\\infty}^d$-balls of radius $10^{-p}$ is no more than\n",
    "$$\n",
    "k \\ge \n",
    "\\Big\\lceil\n",
    "2^{-d}\n",
    "        \\,\n",
    "        \\Big(10^{p}*\\operatorname{diam}\\Big)^d\n",
    "\\Big\\rceil\n",
    "$$\n",
    "we use this lower-bound to compute $k$."
   ]
  },
  {
   "cell_type": "code",
   "execution_count": null,
   "id": "baf56af5",
   "metadata": {},
   "outputs": [],
   "source": [
    "if cube_k:\n",
    "    k = (diam*(10**(p))**d)\n",
    "    k = k/(2**d)\n",
    "    k = round( k )\n",
    "else:\n",
    "    k = k_manual"
   ]
  },
  {
   "cell_type": "markdown",
   "id": "d0a55620",
   "metadata": {},
   "source": [
    "### Compute Worst-Case Lipschitz Constant\n",
    "On the cube:\n",
    "$$\n",
    "    \\operatorname{Lip}(f)\n",
    "= \n",
    "    \\sup_{x,z\\in \\mathcal{X};\\,x\\neq x}\\, \n",
    "    \\frac{\n",
    "        d_{\\mathcal{Y}}(f(x),f(z))\n",
    "    }{\n",
    "        d_{\\mathcal{X}}(x,z)\n",
    "    }\n",
    "\\le \n",
    "    \\frac{\n",
    "    \\operatorname{diam(\\mathcal{Y})}\n",
    "    }{\n",
    "    \\operatorname{sep}(\\mathcal{X})\n",
    "    }\n",
    "=\n",
    "%     \\frac{\\operatorname{diam}\\sqrt{d}}{\n",
    "    10^{-p}\n",
    "%     }\n",
    "=\n",
    "%     \\operatorname{diam}\\sqrt{d}\\,\n",
    "    10^{p}\n",
    "$$"
   ]
  },
  {
   "cell_type": "markdown",
   "id": "7083f0a9",
   "metadata": {},
   "source": [
    "The next bit of code sets the Lipschitz constant; there are two options:\n",
    "- Set Lipschitz Constant Manually (consider small classes... there is no good benchmark in this case) ``Set_Lip_Constant==True``.\n",
    "- Compute Worst-Case Lipschitz constant (there are fair classical benchmarks in this case) ``Set_Lip_Constant==False``."
   ]
  },
  {
   "cell_type": "code",
   "execution_count": 3,
   "id": "f59c299c",
   "metadata": {},
   "outputs": [
    {
     "ename": "NameError",
     "evalue": "name 'cube_k' is not defined",
     "output_type": "error",
     "traceback": [
      "\u001b[0;31m---------------------------------------------------------------------------\u001b[0m",
      "\u001b[0;31mNameError\u001b[0m                                 Traceback (most recent call last)",
      "Input \u001b[0;32mIn [3]\u001b[0m, in \u001b[0;36m<cell line: 1>\u001b[0;34m()\u001b[0m\n\u001b[0;32m----> 1\u001b[0m \u001b[38;5;28;01mif\u001b[39;00m \u001b[43mcube_k\u001b[49m:\n\u001b[1;32m      2\u001b[0m     Lip_WorstCase \u001b[38;5;241m=\u001b[39m diam \u001b[38;5;241m*\u001b[39m (d\u001b[38;5;241m*\u001b[39m\u001b[38;5;241m*\u001b[39m(\u001b[38;5;241m.5\u001b[39m)) \u001b[38;5;241m*\u001b[39m (\u001b[38;5;241m10\u001b[39m\u001b[38;5;241m*\u001b[39m\u001b[38;5;241m*\u001b[39mp)\n\u001b[1;32m      3\u001b[0m \u001b[38;5;28;01melse\u001b[39;00m:\n",
      "\u001b[0;31mNameError\u001b[0m: name 'cube_k' is not defined"
     ]
    }
   ],
   "source": [
    "if Set_Lip_Constant:\n",
    "    Lip_WorstCase = Lip_Constant_Manual\n",
    "else:\n",
    "    if cube_k:\n",
    "    #     Lip_WorstCase = diam * (d**(.5)) * (10**p)\n",
    "        Lip_WorstCase = (10**p)\n",
    "    else:\n",
    "        Lip_WorstCase = 2 * (k**(1/d))\n",
    "    #     Lip_WorstCase = Lip_WorstCase*(d**.5)\n",
    "print('We Consider The Worst-Case Lipschitz Constant: ' + str(Lip_WorstCase))"
   ]
  },
  {
   "cell_type": "markdown",
   "id": "253c34d5",
   "metadata": {},
   "source": [
    "Report Number of points ($k$) generated"
   ]
  },
  {
   "cell_type": "code",
   "execution_count": 1,
   "id": "e7fa28c4",
   "metadata": {},
   "outputs": [
    {
     "ename": "NameError",
     "evalue": "name 'k' is not defined",
     "output_type": "error",
     "traceback": [
      "\u001b[0;31m---------------------------------------------------------------------------\u001b[0m",
      "\u001b[0;31mNameError\u001b[0m                                 Traceback (most recent call last)",
      "Input \u001b[0;32mIn [1]\u001b[0m, in \u001b[0;36m<cell line: 1>\u001b[0;34m()\u001b[0m\n\u001b[0;32m----> 1\u001b[0m \u001b[38;5;28mprint\u001b[39m(\u001b[38;5;124m'\u001b[39m\u001b[38;5;124mNumber of points:\u001b[39m\u001b[38;5;124m'\u001b[39m\u001b[38;5;241m+\u001b[39m\u001b[38;5;28mstr\u001b[39m(\u001b[43mk\u001b[49m))\n",
      "\u001b[0;31mNameError\u001b[0m: name 'k' is not defined"
     ]
    }
   ],
   "source": [
    "print('Number of points:'+str('{:.2e}'.format(k)))"
   ]
  }
 ],
 "metadata": {
  "kernelspec": {
   "display_name": "Python 3 (ipykernel)",
   "language": "python",
   "name": "python3"
  },
  "language_info": {
   "codemirror_mode": {
    "name": "ipython",
    "version": 3
   },
   "file_extension": ".py",
   "mimetype": "text/x-python",
   "name": "python",
   "nbconvert_exporter": "python",
   "pygments_lexer": "ipython3",
   "version": "3.9.12"
  }
 },
 "nbformat": 4,
 "nbformat_minor": 5
}
