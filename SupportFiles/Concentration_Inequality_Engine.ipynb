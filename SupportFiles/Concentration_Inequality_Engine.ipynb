{
 "cells": [
  {
   "cell_type": "markdown",
   "id": "5a48a9d8",
   "metadata": {},
   "source": [
    "# Concentration Inequality Engine"
   ]
  },
  {
   "cell_type": "markdown",
   "id": "ec3d1926",
   "metadata": {},
   "source": [
    "---"
   ]
  },
  {
   "cell_type": "markdown",
   "id": "8c9bc637",
   "metadata": {},
   "source": [
    "## Our Risk Bound\n",
    "This function computes the risk-bound in our main Theorem."
   ]
  },
  {
   "cell_type": "code",
   "execution_count": 1,
   "id": "d65ba52f",
   "metadata": {},
   "outputs": [
    {
     "ename": "SyntaxError",
     "evalue": "invalid syntax (765569495.py, line 3)",
     "output_type": "error",
     "traceback": [
      "\u001b[0;36m  Input \u001b[0;32mIn [1]\u001b[0;36m\u001b[0m\n\u001b[0;31m    distortion_type=3):\u001b[0m\n\u001b[0m    ^\u001b[0m\n\u001b[0;31mSyntaxError\u001b[0m\u001b[0;31m:\u001b[0m invalid syntax\n"
     ]
    }
   ],
   "source": [
    "def get_concentration_inequality__scalar(F,N=N,k=k,distortion_known=distortion_given,distortion_type=3):\n",
    "\n",
    "    #-----------------------------------------#\n",
    "    ## Case-By-Case Definition of Quantities ## \n",
    "    #-----------------------------------------#\n",
    "    \n",
    "    ## -------------------- ##\n",
    "    ## Low Dimensional Case ##\n",
    "    ## -------------------- ##\n",
    "    if F<=2:\n",
    "        #Test if Distortion is Known, if not..put worst-case\n",
    "        if distortion_known == False: \n",
    "            # Set worst-Case distortion for embedding into at-most two-dimensional Euclidean space\n",
    "            dist = 12*k\n",
    "        else:\n",
    "            # Set Custom Distortion\n",
    "            dist = distortion_known\n",
    "            \n",
    "        # Get Remaining Constants for Concentration Theorem\n",
    "        if F == 1:\n",
    "            # rate\n",
    "            rate = 1/np.sqrt(N)\n",
    "            # C_F\n",
    "            C_F = 1/(np.sqrt(8)-2)\n",
    "        if F == 2:\n",
    "            # rate\n",
    "            rate = (32+np.log2(N))/np.sqrt(N)\n",
    "            # C_F\n",
    "            C_F = np.sqrt(2)/4\n",
    "            \n",
    "    ## ------------------------ ##\n",
    "    ## Non-Low Dimensional Case ##\n",
    "    ## ------------------------ ##         \n",
    "    if F > 2:\n",
    "        # rate\n",
    "        rate = 1/(N**(1/F))\n",
    "        # C_F\n",
    "        C_F__1 = 2\n",
    "        C_F__2 = ((F/2)-1)/(2*(1-2**(1-(F/2))))\n",
    "        C_F__2 = C_F__2**(2/F)\n",
    "        C_F__3 = (1+1/(2*((F/2)-1)))\n",
    "        C_F__4 = np.sqrt(F)\n",
    "        C_F = C_F__1*C_F__2*C_F__3*C_F__4\n",
    "\n",
    "        \n",
    "        #Test if Distortion is Known, if not..put worst-case\n",
    "        if distortion_known == False: \n",
    "            # Set worst-Case distortion for embedding into F-dimensional Euclidean space  \n",
    "            \n",
    "            # The following is used in all cases where F>2\n",
    "            ε_mk = (2**(3/2))*(math.log(k)**.5)/F\n",
    "            tilde_ε_mk_1 = (np.abs(1+ε_mk))**.5\n",
    "            tilde_ε_mk_2 = (np.abs(1-ε_mk))**.5\n",
    "            tilde_ε_mk = tilde_ε_mk_1/tilde_ε_mk_2\n",
    "            \n",
    "            ## ------------------------- ##\n",
    "            ## Moderate-Dimensional Case ##\n",
    "            ## ------------------------- ##    \n",
    "            \n",
    "            if F <= 8*np.round(math.log(k),0):\n",
    "                dist__1 = 720*tilde_ε_mk\n",
    "                dist__2 = (math.log(k)/k)**.5\n",
    "                dist__3 = k**(2/F)\n",
    "                dist__4 = (k/F)**.5\n",
    "                dist__5 = math.floor(2*math.log2(k)+1)\n",
    "                \n",
    "                dist = tilde_ε_mk*dist__1*dist__2*dist__3*dist__4*dist__5\n",
    "                \n",
    "            else:\n",
    "                dist__1 = 48*math.floor(2*math.log2(k)+1) # This is used in both of the following cases\n",
    "                ## --------------------- ##\n",
    "                ## High-Dimensional Case ##\n",
    "                ## --------------------- ##    \n",
    "                if F < 2**k:\n",
    "                    dist = dist__1*tilde_ε_mk\n",
    "                    \n",
    "                ## -------------------------- ##\n",
    "                ## Very High-Dimensional Case ##\n",
    "                ## -------------------------- ##    \n",
    "                if F >= 2**k:\n",
    "                    dist = dist__1\n",
    "                        \n",
    "        \n",
    "        else:\n",
    "            # Set Custom Distortion\n",
    "            dist = distortion_known\n",
    "\n",
    "    # Custom Distortion\n",
    "    if distortion_given == True:\n",
    "        dist = dist_function(F=F, \n",
    "                             distortion_type = distortion_type,\n",
    "                             k=k,\n",
    "                             emb_dist_rate=1,\n",
    "                             C=1,\n",
    "                             d=d,\n",
    "                             verbose=False)\n",
    "    \n",
    "    #-----------------#\n",
    "    ## Compute Bound ## \n",
    "    #-----------------#\n",
    "          \n",
    "    #### Get Dependancies\n",
    "    C_1 = diam*rate*dist*C_F\n",
    "    C_2 = C_F * (dist - 1) * diam * rate\n",
    "    \n",
    "    ε = diam * dist * np.sqrt(math.log(2/delta))\n",
    "    ε = ε/(np.sqrt(2*N))\n",
    "    \n",
    "    #### Compute Bound\n",
    "    conc_bound = C_2 + C_1 + ε\n",
    "    \n",
    "\n",
    "    return conc_bound\n",
    "\n",
    "get_risk_bound = np.vectorize(get_concentration_inequality__scalar)"
   ]
  },
  {
   "cell_type": "code",
   "execution_count": null,
   "id": "d333dc26",
   "metadata": {},
   "outputs": [],
   "source": [
    "print('Concentration Inequality Loaded')"
   ]
  },
  {
   "cell_type": "markdown",
   "id": "d0bb744d",
   "metadata": {},
   "source": [
    "---\n",
    "\n",
    "# Fin\n",
    "\n",
    "---"
   ]
  }
 ],
 "metadata": {
  "kernelspec": {
   "display_name": "Python 3 (ipykernel)",
   "language": "python",
   "name": "python3"
  },
  "language_info": {
   "codemirror_mode": {
    "name": "ipython",
    "version": 3
   },
   "file_extension": ".py",
   "mimetype": "text/x-python",
   "name": "python",
   "nbconvert_exporter": "python",
   "pygments_lexer": "ipython3",
   "version": "3.9.12"
  }
 },
 "nbformat": 4,
 "nbformat_minor": 5
}
