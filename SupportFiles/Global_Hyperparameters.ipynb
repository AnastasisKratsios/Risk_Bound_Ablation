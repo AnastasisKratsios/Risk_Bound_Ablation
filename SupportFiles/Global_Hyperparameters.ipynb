{
 "cells": [
  {
   "cell_type": "markdown",
   "id": "89f05712",
   "metadata": {},
   "source": [
    "# Set Global Hyperparameters"
   ]
  },
  {
   "cell_type": "markdown",
   "id": "e029c7f3",
   "metadata": {},
   "source": [
    "## General Parameters"
   ]
  },
  {
   "cell_type": "code",
   "execution_count": 2,
   "id": "d2a055fe",
   "metadata": {},
   "outputs": [
    {
     "name": "stdout",
     "output_type": "stream",
     "text": [
      "Results are to Hold with Probability at-least95.0%\n",
      "We consider1Lipschitz Hypotheses\n"
     ]
    },
    {
     "ename": "NameError",
     "evalue": "name 'np' is not defined",
     "output_type": "error",
     "traceback": [
      "\u001b[0;31m---------------------------------------------------------------------------\u001b[0m",
      "\u001b[0;31mNameError\u001b[0m                                 Traceback (most recent call last)",
      "Input \u001b[0;32mIn [2]\u001b[0m, in \u001b[0;36m<cell line: 8>\u001b[0;34m()\u001b[0m\n\u001b[1;32m      5\u001b[0m L \u001b[38;5;241m=\u001b[39m \u001b[38;5;241m1\u001b[39m; \u001b[38;5;28mprint\u001b[39m(\u001b[38;5;124m'\u001b[39m\u001b[38;5;124mWe consider\u001b[39m\u001b[38;5;124m'\u001b[39m\u001b[38;5;241m+\u001b[39m\u001b[38;5;28mstr\u001b[39m(L)\u001b[38;5;241m+\u001b[39m\u001b[38;5;124m'\u001b[39m\u001b[38;5;124mLipschitz Hypotheses\u001b[39m\u001b[38;5;124m'\u001b[39m)\n\u001b[1;32m      7\u001b[0m \u001b[38;5;66;03m# Search Space Complexity (F aka m)\u001b[39;00m\n\u001b[0;32m----> 8\u001b[0m Representation_Space_Dim_Max \u001b[38;5;241m=\u001b[39m \u001b[38;5;241m100\u001b[39m; \u001b[38;5;28mprint\u001b[39m(\u001b[38;5;124m'\u001b[39m\u001b[38;5;124mMax Representation Space Dimension (F aka m): \u001b[39m\u001b[38;5;124m'\u001b[39m\u001b[38;5;241m+\u001b[39m\u001b[38;5;28mstr\u001b[39m(\u001b[43mnp\u001b[49m\u001b[38;5;241m.\u001b[39mlog(Representation_Space_Dim_Max)) )\n\u001b[1;32m     10\u001b[0m \u001b[38;5;66;03m# Y Complexity\u001b[39;00m\n\u001b[1;32m     11\u001b[0m Y_is_bin_class \u001b[38;5;241m=\u001b[39m \u001b[38;5;28;01mTrue\u001b[39;00m\n",
      "\u001b[0;31mNameError\u001b[0m: name 'np' is not defined"
     ]
    }
   ],
   "source": [
    "# Confidence\n",
    "delta = .95; print('Results are to Hold with Probability at-least: '+str(delta*100)+'%')\n",
    "\n",
    "\n",
    "# Search Space Complexity (F aka m)\n",
    "Representation_Space_Dim_Max = 100; print('Max Representation Space Dimension (F aka m): '+str(np.log(Representation_Space_Dim_Max)) )\n",
    "\n",
    "# Y Complexity\n",
    "Y_is_bin_class = True"
   ]
  },
  {
   "cell_type": "markdown",
   "id": "44d029ff",
   "metadata": {},
   "source": [
    "## Set Grid Sizes (N)\n",
    "Once $N$ is set, then we consider two scenarios:\n",
    "- if ``N_is_Small==True``: $N$ ranges from $\\lfloor N/10 \\rfloor$ to $N$\n",
    "- if ``N_is_Small==True``: $N$ ranges from $N^3$ to $N^4$"
   ]
  },
  {
   "cell_type": "code",
   "execution_count": 3,
   "id": "3b297f26",
   "metadata": {},
   "outputs": [
    {
     "ename": "NameError",
     "evalue": "name 'N_is_Small' is not defined",
     "output_type": "error",
     "traceback": [
      "\u001b[0;31m---------------------------------------------------------------------------\u001b[0m",
      "\u001b[0;31mNameError\u001b[0m                                 Traceback (most recent call last)",
      "Input \u001b[0;32mIn [3]\u001b[0m, in \u001b[0;36m<cell line: 1>\u001b[0;34m()\u001b[0m\n\u001b[0;32m----> 1\u001b[0m \u001b[38;5;28;01mif\u001b[39;00m \u001b[43mN_is_Small\u001b[49m:\n\u001b[1;32m      2\u001b[0m     \u001b[38;5;66;03m# Small N\u001b[39;00m\n\u001b[1;32m      3\u001b[0m     N_min \u001b[38;5;241m=\u001b[39m \u001b[38;5;28mround\u001b[39m(N\u001b[38;5;241m/\u001b[39m\u001b[38;5;241m10\u001b[39m)\n\u001b[1;32m      4\u001b[0m     N_max \u001b[38;5;241m=\u001b[39m N\n",
      "\u001b[0;31mNameError\u001b[0m: name 'N_is_Small' is not defined"
     ]
    }
   ],
   "source": [
    "if N_is_Small:\n",
    "    # Small N\n",
    "    N_min = round(N/10)\n",
    "    N_max = N\n",
    "else:\n",
    "    # Large N\n",
    "    N_min = N**8\n",
    "    N_max = N**9\n",
    "\n",
    "# Smoothness of Plots vs Generation Speed\n",
    "N_tests = 10**4\n",
    "    \n",
    "# Generate Sequence of Number of Samples\n",
    "N_sequence = np.linspace(N_min,N_max,N_tests)"
   ]
  },
  {
   "cell_type": "code",
   "execution_count": null,
   "id": "13b302fd",
   "metadata": {},
   "outputs": [],
   "source": [
    "# Set External Values of k and F\n",
    "k_global = k"
   ]
  },
  {
   "cell_type": "markdown",
   "id": "bd963c09",
   "metadata": {},
   "source": [
    "---\n",
    "\n",
    "# Fin\n",
    "\n",
    "---"
   ]
  },
  {
   "cell_type": "markdown",
   "id": "20409a2b",
   "metadata": {},
   "source": [
    "---"
   ]
  }
 ],
 "metadata": {
  "kernelspec": {
   "display_name": "Python 3 (ipykernel)",
   "language": "python",
   "name": "python3"
  },
  "language_info": {
   "codemirror_mode": {
    "name": "ipython",
    "version": 3
   },
   "file_extension": ".py",
   "mimetype": "text/x-python",
   "name": "python",
   "nbconvert_exporter": "python",
   "pygments_lexer": "ipython3",
   "version": "3.9.12"
  }
 },
 "nbformat": 4,
 "nbformat_minor": 5
}
