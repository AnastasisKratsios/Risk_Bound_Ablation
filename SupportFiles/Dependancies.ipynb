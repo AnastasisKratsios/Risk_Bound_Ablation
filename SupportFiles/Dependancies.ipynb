{
 "cells": [
  {
   "cell_type": "markdown",
   "id": "52e41217",
   "metadata": {},
   "source": [
    "# Load Dependancies"
   ]
  },
  {
   "cell_type": "code",
   "execution_count": null,
   "id": "81392b3d",
   "metadata": {},
   "outputs": [],
   "source": [
    "# Directory Management\n",
    "import os\n",
    "os.chdir(os.getcwd())\n",
    "\n",
    "# Compute\n",
    "import math\n",
    "from numpy import exp,arange\n",
    "from pylab import meshgrid,cm,imshow,contour,clabel,colorbar,axis,title,show\n",
    "\n",
    "# Data Structures\n",
    "import numpy as np\n",
    "import pandas as pd\n",
    "\n",
    "# General\n",
    "import math\n",
    "from decimal import Decimal\n",
    "\n",
    "# Plot\n",
    "import matplotlib.pyplot as plt\n",
    "from mpl_toolkits.axes_grid1.inset_locator import inset_axes\n",
    "from mpl_toolkits.axes_grid1.inset_locator import mark_inset\n",
    "import seaborn as sns\n",
    "sns.set_theme(style=\"darkgrid\")"
   ]
  },
  {
   "cell_type": "code",
   "execution_count": 1,
   "id": "c05df96a",
   "metadata": {},
   "outputs": [
    {
     "name": "stdout",
     "output_type": "stream",
     "text": [
      "Dependancies and Packages Loaded\n"
     ]
    }
   ],
   "source": [
    "print('Dependancies and Packages Loaded')"
   ]
  },
  {
   "cell_type": "markdown",
   "id": "54081861",
   "metadata": {},
   "source": [
    "---\n",
    "\n",
    "# Fin\n",
    "\n",
    "---"
   ]
  }
 ],
 "metadata": {
  "kernelspec": {
   "display_name": "Python 3 (ipykernel)",
   "language": "python",
   "name": "python3"
  },
  "language_info": {
   "codemirror_mode": {
    "name": "ipython",
    "version": 3
   },
   "file_extension": ".py",
   "mimetype": "text/x-python",
   "name": "python",
   "nbconvert_exporter": "python",
   "pygments_lexer": "ipython3",
   "version": "3.9.12"
  }
 },
 "nbformat": 4,
 "nbformat_minor": 5
}
