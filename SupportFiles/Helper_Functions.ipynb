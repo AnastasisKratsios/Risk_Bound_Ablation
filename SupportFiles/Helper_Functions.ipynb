{
 "cells": [
  {
   "cell_type": "markdown",
   "id": "536463fe",
   "metadata": {},
   "source": [
    "# Helper Function(s)"
   ]
  },
  {
   "cell_type": "markdown",
   "id": "e151733f",
   "metadata": {},
   "source": [
    "#### Coercion\n",
    "We just set a parameter, which sets worst-case or more general case distortion."
   ]
  },
  {
   "cell_type": "code",
   "execution_count": 9,
   "id": "19a9df6c",
   "metadata": {},
   "outputs": [
    {
     "ename": "NameError",
     "evalue": "name 'distortion_type' is not defined",
     "output_type": "error",
     "traceback": [
      "\u001b[0;31m---------------------------------------------------------------------------\u001b[0m",
      "\u001b[0;31mNameError\u001b[0m                                 Traceback (most recent call last)",
      "Input \u001b[0;32mIn [9]\u001b[0m, in \u001b[0;36m<cell line: 1>\u001b[0;34m()\u001b[0m\n\u001b[0;32m----> 1\u001b[0m \u001b[38;5;28;01mif\u001b[39;00m \u001b[43mdistortion_type\u001b[49m \u001b[38;5;241m==\u001b[39m \u001b[38;5;241m1\u001b[39m:\n\u001b[1;32m      2\u001b[0m     distortion_given \u001b[38;5;241m=\u001b[39m \u001b[38;5;28;01mFalse\u001b[39;00m\n",
      "\u001b[0;31mNameError\u001b[0m: name 'distortion_type' is not defined"
     ]
    }
   ],
   "source": [
    "if distortion_type == 1:\n",
    "    distortion_given = False\n",
    "else:\n",
    "    distortion_given = True"
   ]
  },
  {
   "cell_type": "markdown",
   "id": "29fde1e5",
   "metadata": {},
   "source": [
    "## Digit Formatting Function"
   ]
  },
  {
   "cell_type": "code",
   "execution_count": 3,
   "id": "5aed079b",
   "metadata": {},
   "outputs": [],
   "source": [
    "def format_e(n):\n",
    "    a = '%E' % n\n",
    "    return a.split('E')[0].rstrip('0').rstrip('.') + 'E' + a.split('E')[1]"
   ]
  },
  {
   "cell_type": "markdown",
   "id": "bf047ba6",
   "metadata": {},
   "source": [
    "## Internal Parameters"
   ]
  },
  {
   "cell_type": "code",
   "execution_count": 4,
   "id": "d2346ab9",
   "metadata": {},
   "outputs": [
    {
     "ename": "NameError",
     "evalue": "name 'np' is not defined",
     "output_type": "error",
     "traceback": [
      "\u001b[0;31m---------------------------------------------------------------------------\u001b[0m",
      "\u001b[0;31mNameError\u001b[0m                                 Traceback (most recent call last)",
      "Input \u001b[0;32mIn [4]\u001b[0m, in \u001b[0;36m<cell line: 2>\u001b[0;34m()\u001b[0m\n\u001b[1;32m      1\u001b[0m \u001b[38;5;66;03m# Generate Array of Representation Dimensions\u001b[39;00m\n\u001b[0;32m----> 2\u001b[0m F_in \u001b[38;5;241m=\u001b[39m \u001b[43mnp\u001b[49m\u001b[38;5;241m.\u001b[39mround(\u001b[38;5;28mrange\u001b[39m(\u001b[38;5;241m1\u001b[39m,Representation_Space_Dim_Max))\n\u001b[1;32m      3\u001b[0m \u001b[38;5;66;03m# Get Small Values\u001b[39;00m\n\u001b[1;32m      4\u001b[0m F_in__1 \u001b[38;5;241m=\u001b[39m np\u001b[38;5;241m.\u001b[39mround(\u001b[38;5;28mrange\u001b[39m(\u001b[38;5;28mint\u001b[39m(\u001b[38;5;241m8\u001b[39m\u001b[38;5;241m*\u001b[39mmath\u001b[38;5;241m.\u001b[39mlog(k)),\u001b[38;5;28mint\u001b[39m(\u001b[38;5;241m20\u001b[39m\u001b[38;5;241m*\u001b[39mmath\u001b[38;5;241m.\u001b[39mlog(k))))\n",
      "\u001b[0;31mNameError\u001b[0m: name 'np' is not defined"
     ]
    }
   ],
   "source": [
    "# Generate Array of Representation Dimensions\n",
    "F_in = np.round(range(1,Representation_Space_Dim_Max))\n",
    "# Get Small Values\n",
    "F_in__1 = np.round(range(int(8*math.log(k)),int(20*math.log(k))))\n",
    "# Get Large Values\n",
    "F_in__2 = np.round(range(int(8*math.log(k)),int(Representation_Space_Dim_Max)))\n",
    "F_in__2 = np.random.choice(F_in__2,min(len(F_in__2),100), replace=False)\n",
    "\n",
    "# Dimension-Based\n",
    "F_in__3 = np.round(np.arange(d/2,d))\n",
    "F_in__3 = np.random.choice(F_in__3,min(len(F_in__3),100), replace=False)\n",
    "\n",
    "# Assemble Values\n",
    "F_in = np.append(F_in,F_in__1)\n",
    "F_in = np.append(F_in,F_in__2)\n",
    "F_in = np.append(F_in,F_in__3)\n",
    "\n",
    "# Keep Unique\n",
    "F_in = np.sort(np.unique(F_in))"
   ]
  },
  {
   "cell_type": "markdown",
   "id": "c236c934",
   "metadata": {},
   "source": [
    "## Embeddings - Distortion Function:"
   ]
  },
  {
   "cell_type": "markdown",
   "id": "d06d6950",
   "metadata": {},
   "source": [
    "### Polynomial Distortion Function - (Tree like):\n",
    "\n",
    "This type of embedding concerns the following scenario:\n",
    "\n",
    "[Gupta - Embedding Tree Metrics into Low-Dimensional Euclidean Spaces (2000); Theorem 4.1](https://link.springer.com/article/10.1007/s004540010020)\n",
    "    If $\\mathcal{X}\\times \\mathcal{Y}$ has a hierarchical structure; in that its metric is induced by a full binary tree; then Distortion \n",
    "    $$\n",
    "    \\tau(\\phi) \\le 4\\,\\pi*L^{1/(F-1)}\\, \\sqrt{\\min\\{F,\\log(L)\\}}\n",
    "    ;\n",
    "    $$ where $L=(k+1)/2$ for $F\\in \\mathbb{N}_+,\\, F>1$."
   ]
  },
  {
   "cell_type": "code",
   "execution_count": 6,
   "id": "b0ea6319",
   "metadata": {},
   "outputs": [
    {
     "ename": "NameError",
     "evalue": "name 'k' is not defined",
     "output_type": "error",
     "traceback": [
      "\u001b[0;31m---------------------------------------------------------------------------\u001b[0m",
      "\u001b[0;31mNameError\u001b[0m                                 Traceback (most recent call last)",
      "Input \u001b[0;32mIn [6]\u001b[0m, in \u001b[0;36m<cell line: 1>\u001b[0;34m()\u001b[0m\n\u001b[0;32m----> 1\u001b[0m \u001b[38;5;28;01mdef\u001b[39;00m \u001b[38;5;21mPolynomial_Distortion__Treelike\u001b[39m(F,k\u001b[38;5;241m=\u001b[39m\u001b[43mk\u001b[49m,emb_dist_rate\u001b[38;5;241m=\u001b[39m\u001b[38;5;241m1\u001b[39m,C\u001b[38;5;241m=\u001b[39m\u001b[38;5;241m1\u001b[39m):\n\u001b[1;32m      2\u001b[0m     dist_cost \u001b[38;5;241m=\u001b[39m C\u001b[38;5;241m*\u001b[39m(k\u001b[38;5;241m*\u001b[39m\u001b[38;5;241m*\u001b[39m(emb_dist_rate\u001b[38;5;241m/\u001b[39mF))\n\u001b[1;32m      3\u001b[0m     \u001b[38;5;28;01mreturn\u001b[39;00m dist_cost\n",
      "\u001b[0;31mNameError\u001b[0m: name 'k' is not defined"
     ]
    }
   ],
   "source": [
    "def Polynomial_Distortion__Treelike(F,k=k):\n",
    "    # No Leaves\n",
    "    L = (k+1)/2\n",
    "    # Compute Embedding Bound\n",
    "    A = 4* math.pi\n",
    "    B = L**(1/(max(F-1,1)))\n",
    "    C = np.sqrt(min(F,np.log10(L)))\n",
    "    # \n",
    "    dist_cost = A*B*C\n",
    "    return dist_cost"
   ]
  },
  {
   "cell_type": "markdown",
   "id": "ef31d53d",
   "metadata": {},
   "source": [
    "### Euclidean Distortion Function:\n",
    "We use the following distortion bound:\n",
    "$$\n",
    "    \\frac{\\|x-\\tilde{x}\\|_2}{3k^{2/m}\\sqrt{k/m}}\\leq \\|\\varphi_m(x)-\\varphi_m(\\tilde{x})\\|_2\\leq 5(\\ln k/k)^{1/2}\\|x-\\tilde{x}\\|_2.\n",
    "$$\n",
    "In this case, the distortion is at-most:\n",
    "$$\n",
    "15\n",
    "\\,\n",
    "k^{2/m}\n",
    "\\,\n",
    "\\sqrt{(\\ln k)/m}\n",
    "$$"
   ]
  },
  {
   "cell_type": "code",
   "execution_count": 7,
   "id": "007162e1",
   "metadata": {},
   "outputs": [
    {
     "ename": "NameError",
     "evalue": "name 'k' is not defined",
     "output_type": "error",
     "traceback": [
      "\u001b[0;31m---------------------------------------------------------------------------\u001b[0m",
      "\u001b[0;31mNameError\u001b[0m                                 Traceback (most recent call last)",
      "Input \u001b[0;32mIn [7]\u001b[0m, in \u001b[0;36m<cell line: 1>\u001b[0;34m()\u001b[0m\n\u001b[0;32m----> 1\u001b[0m \u001b[38;5;28;01mdef\u001b[39;00m \u001b[38;5;21mEuclidean_Distortion__Standard\u001b[39m(F, k \u001b[38;5;241m=\u001b[39m \u001b[43mk\u001b[49m,d\u001b[38;5;241m=\u001b[39md):\n\u001b[1;32m      2\u001b[0m     \u001b[38;5;66;03m#-----------------------------------------#\u001b[39;00m\n\u001b[1;32m      3\u001b[0m     \u001b[38;5;66;03m## Case-By-Case Definition of Quantities ## \u001b[39;00m\n\u001b[1;32m      4\u001b[0m     \u001b[38;5;66;03m#-----------------------------------------#\u001b[39;00m\n\u001b[1;32m      5\u001b[0m     \u001b[38;5;66;03m## --------------------- ##\u001b[39;00m\n\u001b[1;32m      6\u001b[0m     \u001b[38;5;66;03m## High Dimensional Case ##\u001b[39;00m\n\u001b[1;32m      7\u001b[0m     \u001b[38;5;66;03m## --------------------- ##     \u001b[39;00m\n\u001b[1;32m      8\u001b[0m     \u001b[38;5;28;01mif\u001b[39;00m d\u001b[38;5;241m<\u001b[39m\u001b[38;5;241m=\u001b[39m F:\n\u001b[1;32m      9\u001b[0m         \u001b[38;5;28mprint\u001b[39m(\u001b[38;5;124m'\u001b[39m\u001b[38;5;124mHigh\u001b[39m\u001b[38;5;124m'\u001b[39m)\n",
      "\u001b[0;31mNameError\u001b[0m: name 'k' is not defined"
     ]
    }
   ],
   "source": [
    "def Euclidean_Distortion__Standard(F, k = k,d=d,verbose=False):\n",
    "    #-----------------------------------------#\n",
    "    ## Case-By-Case Definition of Quantities ## \n",
    "    #-----------------------------------------#\n",
    "    ## --------------------- ##\n",
    "    ## High Dimensional Case ##\n",
    "    ## --------------------- ##     \n",
    "    if d<= F:\n",
    "        if verbose:\n",
    "            print('High')\n",
    "        dist = 1\n",
    "    else:\n",
    "        ## -------------------------- ##\n",
    "        ## Ultra-Low Dimensional Case ##\n",
    "        ## -------------------------- ##\n",
    "        ### Here we use the worst-Case embedding for general metric spaces\n",
    "        if F<=2:\n",
    "            if verbose:\n",
    "                print('Ultra-Low')\n",
    "            # Set worst-Case distortion for embedding into at-most two-dimensional Euclidean space\n",
    "            dist = 12*k\n",
    "        else:\n",
    "            ## -------------------- ##\n",
    "            ## Low Dimensional Case ##\n",
    "            ## -------------------- ##         \n",
    "            if 3 <= F and F <= np.round(math.log(k),0):\n",
    "                if verbose:\n",
    "                    print('Low')\n",
    "                dist__1 = 15\n",
    "                dist__2 = (k**(2/F))\n",
    "                dist__3 = np.sqrt(math.log(k)/F)\n",
    "\n",
    "                dist = dist__1*dist__2*dist__3\n",
    "            else:\n",
    "                ## ----------------------- ##\n",
    "                ## Medium Dimensional Case ##\n",
    "                ## ----------------------- ##     \n",
    "                if verbose:\n",
    "                    print('Med')\n",
    "                dist = 48*math.floor(2*math.log(k)+1)\n",
    "\n",
    "    return dist"
   ]
  },
  {
   "cell_type": "markdown",
   "id": "b229cf38",
   "metadata": {},
   "source": [
    "### Isometric to Subset of Real Line - Distortion Function:\n",
    "$(\\mathcal{X},d_{\\mathcal{X}})$ is such that $d_{\\mathcal{X}}=|\\cdot - \\cdot |$."
   ]
  },
  {
   "cell_type": "code",
   "execution_count": null,
   "id": "4ca269fd",
   "metadata": {},
   "outputs": [],
   "source": [
    "def Isometric_Subset_RealLine__BestCase(F,k=k):\n",
    "    dist_cost = 1\n",
    "    return dist_cost"
   ]
  },
  {
   "cell_type": "markdown",
   "id": "c61560d3",
   "metadata": {},
   "source": [
    "#### Package Distortion Function\n",
    "This function summarizes all the above distortion types."
   ]
  },
  {
   "cell_type": "code",
   "execution_count": 13,
   "id": "61d8ac26",
   "metadata": {},
   "outputs": [
    {
     "ename": "NameError",
     "evalue": "name 'k' is not defined",
     "output_type": "error",
     "traceback": [
      "\u001b[0;31m---------------------------------------------------------------------------\u001b[0m",
      "\u001b[0;31mNameError\u001b[0m                                 Traceback (most recent call last)",
      "Input \u001b[0;32mIn [13]\u001b[0m, in \u001b[0;36m<cell line: 1>\u001b[0;34m()\u001b[0m\n\u001b[0;32m----> 1\u001b[0m \u001b[38;5;28;01mdef\u001b[39;00m \u001b[38;5;21mdist_function\u001b[39m(F, distortion_type \u001b[38;5;241m=\u001b[39m \u001b[38;5;241m3\u001b[39m,k\u001b[38;5;241m=\u001b[39m\u001b[43mk\u001b[49m,emb_dist_rate\u001b[38;5;241m=\u001b[39mrate_dist,C\u001b[38;5;241m=\u001b[39mC_dist,d\u001b[38;5;241m=\u001b[39md,verbose\u001b[38;5;241m=\u001b[39m\u001b[38;5;28;01mTrue\u001b[39;00m):\n\u001b[1;32m      2\u001b[0m     \u001b[38;5;28;01mif\u001b[39;00m verbose:\n\u001b[1;32m      3\u001b[0m         \u001b[38;5;28mprint\u001b[39m(\u001b[38;5;124m'\u001b[39m\u001b[38;5;124mdistortion_type: \u001b[39m\u001b[38;5;124m'\u001b[39m)\n",
      "\u001b[0;31mNameError\u001b[0m: name 'k' is not defined"
     ]
    }
   ],
   "source": [
    "def dist_function(F, distortion_type = 3,k=k,emb_dist_rate=rate_dist,C=C_dist,d=d,verbose=True):\n",
    "    if verbose:\n",
    "        print('distortion_type: ')\n",
    "    # Worst-Case\n",
    "    if distortion_type == 1:\n",
    "        distortion_given = False\n",
    "        if verbose:\n",
    "            print('Worst-Case (Expander Graph-Type Case)')\n",
    "        dist = -1; print('Error')\n",
    "            \n",
    "        # Tree-like\n",
    "    if distortion_type == 2:\n",
    "        distortion_given = True\n",
    "        Subset_Euclidean_Space = False\n",
    "        if verbose:\n",
    "            print('Polynomial Embedding Rate (Tree-Like Case)')\n",
    "        # Compute Distortion\n",
    "        dist = Polynomial_Distortion__Treelike(F,k=k,emb_dist_rate=1,C=1)\n",
    "        \n",
    "\n",
    "        # Euclidean\n",
    "    if distortion_type == 3:\n",
    "        distortion_given = True\n",
    "        Subset_Euclidean_Space = True\n",
    "        if verbose:\n",
    "            print('Euclidean Subset of ell_2^d (Standard ML Case)')\n",
    "        # Compute Distortion\n",
    "        dist = Euclidean_Distortion__Standard(F, k = k,d=d)\n",
    "            \n",
    "    # Isometric Subset of Real-line\n",
    "    if distortion_type == 4:\n",
    "        distortion_given = True\n",
    "        Subset_Euclidean_Space = True\n",
    "        Subset_Real_Line__Iso = True\n",
    "        if verbose:\n",
    "            print('Isometric Embedding into Real Line (Best Case)')\n",
    "        # Compute Distortion\n",
    "        dist = Isometric_Subset_RealLine__BestCase(F,k=k)\n",
    "        \n",
    "    # Return Result\n",
    "    return dist"
   ]
  },
  {
   "cell_type": "markdown",
   "id": "4bd2507d",
   "metadata": {},
   "source": [
    "### Generate Name for Distortion/Geometry Type"
   ]
  },
  {
   "cell_type": "code",
   "execution_count": null,
   "id": "286b9266",
   "metadata": {},
   "outputs": [],
   "source": [
    "if distortion_type == 1:\n",
    "    dist_name = 'Worst-Case Geometry'\n",
    "\n",
    "if distortion_type == 2:\n",
    "    dist_name = 'Polynomial (Tree-Like Geometry)'\n",
    "\n",
    "if distortion_type == 3:\n",
    "    dist_name = 'Subset of $\\mathbb{R}^d$'\n",
    "\n",
    "# Isometric Subset of Real-line\n",
    "if distortion_type == 4:\n",
    "    dist_name = 'Subset of Real-Line (Best-Case Geometry)'"
   ]
  },
  {
   "cell_type": "markdown",
   "id": "3ef42976",
   "metadata": {},
   "source": [
    "## Plotting Tools"
   ]
  },
  {
   "cell_type": "markdown",
   "id": "8bd487e5",
   "metadata": {},
   "source": [
    "### Plotting Colours"
   ]
  },
  {
   "cell_type": "markdown",
   "id": "95567fb4",
   "metadata": {},
   "source": [
    "[Nice website for getting pretty HTML colour codes](https://htmlcolorcodes.com/)."
   ]
  },
  {
   "cell_type": "code",
   "execution_count": null,
   "id": "c1a9f0bc",
   "metadata": {},
   "outputs": [],
   "source": [
    "c1='#07ce83' #Algea Green\n",
    "c2='#9a199a' #Pinky Electric-Purple\n",
    "def colorFader(c1=c1,c2=c2,mix=0): #fade (linear interpolate) from color c1 (at mix=0) to c2 (mix=1)\n",
    "    c1=np.array(mpl.colors.to_rgb(c1))\n",
    "    c2=np.array(mpl.colors.to_rgb(c2))\n",
    "    return mpl.colors.to_hex((1-mix)*c1 + mix*c2)"
   ]
  },
  {
   "cell_type": "markdown",
   "id": "7abd648e",
   "metadata": {},
   "source": [
    "---"
   ]
  },
  {
   "cell_type": "code",
   "execution_count": 2,
   "id": "698e1370",
   "metadata": {},
   "outputs": [
    {
     "name": "stdout",
     "output_type": "stream",
     "text": [
      "Helper Functions Loaded\n"
     ]
    }
   ],
   "source": [
    "print('Helper Functions Loaded')"
   ]
  },
  {
   "cell_type": "markdown",
   "id": "f683ccc5",
   "metadata": {},
   "source": [
    "---\n",
    "# Fin \n",
    "---"
   ]
  }
 ],
 "metadata": {
  "kernelspec": {
   "display_name": "Python 3 (ipykernel)",
   "language": "python",
   "name": "python3"
  },
  "language_info": {
   "codemirror_mode": {
    "name": "ipython",
    "version": 3
   },
   "file_extension": ".py",
   "mimetype": "text/x-python",
   "name": "python",
   "nbconvert_exporter": "python",
   "pygments_lexer": "ipython3",
   "version": "3.9.12"
  }
 },
 "nbformat": 4,
 "nbformat_minor": 5
}
