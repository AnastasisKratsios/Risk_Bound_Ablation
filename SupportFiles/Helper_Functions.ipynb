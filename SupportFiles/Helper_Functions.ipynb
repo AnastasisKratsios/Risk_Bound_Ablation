{
 "cells": [
  {
   "cell_type": "markdown",
   "id": "536463fe",
   "metadata": {},
   "source": [
    "# Helper Function(s)"
   ]
  },
  {
   "cell_type": "markdown",
   "id": "29fde1e5",
   "metadata": {},
   "source": [
    "## Digit Formatting Function"
   ]
  },
  {
   "cell_type": "code",
   "execution_count": null,
   "id": "5aed079b",
   "metadata": {},
   "outputs": [],
   "source": [
    "def format_e(n):\n",
    "    a = '%E' % n\n",
    "    return a.split('E')[0].rstrip('0').rstrip('.') + 'E' + a.split('E')[1]"
   ]
  },
  {
   "cell_type": "markdown",
   "id": "bf047ba6",
   "metadata": {},
   "source": [
    "## Internal Parameters"
   ]
  },
  {
   "cell_type": "code",
   "execution_count": null,
   "id": "d2346ab9",
   "metadata": {},
   "outputs": [],
   "source": [
    "# Generate Array of Representation Dimensions\n",
    "F_in = np.round(range(1,Representation_Space_Dim_Max))\n",
    "# Get Small Values\n",
    "F_in__1 = np.round(range(int(8*math.log(k)),int(20*math.log(k))))\n",
    "# Get Large Values\n",
    "F_in__2 = np.round(range(int(8*math.log(k)),int(Representation_Space_Dim_Max)))\n",
    "F_in__2 = np.random.choice(F_in__2,min(len(F_in__2),100), replace=False)\n",
    "# Assemble Values\n",
    "F_in = np.append(F_in,F_in__1)\n",
    "F_in = np.append(F_in,F_in__2)\n",
    "# Keep Unique\n",
    "F_in = np.sort(np.unique(F_in))"
   ]
  },
  {
   "cell_type": "markdown",
   "id": "7abd648e",
   "metadata": {},
   "source": [
    "---"
   ]
  },
  {
   "cell_type": "code",
   "execution_count": 2,
   "id": "698e1370",
   "metadata": {},
   "outputs": [
    {
     "name": "stdout",
     "output_type": "stream",
     "text": [
      "Helper Functions Loaded\n"
     ]
    }
   ],
   "source": [
    "print('Helper Functions Loaded')"
   ]
  },
  {
   "cell_type": "markdown",
   "id": "f683ccc5",
   "metadata": {},
   "source": [
    "---\n",
    "# Fin \n",
    "---"
   ]
  }
 ],
 "metadata": {
  "kernelspec": {
   "display_name": "Python 3 (ipykernel)",
   "language": "python",
   "name": "python3"
  },
  "language_info": {
   "codemirror_mode": {
    "name": "ipython",
    "version": 3
   },
   "file_extension": ".py",
   "mimetype": "text/x-python",
   "name": "python",
   "nbconvert_exporter": "python",
   "pygments_lexer": "ipython3",
   "version": "3.9.12"
  }
 },
 "nbformat": 4,
 "nbformat_minor": 5
}
