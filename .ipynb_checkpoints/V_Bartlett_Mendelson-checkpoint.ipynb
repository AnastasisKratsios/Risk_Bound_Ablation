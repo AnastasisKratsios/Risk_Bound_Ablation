{
 "cells": [
  {
   "cell_type": "markdown",
   "id": "620e92ab",
   "metadata": {},
   "source": [
    "# Plot Risk Bound: Comparison Against Rademacher Bounds (Bartlett and Mendelsen 2002)\n",
    "---"
   ]
  },
  {
   "cell_type": "markdown",
   "id": "611ed5d1",
   "metadata": {},
   "source": [
    "We benchark our risk bound against the following one of Bartlett and Mendelsen:"
   ]
  },
  {
   "cell_type": "markdown",
   "id": "bd13482b",
   "metadata": {},
   "source": [
    "From [Theorems 8 and 12](https://www.jmlr.org/papers/volume3/bartlett02a/bartlett02a.pdf) and [Lemma C.1](https://jmlr.org/papers/v24/22-1293.html) we have the following benmchark bound.\n",
    "\n",
    "The Rademacher complexity of the class of $L$-lipschitz functions, defined on a $d$-dimensional domain is bounded as\n",
    "$$\n",
    "    \\sup_{f \\in \\mathcal{F}_L} | \\mathfrak{R}(f ; \\mu) - \\hat{\\mathfrak{R}}(f) |\n",
    " \\le\n",
    " 2\n",
    " %%% Using Lemma C.1: Rademacher Complexity of \\mathcal{F}_L defined below\n",
    "    \\left( \\frac{8(d+1)^2D^2(16BL)^d}{N}\\right)^{1/(d+3)} + 4 \\sqrt{2} D \\left( \\frac{1}{N}\\frac{(16BL)^d}{(8(d+1)D)^{d+1}}\\right)^{1/(d+3)}\n",
    " %%%\n",
    " + \\|\\ell\\|_\\infty \\sqrt{\\frac{8\\log 2/\\delta}{N}}\n",
    "$$\n",
    "where $D := \\sup_{f \\in \\mathcal{F}_L} \\|f\\|_\\infty$ and $\\operatorname{diam}(\\mathcal{X}) \\leq B$."
   ]
  },
  {
   "cell_type": "markdown",
   "id": "3da6bc43",
   "metadata": {},
   "source": [
    "---"
   ]
  },
  {
   "cell_type": "code",
   "execution_count": 68,
   "id": "699a1024",
   "metadata": {},
   "outputs": [],
   "source": [
    "# Flag Risk-Engine that we are considering the Rademacher bound comparioson\n",
    "is_Rademacher = True"
   ]
  },
  {
   "cell_type": "markdown",
   "id": "2f38d727",
   "metadata": {},
   "source": [
    "---"
   ]
  },
  {
   "cell_type": "markdown",
   "id": "bb6deb0e",
   "metadata": {},
   "source": [
    "## For Reference: Euclidean Embedding Rates"
   ]
  },
  {
   "cell_type": "markdown",
   "id": "e8ca435c",
   "metadata": {},
   "source": [
    "For reference, the embeddings are.  We will restrict computations to the case where $8\\lceil \\ln k \\rceil < m\\le d$ to avoid computing $k$, and only working with $\\log(k)$."
   ]
  },
  {
   "cell_type": "markdown",
   "id": "f522c731",
   "metadata": {},
   "source": [
    "| $m$ | $m<d$ | Worst-Case Distortion $(\\tau(\\phi))$ | |\n",
    "| :--- | :--- | :---: | :---: |\n",
    "| $1\\le m \\le 2$ | Yes | $12\\,k$ |  |\n",
    "| $3 \\le m \\le 8 \\lceil \\ln k\\rceil$ | Yes | $\\frac{15 \\, \\log(k)^{1/2} k^{2/m}}{m^{1/2}}$ |   |\n",
    "| $8 \\lceil \\ln k\\rceil < m$ | Yes | $48 \\lfloor \\log_2 k + 1 \\rfloor(\\frac{m^{1/2} + 2 \\sqrt{2}\\log(k)^{1/2}}{m^{1/2} - 2\\sqrt{2}\\log(k)^{1/2}})^{1/2}$ |   |\n",
    "| $m\\ge d$ | No | $1$ |   |"
   ]
  },
  {
   "cell_type": "markdown",
   "id": "143837f0",
   "metadata": {},
   "source": [
    "---"
   ]
  },
  {
   "cell_type": "markdown",
   "id": "dbd5c942",
   "metadata": {},
   "source": [
    "All computations correspond to the Huber loss function $\\ell$ \n",
    "$$\n",
    "\\ell(y, \\tilde{y}) = \\begin{cases}\n",
    " \\frac{1}{2}(y - \\tilde{y})^2                   & \\text{for } |y - \\tilde{y}| \\le \\delta, \\\\\n",
    " \\delta\\ \\cdot \\left(|y - \\tilde{y}| - \\frac{1}{2}\\delta\\right), & \\text{otherwise.}\n",
    "\\end{cases}\n",
    "$$\n",
    "for each $y,\\tilde{y}\\in [0,\\infty)$.  Furthermore, for any $M\\ge 0$; the Huber loss function satisfies:\n",
    "- $1$-Lipschitz\n",
    "- $\\|\\ell|_{[0,M]^2}\\|_{\\infty}= M$."
   ]
  },
  {
   "cell_type": "markdown",
   "id": "c42f7617",
   "metadata": {},
   "source": [
    "## Lipschitz Constant of Hypothesis Class\n",
    "\n",
    "W.l.o.g. We consider $1$-Lipschitz functions but allow the option for more general classes."
   ]
  },
  {
   "cell_type": "code",
   "execution_count": 69,
   "id": "acc1fd71",
   "metadata": {},
   "outputs": [],
   "source": [
    "Lip_WorstCase = 1"
   ]
  },
  {
   "cell_type": "markdown",
   "id": "3caebf5a",
   "metadata": {},
   "source": [
    "## Defaults Parameters (Only exist to coerce to general risk engine).\n",
    "Default is 3; otherwise the comparison no longer applies to results of [Bartlett and Mendelson](https://www.jmlr.org/papers/volume3/bartlett02a/bartlett02a.pdf)."
   ]
  },
  {
   "cell_type": "code",
   "execution_count": 70,
   "id": "4cdfde4d",
   "metadata": {},
   "outputs": [],
   "source": [
    "# Default in this model.\n",
    "distortion_type = 3\n",
    "# This is also default to true for the same reason.\n",
    "Set_Lip_Constant = True"
   ]
  },
  {
   "cell_type": "markdown",
   "id": "3e11f2ba",
   "metadata": {},
   "source": [
    "### Number of Samples (N)"
   ]
  },
  {
   "cell_type": "markdown",
   "id": "1184bb0b",
   "metadata": {},
   "source": [
    "Number of training instances to consider roughly (N); depending on if ``N_is_Small`` is set to true or not:\n",
    "\n",
    "- if ``N_is_Small==True``: $N$ ranges from $\\lfloor N/10 \\rfloor$ to $N$\n",
    "- if ``N_is_Small==True``: $N$ ranges from $N^3$ to $N^4$"
   ]
  },
  {
   "cell_type": "code",
   "execution_count": 71,
   "id": "34d4f6a9",
   "metadata": {},
   "outputs": [],
   "source": [
    "N = 1*(10**4)"
   ]
  },
  {
   "cell_type": "code",
   "execution_count": 72,
   "id": "98d2377a",
   "metadata": {},
   "outputs": [],
   "source": [
    "N_is_Small = False"
   ]
  },
  {
   "cell_type": "markdown",
   "id": "4f3a333f",
   "metadata": {},
   "source": [
    "### The Structure of $\\mathcal{X}$ - k vs. N"
   ]
  },
  {
   "cell_type": "markdown",
   "id": "cc1e6943",
   "metadata": {},
   "source": [
    "#### We set k manually or we consider the no. Points Needed to Pack a Cube:\n",
    "\n",
    "From [George G. Lorentz, Manfred v. Golitschek, and Yuly Makovoz. Constructive approximation - Proposition 15.1.3](https://link.springer.com/book/9783642646102) the packing number of $[0,\\operatorname{1}]^d$ in $\\ell_{\\infty}^d$ by $\\ell_{\\infty}^d$-balls of radius $10^{-p}$ is no more than\n",
    "$$\n",
    "    \\Big\\lceil\n",
    "    2^{-d}\n",
    "            \\,\n",
    "            \\Big(10^{p}*\\operatorname{diam}\\Big)^d\n",
    "    \\Big\\rceil\n",
    "\\le \n",
    "    k\n",
    "\\le \n",
    "    \\Big\\lceil\n",
    "    3^{-d}\n",
    "            \\,\n",
    "            \\Big(10^{p}*\\operatorname{diam}\\Big)^d\n",
    "    \\Big\\rceil\n",
    "$$\n",
    "we use this lower-bound to compute $k$.\n",
    "\n",
    "If we only consider representation dimensions of at-least $\\lceil 8 \\, \\ln(k)\\rceil$ then $\\ln(k)$ is at-most\n",
    "$$\n",
    "    \\log(k)\n",
    "\\le\n",
    "    (d+1)\\big(\n",
    "                p\n",
    "                \\,\n",
    "                \\log(10) \n",
    "            + \n",
    "                 \\log(d/9)/2\n",
    "    \\big)    \n",
    ".\n",
    "$$"
   ]
  },
  {
   "cell_type": "markdown",
   "id": "1ea742cb",
   "metadata": {},
   "source": [
    "#### No. $\\ln(k)$\n",
    "Set the (natural) logarithmic number of points in the grid; i.e. induced by discrete computing limitations."
   ]
  },
  {
   "cell_type": "code",
   "execution_count": 73,
   "id": "a6225d14",
   "metadata": {},
   "outputs": [
    {
     "name": "stdout",
     "output_type": "stream",
     "text": [
      "Dimension: 100000\n",
      "Distance Between Points on the Grid: 0.0\n"
     ]
    }
   ],
   "source": [
    "d = 1*(10**5)\n",
    "p = 1*(10**6)\n",
    "\n",
    "print('Dimension: '+str(d))\n",
    "print('Distance Between Points on the Grid: '+str(10**-p))"
   ]
  },
  {
   "cell_type": "markdown",
   "id": "f219e741",
   "metadata": {},
   "source": [
    "### Compute Diameter of $[0,1]^d$"
   ]
  },
  {
   "cell_type": "code",
   "execution_count": 74,
   "id": "3d23ab21",
   "metadata": {},
   "outputs": [
    {
     "name": "stdout",
     "output_type": "stream",
     "text": [
      "Prototypical Space: [0,316.22776601683796]^100000\n"
     ]
    }
   ],
   "source": [
    "diam = d**(1/2)\n",
    "print('Prototypical Space: [0,'+str(diam)+']^'+str(d))"
   ]
  },
  {
   "cell_type": "markdown",
   "id": "e96a029b",
   "metadata": {},
   "source": [
    "Compute number of points on the grid."
   ]
  },
  {
   "cell_type": "code",
   "execution_count": 75,
   "id": "ab904b2a",
   "metadata": {},
   "outputs": [
    {
     "name": "stdout",
     "output_type": "stream",
     "text": [
      "The logarithmic number of points in the grid is at-most: 230260811889\n"
     ]
    }
   ],
   "source": [
    "import numpy as np\n",
    "print('The logarithmic number of points in the grid is at-most: '+str( int((d+1)*p*np.log(10) + np.log(d/9)/2 )))"
   ]
  },
  {
   "cell_type": "markdown",
   "id": "d9c70c4a",
   "metadata": {},
   "source": [
    "In this code, we do not allow for super low-dimensional embeddings; i.e. below representation dimension $\\lceil 8*\\ln(k)\\rceil$.  This is simply due to numerical issues with $k=\\mathcal{O}(10^{pd}\\,3^d)$ exploding, either as $p$ or $d$ diverge.  I.e. we can only stability work with $\\ln(k)$."
   ]
  },
  {
   "cell_type": "code",
   "execution_count": 76,
   "id": "2a724ec8",
   "metadata": {},
   "outputs": [],
   "source": [
    "## This version of \n",
    "# Euclidean_Distortion__Standard___log\n",
    "## Computes the distortion only in the case where F is at-least 8log(k).  \n",
    "## This is especially important when k is extremely large, e.g. high-dimensional grid rendering k unstorable.  \n",
    "## However, we only need ln(k) to compute the distortion of  moderate/high-dimensional embeddings \n",
    "## so this is typically not an issue anyhow.  We emphasize that the empirical Rademacher complexity scales \n",
    "## at a O(c^1/(d+3)) rate, for some constant $d$ so any $F<d$ is already good enough since the slow part \n",
    "## of our bound converges at a rate of $O(k^1/F)$ for some $c,k>0$ depending on the model class, X, and on Y.\n",
    "\n",
    "def Euclidean_Distortion__Standard___logk(F,p=p,d=d,verbose=False):\n",
    "\n",
    "    #-----------------------#\n",
    "    # Compute log grid size #\n",
    "    #-----------------------#\n",
    "    ln_k__1 = (d+1)\n",
    "    ln_k__2 = p*np.log(10) + np.log(d/9)/2\n",
    "    ln_k = ln_k__1*ln_k__2\n",
    "    \n",
    "    #-----------------------------------------#\n",
    "    ## Case-By-Case Definition of Quantities ## \n",
    "    #-----------------------------------------#\n",
    "    ## --------------------- ##\n",
    "    ## High Dimensional Case ##\n",
    "    ## --------------------- ##     \n",
    "    if d<= F:\n",
    "        if verbose:\n",
    "            print('High')\n",
    "        dist = 1\n",
    "    else:\n",
    "        ## -------------------------- ##\n",
    "        ## Ultra-Low Dimensional Case ##\n",
    "        ## -------------------------- ##\n",
    "        ### Here we use the worst-Case embedding for general metric spaces\n",
    "        if F<=2:\n",
    "            if verbose:\n",
    "                print('Ultra-Low')\n",
    "            # Set worst-Case distortion for embedding into at-most two-dimensional Euclidean space\n",
    "            dist = 12*np.exp(ln_k)\n",
    "        else:\n",
    "            ## -------------------- ##\n",
    "            ## Low Dimensional Case ##\n",
    "            ## -------------------- ##         \n",
    "            if 3 <= F and F <= np.round(math.log(k),0):\n",
    "                if verbose:\n",
    "                    print('Low')\n",
    "                dist__1 = 15\n",
    "                dist__2 = (np.exp(ln_k)**(2/F))\n",
    "                dist__3 = np.sqrt(ln_k/F)\n",
    "\n",
    "                dist = dist__1*dist__2*dist__3\n",
    "            else:\n",
    "                ## ----------------------- ##\n",
    "                ## Medium Dimensional Case ##\n",
    "                ## ----------------------- ##     \n",
    "                if verbose:\n",
    "                    print('Med')\n",
    "                dist = 48*math.floor(2*ln_k+1)\n",
    "\n",
    "    return dist"
   ]
  },
  {
   "cell_type": "code",
   "execution_count": 77,
   "id": "86598738",
   "metadata": {},
   "outputs": [],
   "source": [
    "def get_risk_bound__vs_BM___scalar(N,F,Risk_or_Concentration=True,Lip=Lip_WorstCase):\n",
    "    \n",
    "    # Compute Discretized Lipschitz Constant\n",
    "    Lip_WorstCase__discretized = Lip_WorstCase + 1\n",
    "\n",
    "    # Compute log grid size\n",
    "    ln_k__1 = (d+1)\n",
    "    ln_k__2 = p*np.log(10) + np.log(d/9)/2\n",
    "    ln_k = ln_k__1*ln_k__2\n",
    "    \n",
    "    ## ----------------------------- ##\n",
    "    ## Failsafe Low Dimensional Case ##\n",
    "    ## ----------------------------- ##\n",
    "    if F <= round(8*ln_k):\n",
    "        # diss allow low-dimensional embeddings\n",
    "        F = round(8*ln_k)\n",
    "        \n",
    "    #--------------------------------#\n",
    "    ## Compute Euclidean Distortion ##\n",
    "    #--------------------------------#\n",
    "    dist = Euclidean_Distortion__Standard___logk(F=F, k = k,d=d)\n",
    "    \n",
    "    \n",
    "    \n",
    "    #-------------------------------------------------------#\n",
    "    ## Case-By-Case Definition of Concentration Quantities ## \n",
    "    #-------------------------------------------------------#\n",
    "    \n",
    "    ## ------------------------ ##\n",
    "    ## Non-Low Dimensional Case ##\n",
    "    ## ------------------------ ##         \n",
    "    if F > 2:\n",
    "        # rate\n",
    "        rate = 1/(N**(1/F))\n",
    "        # C_F\n",
    "        C_F__1 = 2\n",
    "        C_F__2 = ((F/2)-1)/(2*(1-2**(1-(F/2))))\n",
    "        C_F__2 = C_F__2**(2/F)\n",
    "        C_F__3 = (1+1/(2*((F/2)-1)))\n",
    "        C_F__4 = np.sqrt(F)\n",
    "        C_F = C_F__1*C_F__2*C_F__3*C_F__4\n",
    "\n",
    "\n",
    "    \n",
    "    #-----------------#\n",
    "    ## Compute Bound ## \n",
    "    #-----------------#\n",
    "      \n",
    "    #### Get Dependancies\n",
    "    bound__1 = Lip_WorstCase__discretized*diam\n",
    "    bound__2 = C_F*(2*dist-1)*rate\n",
    "    bound__3 = (math.log(2/delta)**.5)**dist\n",
    "    bound__4 = 1/np.sqrt(N)\n",
    "    #### Compute Bound\n",
    "    bound = bound__1*bound__2*(bound__3+bound__4)\n",
    "\n",
    "    return bound"
   ]
  },
  {
   "cell_type": "markdown",
   "id": "deaca908",
   "metadata": {},
   "source": [
    "## Import Packages and Set Global Hyperparameters"
   ]
  },
  {
   "cell_type": "code",
   "execution_count": 78,
   "id": "a60a845a",
   "metadata": {},
   "outputs": [
    {
     "name": "stdout",
     "output_type": "stream",
     "text": [
      "Dependancies and Packages Loaded\n",
      "---\n"
     ]
    }
   ],
   "source": [
    "%run ./SupportFiles/Dependancies.ipynb\n",
    "print('---')"
   ]
  },
  {
   "cell_type": "markdown",
   "id": "ac0ca770",
   "metadata": {},
   "source": [
    "# Set Global Parameters"
   ]
  },
  {
   "cell_type": "markdown",
   "id": "a13dbad0",
   "metadata": {},
   "source": [
    "#### Decide on How Many Points to Use?"
   ]
  },
  {
   "cell_type": "markdown",
   "id": "d0170410",
   "metadata": {},
   "source": [
    "Load Global hyperparameters, now that internal parameters have been defined."
   ]
  },
  {
   "cell_type": "code",
   "execution_count": 79,
   "id": "36c37f63",
   "metadata": {},
   "outputs": [
    {
     "name": "stdout",
     "output_type": "stream",
     "text": [
      "Results are to Hold with Probability at-least: 95.0%\n",
      "Max Representation Space Dimension (F aka m): 4.605170185988092\n",
      "---\n"
     ]
    }
   ],
   "source": [
    "%run ./SupportFiles/Global_Hyperparameters.ipynb\n",
    "print('---')"
   ]
  },
  {
   "cell_type": "markdown",
   "id": "86c7b66d",
   "metadata": {},
   "source": [
    "---"
   ]
  },
  {
   "cell_type": "markdown",
   "id": "40ec195e",
   "metadata": {},
   "source": [
    "#### Load helper functions."
   ]
  },
  {
   "cell_type": "code",
   "execution_count": 80,
   "id": "fbb1feb4",
   "metadata": {},
   "outputs": [
    {
     "name": "stdout",
     "output_type": "stream",
     "text": [
      "---\n",
      "Helper Functions Loaded\n",
      "---\n"
     ]
    }
   ],
   "source": [
    "print('---')\n",
    "%run ./SupportFiles/Helper_Functions.ipynb\n",
    "print('---')"
   ]
  },
  {
   "cell_type": "markdown",
   "id": "67d2e371",
   "metadata": {},
   "source": [
    "## Generate Plot"
   ]
  },
  {
   "cell_type": "markdown",
   "id": "7675c1ed",
   "metadata": {},
   "source": [
    "---"
   ]
  },
  {
   "cell_type": "markdown",
   "id": "83cdf5b4",
   "metadata": {},
   "source": [
    "Load risk bound functions."
   ]
  },
  {
   "cell_type": "code",
   "execution_count": 81,
   "id": "36f5b6e6",
   "metadata": {},
   "outputs": [],
   "source": [
    "%run ./SupportFiles/Risk_Bound_Engine-BMComparison.ipynb"
   ]
  },
  {
   "cell_type": "markdown",
   "id": "b0734ea5",
   "metadata": {},
   "source": [
    "---"
   ]
  },
  {
   "cell_type": "markdown",
   "id": "83d34007",
   "metadata": {},
   "source": [
    "#### Compute"
   ]
  },
  {
   "cell_type": "markdown",
   "id": "bdbb011d",
   "metadata": {},
   "source": [
    "Generate a list of all embedding dimensions to be considered."
   ]
  },
  {
   "cell_type": "code",
   "execution_count": 82,
   "id": "c21bae7e",
   "metadata": {},
   "outputs": [
    {
     "data": {
      "text/plain": [
       "968"
      ]
     },
     "execution_count": 82,
     "metadata": {},
     "output_type": "execute_result"
    }
   ],
   "source": [
    "len(range(int(8*np.log(d)),int(8*(np.log(d)**2))))"
   ]
  },
  {
   "cell_type": "code",
   "execution_count": 83,
   "id": "81f5eaf6",
   "metadata": {},
   "outputs": [
    {
     "name": "stdout",
     "output_type": "stream",
     "text": [
      "0\n",
      "We will do 220 iterations.\n"
     ]
    }
   ],
   "source": [
    "# Moderate Embedding Dimension Rates vs. Distortion\n",
    "F_indexing_set__intermediary_distortionVSConcentration = range(int(8*np.log(d)),int(8*(np.log(d)**1.5)))\n",
    "# Low Dist\n",
    "# F_indexing_set__LowDistortion = range( int(min(max(8*np.log(d),d/2)+1,d)) )\n",
    "F_indexing_set__LowDistortion = range( int(min(max(8*np.log(d),d*.99999)+1,d)), d )\n",
    "print(len(F_indexing_set__LowDistortion))\n",
    "\n",
    "# Assemble Values\n",
    "F_indexing_set = np.append(F_indexing_set__intermediary_distortionVSConcentration,\n",
    "                           F_indexing_set__LowDistortion)\n",
    "\n",
    "# Keep Unique and Sort\n",
    "F_indexing_set = np.sort(np.unique(F_indexing_set))\n",
    "\n",
    "print('We will do '+str(len(F_indexing_set))+' iterations.')"
   ]
  },
  {
   "cell_type": "code",
   "execution_count": null,
   "id": "edbfc0cd",
   "metadata": {},
   "outputs": [
    {
     "name": "stderr",
     "output_type": "stream",
     "text": [
      " 25%|█████████▍                           | 56/220 [00:03<00:10, 15.49it/s]"
     ]
    }
   ],
   "source": [
    "#### Compute digital computing bound\n",
    "for F_global in tqdm(F_indexing_set):\n",
    "    # Set Value of F\n",
    "#     F_global = int(indexing_set[i])\n",
    "    \n",
    "#     print(F_global)\n",
    "#     print(F_global<=d)\n",
    "    \n",
    "    if F_global >d:\n",
    "        print('Breaking Loop Early at representation dimension: ' + str(F_global)+'.')\n",
    "        print('Further Improvement Impossible.')\n",
    "        break\n",
    "\n",
    "        \n",
    "\n",
    "    def get_risk_bound__NVar__MBCompare_scalar(N):\n",
    "        return get_risk_bound__vs_BM___scalar(F=F_global,N=N,d=d)\n",
    "\n",
    "    get_risk_bound__NVar__MBCompare = np.vectorize(get_risk_bound__NVar__MBCompare_scalar)\n",
    "    \n",
    "    if F_global == min(F_indexing_set):\n",
    "        # Compute Risk Bound\n",
    "        Risk_Bounds_DC = get_risk_bound__NVar__MBCompare(N_sequence)\n",
    "    else:\n",
    "        # Compute Risk Bound\n",
    "        Risk_Bounds_DC__loop = get_risk_bound__NVar__MBCompare(N_sequence)\n",
    "        Risk_Bounds_DC = np.minimum(Risk_Bounds_DC,Risk_Bounds_DC__loop)\n",
    "#     print(Risk_Bounds_DC)"
   ]
  },
  {
   "cell_type": "markdown",
   "id": "a557f590",
   "metadata": {},
   "source": [
    "Plot without Bartlett and Mendelson bound."
   ]
  },
  {
   "cell_type": "code",
   "execution_count": null,
   "id": "1bccaa24",
   "metadata": {},
   "outputs": [],
   "source": [
    "plt.figure(figsize=(10,10))\n",
    "sns.set_style(\"darkgrid\")\n",
    "\n",
    "plt.title('p='+str('{:.2e}'.format(p))+'d='+str('{:.2e}'.format(p))+', Varying F and N')\n",
    "    \n",
    "\n",
    "plt.xlabel('No. Samples (N)')\n",
    "plt.ylabel('Risk Bound')\n",
    "\n",
    "    \n",
    "# Plot Risk-Bound\n",
    "plt.plot(N_sequence, \n",
    "     Risk_Bounds_DC,\n",
    "     label = 'F= w. Digital Computing')\n",
    "\n",
    "plt.legend()"
   ]
  },
  {
   "cell_type": "code",
   "execution_count": null,
   "id": "6e339eef",
   "metadata": {},
   "outputs": [],
   "source": [
    "#### Compute continuous space bound (Bartlett and Mendelson)\n",
    "Risk_Bounds_Cnt = Rad_Comp_Bound(N_sequence)"
   ]
  },
  {
   "cell_type": "markdown",
   "id": "87ffdf8d",
   "metadata": {},
   "source": [
    "#### Plot BM Risk Bounds Only (for Visualization)"
   ]
  },
  {
   "cell_type": "code",
   "execution_count": null,
   "id": "92eece9e",
   "metadata": {},
   "outputs": [],
   "source": [
    "ax = plt.figure(figsize=(10,10))\n",
    "sns.set_style(\"darkgrid\")\n",
    "\n",
    "plt.plot(N_sequence, \n",
    "     Risk_Bounds_Cnt,\n",
    "     label = 'F= Idealized',c='orange')\n",
    "\n",
    "plt.legend()\n",
    "    \n",
    "    \n",
    "plt.xlabel('No. Samples (N)',fontsize=10)\n",
    "plt.ylabel('Risk Bound',fontsize=10)\n",
    "plt.xticks(fontsize=10)\n",
    "plt.yticks(fontsize=10)\n",
    "\n",
    "# ----------------------------------------------------- #\n",
    "\n",
    "plt.savefig('Experiments/Risk_Bound_F/BMCompare_'+str(N_is_Small)+'____p___'+str(p)+'___d____'+str(d)+'.pdf')\n",
    "plt.show()"
   ]
  },
  {
   "cell_type": "markdown",
   "id": "736b3dd8",
   "metadata": {},
   "source": [
    "## Plot"
   ]
  },
  {
   "cell_type": "code",
   "execution_count": null,
   "id": "38e744c1",
   "metadata": {},
   "outputs": [],
   "source": [
    "ax = plt.figure(figsize=(10,10))\n",
    "sns.set_style(\"darkgrid\")\n",
    "\n",
    "plt.title('p='+str('{:.2e}'.format(p))+'d='+str('{:.2e}'.format(p))+', Varying F and N')\n",
    "    \n",
    "\n",
    "plt.xlabel('No. Samples (N)')\n",
    "plt.ylabel('Risk Bound')# on $\\sup_{f\\in \\mathcal{F}}\\,|\\mathcal{R}(\\hat{f})-\\hat{\\mathcal{R}}(\\hat{f})|$')\n",
    "\n",
    "    \n",
    "# Plot Risk-Bound\n",
    "plt.plot(N_sequence, \n",
    "     Risk_Bounds_DC,\n",
    "     label = 'F= w. Digital Computing')\n",
    "\n",
    "plt.plot(N_sequence, \n",
    "     Risk_Bounds_Cnt,\n",
    "     label = 'F= Idealized')\n",
    "\n",
    "plt.legend()\n",
    "    \n",
    "    \n",
    "plt.xlabel('No. Samples (N)',fontsize=10)\n",
    "plt.ylabel('Risk Bound',fontsize=10)\n",
    "plt.xticks(fontsize=10)\n",
    "plt.yticks(fontsize=10)\n",
    "\n",
    "# ----------------------------------------------------- #\n",
    "\n",
    "plt.savefig('Experiments/Risk_Bound_F/BMCompare_'+str(N_is_Small)+'____p___'+str(p)+'___d____'+str(d)+'.pdf')\n",
    "plt.show()"
   ]
  },
  {
   "cell_type": "code",
   "execution_count": null,
   "id": "bb29ce06",
   "metadata": {},
   "outputs": [],
   "source": [
    "print('N Min: '+latex_float(N_min))\n",
    "print('N Max: '+latex_float(N_max))\n",
    "print('For Paper:')\n",
    "print(latex_float(N_min)+'<N<'+latex_float(N_max))\n",
    "print('dimension: '+latex_float(d))\n",
    "print('p: '+latex_float(p))"
   ]
  },
  {
   "cell_type": "markdown",
   "id": "fe786fcd",
   "metadata": {},
   "source": [
    "---\n",
    "# Fin #\n",
    "---"
   ]
  },
  {
   "cell_type": "markdown",
   "id": "f8526889",
   "metadata": {},
   "source": [
    "---"
   ]
  },
  {
   "cell_type": "markdown",
   "id": "515628f0",
   "metadata": {},
   "source": [
    "---"
   ]
  }
 ],
 "metadata": {
  "kernelspec": {
   "display_name": "Python 3 (ipykernel)",
   "language": "python",
   "name": "python3"
  },
  "language_info": {
   "codemirror_mode": {
    "name": "ipython",
    "version": 3
   },
   "file_extension": ".py",
   "mimetype": "text/x-python",
   "name": "python",
   "nbconvert_exporter": "python",
   "pygments_lexer": "ipython3",
   "version": "3.9.12"
  }
 },
 "nbformat": 4,
 "nbformat_minor": 5
}
