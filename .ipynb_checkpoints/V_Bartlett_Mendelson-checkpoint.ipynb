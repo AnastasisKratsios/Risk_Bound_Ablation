{
 "cells": [
  {
   "cell_type": "markdown",
   "id": "620e92ab",
   "metadata": {},
   "source": [
    "# Plot Risk Bound: Comparison Against Rademacher Bounds (Bartlett and Mendelsen 2002)\n",
    "---"
   ]
  },
  {
   "cell_type": "markdown",
   "id": "179bcc2c",
   "metadata": {},
   "source": [
    "We benchark our risk bound against the following one of Bartlett and Mendelsen:"
   ]
  },
  {
   "cell_type": "markdown",
   "id": "b4cb1f8d",
   "metadata": {},
   "source": [
    "From [Theorems 8 and 12](https://www.jmlr.org/papers/volume3/bartlett02a/bartlett02a.pdf) and [Lemma C.1](https://jmlr.org/papers/v24/22-1293.html) we have the following benmchark bound.\n",
    "\n",
    "The Rademacher complexity of the class of $L$-lipschitz functions, defined on a $d$-dimensional domain is bounded as\n",
    "$$\n",
    "    \\sup_{f \\in \\mathcal{F}_L} | \\mathfrak{R}(f ; \\mu) - \\hat{\\mathfrak{R}}(f) |\n",
    " \\le\n",
    " 2\n",
    " %%% Using Lemma C.1: Rademacher Complexity of \\mathcal{F}_L defined below\n",
    "    \\left( \\frac{8(d+1)^2D^2(16BL)^d}{N}\\right)^{1/(d+3)} + 4 \\sqrt{2} D \\left( \\frac{1}{N}\\frac{(16BL)^d}{(8(d+1)D)^{d+1}}\\right)^{1/(d+3)}\n",
    " %%%\n",
    " + \\|\\ell\\|_\\infty \\sqrt{\\frac{8\\log 2/\\delta}{N}}\n",
    "$$\n",
    "where $D := \\sup_{f \\in \\mathcal{F}_L} \\|f\\|_\\infty$ and $\\operatorname{diam}(\\mathcal{X}) \\leq B$."
   ]
  },
  {
   "cell_type": "markdown",
   "id": "12573681",
   "metadata": {},
   "source": [
    "---"
   ]
  },
  {
   "cell_type": "code",
   "execution_count": 1,
   "id": "a27b2509",
   "metadata": {},
   "outputs": [],
   "source": [
    "# Flag Risk-Engine that we are considering the Rademacher bound comparioson\n",
    "is_Rademacher = True"
   ]
  },
  {
   "cell_type": "markdown",
   "id": "2f38d727",
   "metadata": {},
   "source": [
    "---"
   ]
  },
  {
   "cell_type": "markdown",
   "id": "a96c8d90",
   "metadata": {},
   "source": [
    "## For Reference: Euclidean Embedding Rates"
   ]
  },
  {
   "cell_type": "markdown",
   "id": "7ab86a28",
   "metadata": {},
   "source": [
    "For reference, the embeddings are.  We will restrict computations to the case where $8\\lceil \\ln k \\rceil < m\\le d$ to avoid computing $k$, and only working with $\\log(k)$."
   ]
  },
  {
   "cell_type": "markdown",
   "id": "f0894125",
   "metadata": {},
   "source": [
    "| $m$ | $m<d$ | Worst-Case Distortion $(\\tau(\\phi))$ | |\n",
    "| :--- | :--- | :---: | :---: |\n",
    "| $1\\le m \\le 2$ | Yes | $12\\,k$ |  |\n",
    "| $3 \\le m \\le 8 \\lceil \\ln k\\rceil$ | Yes | $\\frac{15 \\, \\log(k)^{1/2} k^{2/m}}{m^{1/2}}$ |   |\n",
    "| $8 \\lceil \\ln k\\rceil < m$ | Yes | $48 \\lfloor \\log_2 k + 1 \\rfloor(\\frac{m^{1/2} + 2 \\sqrt{2}\\log(k)^{1/2}}{m^{1/2} - 2\\sqrt{2}\\log(k)^{1/2}})^{1/2}$ |   |\n",
    "| $m\\ge d$ | No | $1$ |   |"
   ]
  },
  {
   "cell_type": "markdown",
   "id": "cb75affd",
   "metadata": {},
   "source": [
    "---"
   ]
  },
  {
   "cell_type": "markdown",
   "id": "dbd5c942",
   "metadata": {},
   "source": [
    "All computations correspond to the Huber loss function $\\ell$ \n",
    "$$\n",
    "\\ell(y, \\tilde{y}) = \\begin{cases}\n",
    " \\frac{1}{2}(y - \\tilde{y})^2                   & \\text{for } |y - \\tilde{y}| \\le \\delta, \\\\\n",
    " \\delta\\ \\cdot \\left(|y - \\tilde{y}| - \\frac{1}{2}\\delta\\right), & \\text{otherwise.}\n",
    "\\end{cases}\n",
    "$$\n",
    "for each $y,\\tilde{y}\\in [0,\\infty)$.  Furthermore, for any $M\\ge 0$; the Huber loss function satisfies:\n",
    "- $1$-Lipschitz\n",
    "- $\\|\\ell|_{[0,M]^2}\\|_{\\infty}= M$."
   ]
  },
  {
   "cell_type": "markdown",
   "id": "346777a7",
   "metadata": {},
   "source": [
    "## Lipschitz Constant of Hypothesis Class\n",
    "\n",
    "W.l.o.g. We consider $1$-Lipschitz functions but allow the option for more general classes."
   ]
  },
  {
   "cell_type": "code",
   "execution_count": 2,
   "id": "e59ef61b",
   "metadata": {},
   "outputs": [],
   "source": [
    "Lip_WorstCase = 1"
   ]
  },
  {
   "cell_type": "markdown",
   "id": "205467e7",
   "metadata": {},
   "source": [
    "## Defaults Parameters (Only exist to coerce to general risk engine).\n",
    "Default is 3; otherwise the comparison no longer applies to results of [Bartlett and Mendelson](https://www.jmlr.org/papers/volume3/bartlett02a/bartlett02a.pdf)."
   ]
  },
  {
   "cell_type": "code",
   "execution_count": 3,
   "id": "070f5537",
   "metadata": {},
   "outputs": [],
   "source": [
    "# Default in this model.\n",
    "distortion_type = 3\n",
    "# This is also default to true for the same reason.\n",
    "Set_Lip_Constant = True"
   ]
  },
  {
   "cell_type": "markdown",
   "id": "9047a3e4",
   "metadata": {},
   "source": [
    "### Number of Samples (N)"
   ]
  },
  {
   "cell_type": "markdown",
   "id": "b15b8517",
   "metadata": {},
   "source": [
    "Number of training instances to consider roughly (N); depending on if ``N_is_Small`` is set to true or not:\n",
    "\n",
    "- if ``N_is_Small==True``: $N$ ranges from $\\lfloor N/10 \\rfloor$ to $N$\n",
    "- if ``N_is_Small==True``: $N$ ranges from $N^3$ to $N^4$"
   ]
  },
  {
   "cell_type": "code",
   "execution_count": 4,
   "id": "34d4f6a9",
   "metadata": {},
   "outputs": [],
   "source": [
    "N = 1*(10**4)"
   ]
  },
  {
   "cell_type": "code",
   "execution_count": 5,
   "id": "3f7b1c96",
   "metadata": {},
   "outputs": [],
   "source": [
    "N_is_Small = True"
   ]
  },
  {
   "cell_type": "markdown",
   "id": "4f3a333f",
   "metadata": {},
   "source": [
    "### The Structure of $\\mathcal{X}$ - k vs. N"
   ]
  },
  {
   "cell_type": "markdown",
   "id": "cc1e6943",
   "metadata": {},
   "source": [
    "#### We set k manually or we consider the no. Points Needed to Pack a Cube:\n",
    "\n",
    "From [George G. Lorentz, Manfred v. Golitschek, and Yuly Makovoz. Constructive approximation - Proposition 15.1.3](https://link.springer.com/book/9783642646102) the packing number of $[0,\\operatorname{1}]^d$ in $\\ell_{\\infty}^d$ by $\\ell_{\\infty}^d$-balls of radius $10^{-p}$ is no more than\n",
    "$$\n",
    "    \\Big\\lceil\n",
    "    2^{-d}\n",
    "            \\,\n",
    "            \\Big(10^{p}*\\operatorname{diam}\\Big)^d\n",
    "    \\Big\\rceil\n",
    "\\le \n",
    "    k\n",
    "\\le \n",
    "    \\Big\\lceil\n",
    "    3^{-d}\n",
    "            \\,\n",
    "            \\Big(10^{p}*\\operatorname{diam}\\Big)^d\n",
    "    \\Big\\rceil\n",
    "$$\n",
    "we use this lower-bound to compute $k$.\n",
    "\n",
    "If we only consider representation dimensions of at-least $\\lceil 8 \\, \\ln(k)\\rceil$ then $\\ln(k)$ is at-most\n",
    "$$\n",
    "    \\log(k)\n",
    "\\le\n",
    "    (d+1)\\big(\n",
    "                p\n",
    "                \\,\n",
    "                \\log(10) \n",
    "            + \n",
    "                 \\log(d/9)/2\n",
    "    \\big)    \n",
    ".\n",
    "$$"
   ]
  },
  {
   "cell_type": "markdown",
   "id": "6a1b7927",
   "metadata": {},
   "source": [
    "#### No. $\\ln(k)$\n",
    "Set the (natural) logarithmic number of points in the grid; i.e. induced by discrete computing limitations."
   ]
  },
  {
   "cell_type": "code",
   "execution_count": 6,
   "id": "3f128faa",
   "metadata": {},
   "outputs": [
    {
     "name": "stdout",
     "output_type": "stream",
     "text": [
      "Dimension: 100000\n",
      "Distance Between Points on the Grid: 0.0\n"
     ]
    }
   ],
   "source": [
    "d = 1*(10**5)\n",
    "p = 1*(10**6)\n",
    "\n",
    "print('Dimension: '+str(d))\n",
    "print('Distance Between Points on the Grid: '+str(10**-p))"
   ]
  },
  {
   "cell_type": "markdown",
   "id": "9acb2f70",
   "metadata": {},
   "source": [
    "### Compute Diameter of $[0,1]^d$"
   ]
  },
  {
   "cell_type": "code",
   "execution_count": 7,
   "id": "1296950b",
   "metadata": {},
   "outputs": [
    {
     "name": "stdout",
     "output_type": "stream",
     "text": [
      "Prototypical Space: [0,316.22776601683796]^100000\n"
     ]
    }
   ],
   "source": [
    "diam = d**(1/2)\n",
    "print('Prototypical Space: [0,'+str(diam)+']^'+str(d))"
   ]
  },
  {
   "cell_type": "markdown",
   "id": "33eb3ebb",
   "metadata": {},
   "source": [
    "Compute number of points on the grid."
   ]
  },
  {
   "cell_type": "code",
   "execution_count": 8,
   "id": "01acb896",
   "metadata": {},
   "outputs": [
    {
     "name": "stdout",
     "output_type": "stream",
     "text": [
      "The logarithmic number of points in the grid is at-most: 230260811889\n"
     ]
    }
   ],
   "source": [
    "import numpy as np\n",
    "print('The logarithmic number of points in the grid is at-most: '+str( int((d+1)*p*np.log(10) + np.log(d/9)/2 )))"
   ]
  },
  {
   "cell_type": "markdown",
   "id": "f254f77b",
   "metadata": {},
   "source": [
    "In this code, we do not allow for super low-dimensional embeddings; i.e. below representation dimension $\\lceil 8*\\ln(k)\\rceil$.  This is simply due to numerical issues with $k=\\mathcal{O}(10^{pd}\\,3^d)$ exploding, either as $p$ or $d$ diverge.  I.e. we can only stability work with $\\ln(k)$."
   ]
  },
  {
   "cell_type": "code",
   "execution_count": 9,
   "id": "a3afd1aa",
   "metadata": {},
   "outputs": [],
   "source": [
    "## This version of \n",
    "# Euclidean_Distortion__Standard___log\n",
    "## Computes the distortion only in the case where F is at-least 8log(k).  \n",
    "## This is especially important when k is extremely large, e.g. high-dimensional grid rendering k unstorable.  \n",
    "## However, we only need ln(k) to compute the distortion of  moderate/high-dimensional embeddings \n",
    "## so this is typically not an issue anyhow.  We emphasize that the empirical Rademacher complexity scales \n",
    "## at a O(c^1/(d+3)) rate, for some constant $d$ so any $F<d$ is already good enough since the slow part \n",
    "## of our bound converges at a rate of $O(k^1/F)$ for some $c,k>0$ depending on the model class, X, and on Y.\n",
    "\n",
    "def Euclidean_Distortion__Standard___logk(F,p=p,d=d,verbose=False):\n",
    "\n",
    "    #-----------------------#\n",
    "    # Compute log grid size #\n",
    "    #-----------------------#\n",
    "    ln_k__1 = (d+1)\n",
    "    ln_k__2 = p*np.log(10) + np.log(d/9)/2\n",
    "    ln_k = ln_k__1*ln_k__2\n",
    "    \n",
    "    #-----------------------------------------#\n",
    "    ## Case-By-Case Definition of Quantities ## \n",
    "    #-----------------------------------------#\n",
    "    ## --------------------- ##\n",
    "    ## High Dimensional Case ##\n",
    "    ## --------------------- ##     \n",
    "    if d<= F:\n",
    "        if verbose:\n",
    "            print('High')\n",
    "        dist = 1\n",
    "    else:\n",
    "        ## -------------------------- ##\n",
    "        ## Ultra-Low Dimensional Case ##\n",
    "        ## -------------------------- ##\n",
    "        ### Here we use the worst-Case embedding for general metric spaces\n",
    "        if F<=2:\n",
    "            if verbose:\n",
    "                print('Ultra-Low')\n",
    "            # Set worst-Case distortion for embedding into at-most two-dimensional Euclidean space\n",
    "            dist = 12*np.exp(ln_k)\n",
    "        else:\n",
    "            ## -------------------- ##\n",
    "            ## Low Dimensional Case ##\n",
    "            ## -------------------- ##         \n",
    "            if 3 <= F and F <= np.round(math.log(k),0):\n",
    "                if verbose:\n",
    "                    print('Low')\n",
    "                dist__1 = 15\n",
    "                dist__2 = (np.exp(ln_k)**(2/F))\n",
    "                dist__3 = np.sqrt(ln_k/F)\n",
    "\n",
    "                dist = dist__1*dist__2*dist__3\n",
    "            else:\n",
    "                ## ----------------------- ##\n",
    "                ## Medium Dimensional Case ##\n",
    "                ## ----------------------- ##     \n",
    "                if verbose:\n",
    "                    print('Med')\n",
    "                dist = 48*math.floor(2*ln_k+1)\n",
    "\n",
    "    return dist"
   ]
  },
  {
   "cell_type": "code",
   "execution_count": 10,
   "id": "09c0e843",
   "metadata": {},
   "outputs": [],
   "source": [
    "def get_risk_bound__vs_BM___scalar(N,F,Risk_or_Concentration=True,Lip=Lip_WorstCase):\n",
    "    \n",
    "    # Compute Discretized Lipschitz Constant\n",
    "    Lip_WorstCase__discretized = Lip_WorstCase + 1\n",
    "\n",
    "    # Compute log grid size\n",
    "    ln_k__1 = (d+1)\n",
    "    ln_k__2 = p*np.log(10) + np.log(d/9)/2\n",
    "    ln_k = ln_k__1*ln_k__2\n",
    "    \n",
    "    ## ----------------------------- ##\n",
    "    ## Failsafe Low Dimensional Case ##\n",
    "    ## ----------------------------- ##\n",
    "    if F <= round(8*ln_k):\n",
    "        # diss allow low-dimensional embeddings\n",
    "        F = round(8*ln_k)\n",
    "        \n",
    "    #--------------------------------#\n",
    "    ## Compute Euclidean Distortion ##\n",
    "    #--------------------------------#\n",
    "    dist = Euclidean_Distortion__Standard___logk(F=F, k = k,d=d)\n",
    "    \n",
    "    \n",
    "    \n",
    "    #-------------------------------------------------------#\n",
    "    ## Case-By-Case Definition of Concentration Quantities ## \n",
    "    #-------------------------------------------------------#\n",
    "    \n",
    "    ## ------------------------ ##\n",
    "    ## Non-Low Dimensional Case ##\n",
    "    ## ------------------------ ##         \n",
    "    if F > 2:\n",
    "        # rate\n",
    "        rate = 1/(N**(1/F))\n",
    "        # C_F\n",
    "        C_F__1 = 2\n",
    "        C_F__2 = ((F/2)-1)/(2*(1-2**(1-(F/2))))\n",
    "        C_F__2 = C_F__2**(2/F)\n",
    "        C_F__3 = (1+1/(2*((F/2)-1)))\n",
    "        C_F__4 = np.sqrt(F)\n",
    "        C_F = C_F__1*C_F__2*C_F__3*C_F__4\n",
    "\n",
    "\n",
    "    \n",
    "    #-----------------#\n",
    "    ## Compute Bound ## \n",
    "    #-----------------#\n",
    "      \n",
    "    #### Get Dependancies\n",
    "    bound__1 = Lip_WorstCase__discretized*diam\n",
    "    bound__2 = C_F*(2*dist-1)*rate\n",
    "    bound__3 = (math.log(2/delta)**.5)**dist\n",
    "    bound__4 = 1/np.sqrt(N)\n",
    "    #### Compute Bound\n",
    "    bound = bound__1*bound__2*(bound__3+bound__4)\n",
    "\n",
    "    return bound"
   ]
  },
  {
   "cell_type": "markdown",
   "id": "deaca908",
   "metadata": {},
   "source": [
    "## Import Packages and Set Global Hyperparameters"
   ]
  },
  {
   "cell_type": "code",
   "execution_count": 11,
   "id": "a60a845a",
   "metadata": {},
   "outputs": [
    {
     "name": "stdout",
     "output_type": "stream",
     "text": [
      "Dependancies and Packages Loaded\n",
      "---\n"
     ]
    }
   ],
   "source": [
    "%run ./SupportFiles/Dependancies.ipynb\n",
    "print('---')"
   ]
  },
  {
   "cell_type": "markdown",
   "id": "ac0ca770",
   "metadata": {},
   "source": [
    "# Set Global Parameters"
   ]
  },
  {
   "cell_type": "markdown",
   "id": "a13dbad0",
   "metadata": {},
   "source": [
    "#### Decide on How Many Points to Use?"
   ]
  },
  {
   "cell_type": "markdown",
   "id": "d0170410",
   "metadata": {},
   "source": [
    "Load Global hyperparameters, now that internal parameters have been defined."
   ]
  },
  {
   "cell_type": "code",
   "execution_count": 12,
   "id": "36c37f63",
   "metadata": {},
   "outputs": [
    {
     "name": "stdout",
     "output_type": "stream",
     "text": [
      "Results are to Hold with Probability at-least: 95.0%\n",
      "Max Representation Space Dimension (F aka m): 4.605170185988092\n",
      "---\n"
     ]
    }
   ],
   "source": [
    "%run ./SupportFiles/Global_Hyperparameters.ipynb\n",
    "print('---')"
   ]
  },
  {
   "cell_type": "markdown",
   "id": "86c7b66d",
   "metadata": {},
   "source": [
    "---"
   ]
  },
  {
   "cell_type": "markdown",
   "id": "40ec195e",
   "metadata": {},
   "source": [
    "#### Load helper functions."
   ]
  },
  {
   "cell_type": "code",
   "execution_count": 13,
   "id": "fbb1feb4",
   "metadata": {},
   "outputs": [
    {
     "name": "stdout",
     "output_type": "stream",
     "text": [
      "---\n",
      "Helper Functions Loaded\n",
      "---\n"
     ]
    }
   ],
   "source": [
    "print('---')\n",
    "%run ./SupportFiles/Helper_Functions.ipynb\n",
    "print('---')"
   ]
  },
  {
   "cell_type": "markdown",
   "id": "67d2e371",
   "metadata": {},
   "source": [
    "## Generate Plot"
   ]
  },
  {
   "cell_type": "markdown",
   "id": "7675c1ed",
   "metadata": {},
   "source": [
    "---"
   ]
  },
  {
   "cell_type": "markdown",
   "id": "83cdf5b4",
   "metadata": {},
   "source": [
    "Load risk bound functions."
   ]
  },
  {
   "cell_type": "code",
   "execution_count": 14,
   "id": "36f5b6e6",
   "metadata": {},
   "outputs": [],
   "source": [
    "%run ./SupportFiles/Risk_Bound_Engine-BMComparison.ipynb"
   ]
  },
  {
   "cell_type": "markdown",
   "id": "b0734ea5",
   "metadata": {},
   "source": [
    "---"
   ]
  },
  {
   "cell_type": "markdown",
   "id": "b92da71b",
   "metadata": {},
   "source": [
    "#### Compute"
   ]
  },
  {
   "cell_type": "markdown",
   "id": "0195e939",
   "metadata": {},
   "source": [
    "Generate a list of all embedding dimensions to be considered."
   ]
  },
  {
   "cell_type": "code",
   "execution_count": 15,
   "id": "84ae7fa6",
   "metadata": {},
   "outputs": [
    {
     "data": {
      "text/plain": [
       "968"
      ]
     },
     "execution_count": 15,
     "metadata": {},
     "output_type": "execute_result"
    }
   ],
   "source": [
    "len(range(int(8*np.log(d)),int(8*(np.log(d)**2))))"
   ]
  },
  {
   "cell_type": "code",
   "execution_count": 16,
   "id": "598467d4",
   "metadata": {},
   "outputs": [
    {
     "name": "stdout",
     "output_type": "stream",
     "text": [
      "0\n",
      "We will do 220 iterations.\n"
     ]
    }
   ],
   "source": [
    "# Moderate Embedding Dimension Rates vs. Distortion\n",
    "F_indexing_set__intermediary_distortionVSConcentration = range(int(8*np.log(d)),int(8*(np.log(d)**1.5)))\n",
    "# Low Dist\n",
    "# F_indexing_set__LowDistortion = range( int(min(max(8*np.log(d),d/2)+1,d)) )\n",
    "F_indexing_set__LowDistortion = range( int(min(max(8*np.log(d),d*.99999)+1,d)), d )\n",
    "print(len(F_indexing_set__LowDistortion))\n",
    "\n",
    "# Assemble Values\n",
    "F_indexing_set = np.append(F_indexing_set__intermediary_distortionVSConcentration,\n",
    "                           F_indexing_set__LowDistortion)\n",
    "\n",
    "# Keep Unique and Sort\n",
    "F_indexing_set = np.sort(np.unique(F_indexing_set))\n",
    "\n",
    "print('We will do '+str(len(F_indexing_set))+' iterations.')"
   ]
  },
  {
   "cell_type": "code",
   "execution_count": 19,
   "id": "0458fee0",
   "metadata": {},
   "outputs": [
    {
     "name": "stderr",
     "output_type": "stream",
     "text": [
      "100%|████████████████████████████████████| 220/220 [00:11<00:00, 18.37it/s]\n"
     ]
    }
   ],
   "source": [
    "#### Compute digital computing bound\n",
    "for F_global in tqdm(F_indexing_set):\n",
    "    # Set Value of F\n",
    "#     F_global = int(indexing_set[i])\n",
    "    \n",
    "#     print(F_global)\n",
    "#     print(F_global<=d)\n",
    "    \n",
    "    if F_global >d:\n",
    "        print('Breaking Loop Early at representation dimension: ' + str(F_global)+'.')\n",
    "        print('Further Improvement Impossible.')\n",
    "        break\n",
    "\n",
    "\n",
    "    def get_risk_bound__NVar__MBCompare_scalar(N):\n",
    "        return get_risk_bound__vs_BM___scalar(F=F_global,N=N)\n",
    "\n",
    "    get_risk_bound__NVar__MBCompare = np.vectorize(get_risk_bound__NVar__MBCompare_scalar)\n",
    "    \n",
    "    if F_global == min(F_indexing_set):\n",
    "        # Compute Risk Bound\n",
    "        Risk_Bounds_DC = get_risk_bound__NVar__MBCompare(N_sequence)\n",
    "    else:\n",
    "        # Compute Risk Bound\n",
    "        Risk_Bounds_DC__loop = get_risk_bound__NVar__MBCompare(N_sequence)\n",
    "        Risk_Bounds_DC = np.minimum(Risk_Bounds_DC,Risk_Bounds_DC__loop)\n",
    "#     print(Risk_Bounds_DC)"
   ]
  },
  {
   "cell_type": "code",
   "execution_count": 20,
   "id": "dc7d6679",
   "metadata": {},
   "outputs": [
    {
     "ename": "OverflowError",
     "evalue": "int too large to convert to float",
     "output_type": "error",
     "traceback": [
      "\u001b[0;31m---------------------------------------------------------------------------\u001b[0m",
      "\u001b[0;31mOverflowError\u001b[0m                             Traceback (most recent call last)",
      "Input \u001b[0;32mIn [20]\u001b[0m, in \u001b[0;36m<cell line: 2>\u001b[0;34m()\u001b[0m\n\u001b[1;32m      1\u001b[0m \u001b[38;5;66;03m#### Compute continuous space bound (Bartlett and Mendelson)\u001b[39;00m\n\u001b[0;32m----> 2\u001b[0m Risk_Bounds_Cnt \u001b[38;5;241m=\u001b[39m \u001b[43mget_Rad_Bound\u001b[49m\u001b[43m(\u001b[49m\u001b[43mN_sequence\u001b[49m\u001b[43m)\u001b[49m\n",
      "File \u001b[0;32m~/opt/miniconda3/lib/python3.9/site-packages/numpy/lib/function_base.py:2163\u001b[0m, in \u001b[0;36mvectorize.__call__\u001b[0;34m(self, *args, **kwargs)\u001b[0m\n\u001b[1;32m   2160\u001b[0m     vargs \u001b[38;5;241m=\u001b[39m [args[_i] \u001b[38;5;28;01mfor\u001b[39;00m _i \u001b[38;5;129;01min\u001b[39;00m inds]\n\u001b[1;32m   2161\u001b[0m     vargs\u001b[38;5;241m.\u001b[39mextend([kwargs[_n] \u001b[38;5;28;01mfor\u001b[39;00m _n \u001b[38;5;129;01min\u001b[39;00m names])\n\u001b[0;32m-> 2163\u001b[0m \u001b[38;5;28;01mreturn\u001b[39;00m \u001b[38;5;28;43mself\u001b[39;49m\u001b[38;5;241;43m.\u001b[39;49m\u001b[43m_vectorize_call\u001b[49m\u001b[43m(\u001b[49m\u001b[43mfunc\u001b[49m\u001b[38;5;241;43m=\u001b[39;49m\u001b[43mfunc\u001b[49m\u001b[43m,\u001b[49m\u001b[43m \u001b[49m\u001b[43margs\u001b[49m\u001b[38;5;241;43m=\u001b[39;49m\u001b[43mvargs\u001b[49m\u001b[43m)\u001b[49m\n",
      "File \u001b[0;32m~/opt/miniconda3/lib/python3.9/site-packages/numpy/lib/function_base.py:2241\u001b[0m, in \u001b[0;36mvectorize._vectorize_call\u001b[0;34m(self, func, args)\u001b[0m\n\u001b[1;32m   2239\u001b[0m     res \u001b[38;5;241m=\u001b[39m func()\n\u001b[1;32m   2240\u001b[0m \u001b[38;5;28;01melse\u001b[39;00m:\n\u001b[0;32m-> 2241\u001b[0m     ufunc, otypes \u001b[38;5;241m=\u001b[39m \u001b[38;5;28;43mself\u001b[39;49m\u001b[38;5;241;43m.\u001b[39;49m\u001b[43m_get_ufunc_and_otypes\u001b[49m\u001b[43m(\u001b[49m\u001b[43mfunc\u001b[49m\u001b[38;5;241;43m=\u001b[39;49m\u001b[43mfunc\u001b[49m\u001b[43m,\u001b[49m\u001b[43m \u001b[49m\u001b[43margs\u001b[49m\u001b[38;5;241;43m=\u001b[39;49m\u001b[43margs\u001b[49m\u001b[43m)\u001b[49m\n\u001b[1;32m   2243\u001b[0m     \u001b[38;5;66;03m# Convert args to object arrays first\u001b[39;00m\n\u001b[1;32m   2244\u001b[0m     inputs \u001b[38;5;241m=\u001b[39m [asanyarray(a, dtype\u001b[38;5;241m=\u001b[39m\u001b[38;5;28mobject\u001b[39m) \u001b[38;5;28;01mfor\u001b[39;00m a \u001b[38;5;129;01min\u001b[39;00m args]\n",
      "File \u001b[0;32m~/opt/miniconda3/lib/python3.9/site-packages/numpy/lib/function_base.py:2201\u001b[0m, in \u001b[0;36mvectorize._get_ufunc_and_otypes\u001b[0;34m(self, func, args)\u001b[0m\n\u001b[1;32m   2197\u001b[0m     \u001b[38;5;28;01mraise\u001b[39;00m \u001b[38;5;167;01mValueError\u001b[39;00m(\u001b[38;5;124m'\u001b[39m\u001b[38;5;124mcannot call `vectorize` on size 0 inputs \u001b[39m\u001b[38;5;124m'\u001b[39m\n\u001b[1;32m   2198\u001b[0m                      \u001b[38;5;124m'\u001b[39m\u001b[38;5;124munless `otypes` is set\u001b[39m\u001b[38;5;124m'\u001b[39m)\n\u001b[1;32m   2200\u001b[0m inputs \u001b[38;5;241m=\u001b[39m [arg\u001b[38;5;241m.\u001b[39mflat[\u001b[38;5;241m0\u001b[39m] \u001b[38;5;28;01mfor\u001b[39;00m arg \u001b[38;5;129;01min\u001b[39;00m args]\n\u001b[0;32m-> 2201\u001b[0m outputs \u001b[38;5;241m=\u001b[39m \u001b[43mfunc\u001b[49m\u001b[43m(\u001b[49m\u001b[38;5;241;43m*\u001b[39;49m\u001b[43minputs\u001b[49m\u001b[43m)\u001b[49m\n\u001b[1;32m   2203\u001b[0m \u001b[38;5;66;03m# Performance note: profiling indicates that -- for simple\u001b[39;00m\n\u001b[1;32m   2204\u001b[0m \u001b[38;5;66;03m# functions at least -- this wrapping can almost double the\u001b[39;00m\n\u001b[1;32m   2205\u001b[0m \u001b[38;5;66;03m# execution time.\u001b[39;00m\n\u001b[1;32m   2206\u001b[0m \u001b[38;5;66;03m# Hence we make it optional.\u001b[39;00m\n\u001b[1;32m   2207\u001b[0m \u001b[38;5;28;01mif\u001b[39;00m \u001b[38;5;28mself\u001b[39m\u001b[38;5;241m.\u001b[39mcache:\n",
      "File \u001b[0;32m/var/folders/px/t95mkn313fjb_vsv3__y1rjw0000gn/T/ipykernel_24585/1621154431.py:2\u001b[0m, in \u001b[0;36mget_Rad_Bound__scalar\u001b[0;34m(N)\u001b[0m\n\u001b[1;32m      1\u001b[0m \u001b[38;5;28;01mdef\u001b[39;00m \u001b[38;5;21mget_Rad_Bound__scalar\u001b[39m(N):\n\u001b[0;32m----> 2\u001b[0m     \u001b[38;5;28;01mreturn\u001b[39;00m \u001b[43mRad_Comp_Bound\u001b[49m\u001b[43m(\u001b[49m\u001b[43mN\u001b[49m\u001b[38;5;241;43m=\u001b[39;49m\u001b[43mN\u001b[49m\u001b[43m)\u001b[49m\n",
      "File \u001b[0;32m/var/folders/px/t95mkn313fjb_vsv3__y1rjw0000gn/T/ipykernel_24585/2147338555.py:4\u001b[0m, in \u001b[0;36mRad_Comp_Bound\u001b[0;34m(N, D, B, L, d, lmax, delta)\u001b[0m\n\u001b[1;32m      1\u001b[0m \u001b[38;5;28;01mdef\u001b[39;00m \u001b[38;5;21mRad_Comp_Bound\u001b[39m(N,D\u001b[38;5;241m=\u001b[39mD,B\u001b[38;5;241m=\u001b[39m\u001b[38;5;241m1\u001b[39m,L\u001b[38;5;241m=\u001b[39mLip_Constant_Manual,d\u001b[38;5;241m=\u001b[39md,lmax\u001b[38;5;241m=\u001b[39m\u001b[38;5;241m1\u001b[39m,delta\u001b[38;5;241m=\u001b[39mdelta):\n\u001b[1;32m      2\u001b[0m     \u001b[38;5;66;03m# Compute Empirical Rademacher Complexity\u001b[39;00m\n\u001b[1;32m      3\u001b[0m     \u001b[38;5;66;03m## Term 1\u001b[39;00m\n\u001b[0;32m----> 4\u001b[0m     Emp_Rad_Comp__1 \u001b[38;5;241m=\u001b[39m \u001b[38;5;241;43m8\u001b[39;49m\u001b[38;5;241;43m*\u001b[39;49m\u001b[43m(\u001b[49m\u001b[43m(\u001b[49m\u001b[43md\u001b[49m\u001b[38;5;241;43m+\u001b[39;49m\u001b[38;5;241;43m1\u001b[39;49m\u001b[43m)\u001b[49m\u001b[38;5;241;43m*\u001b[39;49m\u001b[38;5;241;43m*\u001b[39;49m\u001b[38;5;241;43m2\u001b[39;49m\u001b[43m)\u001b[49m\u001b[38;5;241;43m*\u001b[39;49m\u001b[43m(\u001b[49m\u001b[43mD\u001b[49m\u001b[38;5;241;43m*\u001b[39;49m\u001b[38;5;241;43m*\u001b[39;49m\u001b[38;5;241;43m2\u001b[39;49m\u001b[43m)\u001b[49m\u001b[38;5;241;43m*\u001b[39;49m\u001b[43m(\u001b[49m\u001b[43m(\u001b[49m\u001b[38;5;241;43m16\u001b[39;49m\u001b[38;5;241;43m*\u001b[39;49m\u001b[43mB\u001b[49m\u001b[38;5;241;43m*\u001b[39;49m\u001b[43mL\u001b[49m\u001b[43m)\u001b[49m\u001b[38;5;241;43m*\u001b[39;49m\u001b[38;5;241;43m*\u001b[39;49m\u001b[43md\u001b[49m\u001b[43m)\u001b[49m\u001b[38;5;241m/\u001b[39mN\n\u001b[1;32m      5\u001b[0m     Emp_Rad_Comp__1 \u001b[38;5;241m=\u001b[39m Emp_Rad_Comp__1\u001b[38;5;241m*\u001b[39m\u001b[38;5;241m*\u001b[39m(\u001b[38;5;241m1\u001b[39m\u001b[38;5;241m/\u001b[39m(d\u001b[38;5;241m+\u001b[39m\u001b[38;5;241m3\u001b[39m))\n\u001b[1;32m      6\u001b[0m     \u001b[38;5;66;03m## Term 2\u001b[39;00m\n",
      "\u001b[0;31mOverflowError\u001b[0m: int too large to convert to float"
     ]
    }
   ],
   "source": [
    "#### Compute continuous space bound (Bartlett and Mendelson)\n",
    "Risk_Bounds_Cnt = get_Rad_Bound(N_sequence)"
   ]
  },
  {
   "cell_type": "markdown",
   "id": "ebd858a5",
   "metadata": {},
   "source": [
    "#### Plot"
   ]
  },
  {
   "cell_type": "code",
   "execution_count": 21,
   "id": "38e744c1",
   "metadata": {},
   "outputs": [
    {
     "ename": "NameError",
     "evalue": "name 'Risk_Bounds_Cnt' is not defined",
     "output_type": "error",
     "traceback": [
      "\u001b[0;31m---------------------------------------------------------------------------\u001b[0m",
      "\u001b[0;31mNameError\u001b[0m                                 Traceback (most recent call last)",
      "Input \u001b[0;32mIn [21]\u001b[0m, in \u001b[0;36m<cell line: 18>\u001b[0;34m()\u001b[0m\n\u001b[1;32m      9\u001b[0m \u001b[38;5;66;03m# plt.ylabel('Bound on $\\mathbb{E}[\\mathcal{W}_1(\\mathbb{P},\\mathbb{P}^N)]$')\u001b[39;00m\n\u001b[1;32m     10\u001b[0m \n\u001b[1;32m     11\u001b[0m \n\u001b[1;32m     12\u001b[0m     \n\u001b[1;32m     13\u001b[0m \u001b[38;5;66;03m# Plot Risk-Bound\u001b[39;00m\n\u001b[1;32m     14\u001b[0m plt\u001b[38;5;241m.\u001b[39mplot(N_sequence, \n\u001b[1;32m     15\u001b[0m      Risk_Bounds_DC,\n\u001b[1;32m     16\u001b[0m      label \u001b[38;5;241m=\u001b[39m \u001b[38;5;124m'\u001b[39m\u001b[38;5;124mF= w. Digital Computing\u001b[39m\u001b[38;5;124m'\u001b[39m)\n\u001b[1;32m     18\u001b[0m plt\u001b[38;5;241m.\u001b[39mplot(N_sequence, \n\u001b[0;32m---> 19\u001b[0m      \u001b[43mRisk_Bounds_Cnt\u001b[49m,\n\u001b[1;32m     20\u001b[0m      label \u001b[38;5;241m=\u001b[39m \u001b[38;5;124m'\u001b[39m\u001b[38;5;124mF= Idealized\u001b[39m\u001b[38;5;124m'\u001b[39m)\n\u001b[1;32m     22\u001b[0m plt\u001b[38;5;241m.\u001b[39mlegend()\n\u001b[1;32m     25\u001b[0m plt\u001b[38;5;241m.\u001b[39mxlabel(\u001b[38;5;124m'\u001b[39m\u001b[38;5;124mNo. Samples (N)\u001b[39m\u001b[38;5;124m'\u001b[39m,fontsize\u001b[38;5;241m=\u001b[39m\u001b[38;5;241m10\u001b[39m)\n",
      "\u001b[0;31mNameError\u001b[0m: name 'Risk_Bounds_Cnt' is not defined"
     ]
    },
    {
     "data": {
      "image/png": "[encoded data removed]",
      "text/plain": [
       "<Figure size 1000x1000 with 1 Axes>"
      ]
     },
     "metadata": {},
     "output_type": "display_data"
    }
   ],
   "source": [
    "ax = plt.figure(figsize=(10,10))\n",
    "sns.set_style(\"darkgrid\")\n",
    "\n",
    "plt.title('p='+str('{:.2e}'.format(p))+'d='+str('{:.2e}'.format(p))+', Varying F and N')\n",
    "    \n",
    "\n",
    "plt.xlabel('No. Samples (N)')\n",
    "plt.ylabel('Risk Bound')# on $\\sup_{f\\in \\mathcal{F}}\\,|\\mathcal{R}(\\hat{f})-\\hat{\\mathcal{R}}(\\hat{f})|$')\n",
    "# plt.ylabel('Bound on $\\mathbb{E}[\\mathcal{W}_1(\\mathbb{P},\\mathbb{P}^N)]$')\n",
    "\n",
    "\n",
    "    \n",
    "# Plot Risk-Bound\n",
    "plt.plot(N_sequence, \n",
    "     Risk_Bounds_DC,\n",
    "     label = 'F= w. Digital Computing')\n",
    "\n",
    "plt.plot(N_sequence, \n",
    "     Risk_Bounds_Cnt,\n",
    "     label = 'F= Idealized')\n",
    "\n",
    "plt.legend()\n",
    "    \n",
    "    \n",
    "plt.xlabel('No. Samples (N)',fontsize=10)\n",
    "plt.ylabel('Risk Bound',fontsize=10)\n",
    "plt.xticks(fontsize=10)\n",
    "plt.yticks(fontsize=10)\n",
    "\n",
    "# ----------------------------------------------------- #\n",
    "\n",
    "plt.savefig('Experiments/Risk_Bound_F/BMCompare_'+str(N_is_Small)+'____p___'+str(p)+'___d____'+str(d)+'.pdf')\n",
    "plt.show()"
   ]
  },
  {
   "cell_type": "code",
   "execution_count": null,
   "id": "bb29ce06",
   "metadata": {},
   "outputs": [],
   "source": [
    "print('N Min: '+latex_float(N_min))\n",
    "print('N Max: '+latex_float(N_max))\n",
    "print('For Paper:')\n",
    "print(latex_float(N_min)+'<N<'+latex_float(N_max))\n",
    "print('dimension: '+latex_float(d))\n",
    "print('p: '+latex_float(p))"
   ]
  },
  {
   "cell_type": "markdown",
   "id": "fe786fcd",
   "metadata": {},
   "source": [
    "---\n",
    "# Fin #\n",
    "---"
   ]
  },
  {
   "cell_type": "markdown",
   "id": "f8526889",
   "metadata": {},
   "source": [
    "---"
   ]
  },
  {
   "cell_type": "markdown",
   "id": "515628f0",
   "metadata": {},
   "source": [
    "---"
   ]
  }
 ],
 "metadata": {
  "kernelspec": {
   "display_name": "Python 3 (ipykernel)",
   "language": "python",
   "name": "python3"
  },
  "language_info": {
   "codemirror_mode": {
    "name": "ipython",
    "version": 3
   },
   "file_extension": ".py",
   "mimetype": "text/x-python",
   "name": "python",
   "nbconvert_exporter": "python",
   "pygments_lexer": "ipython3",
   "version": "3.9.12"
  }
 },
 "nbformat": 4,
 "nbformat_minor": 5
}
