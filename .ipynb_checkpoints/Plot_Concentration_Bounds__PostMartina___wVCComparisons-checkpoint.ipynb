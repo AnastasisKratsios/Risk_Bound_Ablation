{
 "cells": [
  {
   "cell_type": "markdown",
   "id": "620e92ab",
   "metadata": {},
   "source": [
    "# Plot Concentration Bound\n",
    "---"
   ]
  },
  {
   "cell_type": "markdown",
   "id": "4042e244",
   "metadata": {},
   "source": [
    "## Geometry of $\\mathcal{X}\\times \\mathcal{Y}$: \n",
    "### Set the Rate at Which Embedding Distorts Geometry in As a Function of Euclidean Dimension"
   ]
  },
  {
   "cell_type": "markdown",
   "id": "22d83760",
   "metadata": {},
   "source": [
    "We consider four possible cases (``distortion_type``):\n",
    "1. Worst-case (expander graph-type geometries)\n",
    "2. Polynomial embedding (trees).\n",
    "3. Subsets of Euclidean space.\n",
    "4. Subspaces (metric) of the real line."
   ]
  },
  {
   "cell_type": "code",
   "execution_count": 1,
   "id": "0df1b31a",
   "metadata": {},
   "outputs": [],
   "source": [
    "distortion_type = 3"
   ]
  },
  {
   "cell_type": "markdown",
   "id": "230a7036",
   "metadata": {},
   "source": [
    "### Decide on N vs k"
   ]
  },
  {
   "cell_type": "markdown",
   "id": "00608e19",
   "metadata": {},
   "source": [
    "### N"
   ]
  },
  {
   "cell_type": "code",
   "execution_count": 2,
   "id": "7aef55e0",
   "metadata": {},
   "outputs": [],
   "source": [
    "N = 1*(10**3)\n",
    "N_is_Small = True"
   ]
  },
  {
   "cell_type": "markdown",
   "id": "c4e79706",
   "metadata": {},
   "source": [
    "### k\n",
    "\n",
    "#### Either we set k manually or we consider the no. Points Needed to Pack a Cube:\n",
    "\n",
    "From [George G. Lorentz, Manfred v. Golitschek, and Yuly Makovoz. Constructive approximation - Proposition 1.3](https://link.springer.com/book/9783642646102) the packing number of $[0,\\operatorname{diam}]^d$ in $\\ell_{\\infty}^d$ by $\\ell_{\\infty}^d$-balls of radius $10^{-p}$ is no more than\n",
    "$$\n",
    "k \\ge \n",
    "\\Big\\lceil\n",
    "2^{-d}\n",
    "        \\,\n",
    "        \\Big(10^{p}*\\operatorname{diam}\\Big)^d\n",
    "\\Big\\rceil\n",
    "$$\n",
    "we use this lower-bound to compute $k$."
   ]
  },
  {
   "cell_type": "code",
   "execution_count": 15,
   "id": "3568efe8",
   "metadata": {},
   "outputs": [
    {
     "name": "stdout",
     "output_type": "stream",
     "text": [
      "Prototypical Space: [0,1]^100\n",
      "Distance Between Points on the Grid: 0.1\n"
     ]
    }
   ],
   "source": [
    "# Cube or no Cube?\n",
    "cube_k = False\n",
    "\n",
    "# If Cube\n",
    "diam = 1*(10**0)\n",
    "d = 1*(10**2); print('Prototypical Space: [0,'+str(diam)+']^'+str(d))\n",
    "p = 1*(10**0); print('Distance Between Points on the Grid: '+str(10**-p))\n",
    "\n",
    "# If Manual \n",
    "k_manual = 1*(10**8)"
   ]
  },
  {
   "cell_type": "markdown",
   "id": "deaca908",
   "metadata": {},
   "source": [
    "## Import Packages and Set Global Hyperparameters"
   ]
  },
  {
   "cell_type": "code",
   "execution_count": 16,
   "id": "a60a845a",
   "metadata": {},
   "outputs": [
    {
     "name": "stdout",
     "output_type": "stream",
     "text": [
      "Dependancies and Packages Loaded\n",
      "---\n"
     ]
    }
   ],
   "source": [
    "%run ./SupportFiles/Dependancies.ipynb\n",
    "print('---')"
   ]
  },
  {
   "cell_type": "markdown",
   "id": "8ee2f536",
   "metadata": {},
   "source": [
    "# Set Global Parameters"
   ]
  },
  {
   "cell_type": "markdown",
   "id": "9ba6b6db",
   "metadata": {},
   "source": [
    "## Are we Computing Risk Bounds or Concentration Bounds (in $\\mathcal{W}_1$)?\n",
    "- For Risk Bounds set: True\n",
    "- For Concentration Bounds set: False"
   ]
  },
  {
   "cell_type": "code",
   "execution_count": 17,
   "id": "153b3387",
   "metadata": {},
   "outputs": [],
   "source": [
    "Risk_or_Concentration = True\n",
    "Isometric_Embedding = True"
   ]
  },
  {
   "cell_type": "markdown",
   "id": "4f335952",
   "metadata": {},
   "source": [
    "#### Decide on How Many Points to Use?"
   ]
  },
  {
   "cell_type": "code",
   "execution_count": 18,
   "id": "ca9e23ee",
   "metadata": {},
   "outputs": [],
   "source": [
    "if cube_k:\n",
    "    k = round( ( 2**(-d) ) * ((diam*(10**(p))**d)) ); print('Number of points:'+str(k))\n",
    "else:\n",
    "    k = k_manual"
   ]
  },
  {
   "cell_type": "markdown",
   "id": "acb7a8e4",
   "metadata": {},
   "source": [
    "Load Global hyperparameters, now that internal parameters have been defined."
   ]
  },
  {
   "cell_type": "code",
   "execution_count": 19,
   "id": "cc891bd2",
   "metadata": {},
   "outputs": [
    {
     "name": "stdout",
     "output_type": "stream",
     "text": [
      "Results are to Hold with Probability at-least: 95.0%\n",
      "We consider: 1-Lipschitz Hypotheses\n",
      "Max Representation Space Dimension (F aka m): 4.605170185988092\n",
      "---\n"
     ]
    }
   ],
   "source": [
    "%run ./SupportFiles/Global_Hyperparameters.ipynb\n",
    "print('---')"
   ]
  },
  {
   "cell_type": "markdown",
   "id": "ee46e2b5",
   "metadata": {},
   "source": [
    "---"
   ]
  },
  {
   "cell_type": "markdown",
   "id": "40ec195e",
   "metadata": {},
   "source": [
    "Load helper functions."
   ]
  },
  {
   "cell_type": "code",
   "execution_count": 20,
   "id": "fd2b46f9",
   "metadata": {},
   "outputs": [
    {
     "name": "stdout",
     "output_type": "stream",
     "text": [
      "---\n",
      "Helper Functions Loaded\n",
      "---\n"
     ]
    }
   ],
   "source": [
    "print('---')\n",
    "%run ./SupportFiles/Helper_Functions.ipynb\n",
    "print('---')"
   ]
  },
  {
   "cell_type": "markdown",
   "id": "0b06efb2",
   "metadata": {},
   "source": [
    "# The Risk Bound Computers"
   ]
  },
  {
   "cell_type": "markdown",
   "id": "c8f271bd",
   "metadata": {},
   "source": [
    "We compare our risk bound against the following binary classification benchmarks."
   ]
  },
  {
   "cell_type": "markdown",
   "id": "9dc565b3",
   "metadata": {},
   "source": [
    "## Benchmark: Trivial VC/Occam Bound (Binary Classification)\n",
    "From the The (Quantitative) Fundamental Theorem of Statistical Learning ([Theorem 6.8 in \"Understanding Machine Learning\" (with extra details in Section 28.1)](https://scholar.google.com/citations?view_op=view_citation&hl=en&user=kezPqwoAAAAJ&citation_for_view=kezPqwoAAAAJ:XiVPGOgt02cC)\n",
    "$$\n",
    "\\begin{aligned}\n",
    "    \\mathcal{R}(f) - \\hat{\\mathcal{R}}(f)\n",
    "\\le &\n",
    "    n^{-1/2}\n",
    "    (\n",
    "        128 \\operatorname{VC-dim}\\log(n+1) + \\log(8/\\delta)\n",
    "    )^{1/2}\n",
    "\\\\ \n",
    "\\le & \n",
    "    n^{-1/2}\n",
    "    (\n",
    "        128 \\#\\mathcal{X}\\log(n+1) + \\log(8/\\delta)\n",
    "    )^{1/2}\n",
    "\\end{aligned}\n",
    "$$\n",
    "where we use the fact that $\\operatorname{VC-dim}(2^{\\mathcal{X}})\\le \\log_2(\\#2^{\\mathcal{X}})=\\#\\mathcal{X}$."
   ]
  },
  {
   "cell_type": "markdown",
   "id": "f5a46477",
   "metadata": {},
   "source": [
    "## Hoeffding Bound\n",
    "\n",
    "\n",
    "From [Corollary 4.6 of \"Understanding Machine Learning\"](https://scholar.google.com/citations?view_op=view_citation&hl=en&user=kezPqwoAAAAJ&citation_for_view=kezPqwoAAAAJ:XiVPGOgt02cC) we have the following Heofding-type bound\n",
    "$$\n",
    "\\begin{aligned}\n",
    "    (2n)^{-1/2}\n",
    "    \\log\\big(\n",
    "    2 \\times 2^k/\\delta\n",
    "    \\big)^{1/2}\n",
    "    = \n",
    "    (2n)^{-1/2}\n",
    "     \\big(\n",
    "     \\log(2/\\delta) + k\\log(2)\n",
    "     \\big)^{1/2}\n",
    "\\end{aligned}\n",
    "$$"
   ]
  },
  {
   "cell_type": "markdown",
   "id": "5c746d5c",
   "metadata": {},
   "source": [
    "Load risk bound functions."
   ]
  },
  {
   "cell_type": "code",
   "execution_count": 21,
   "id": "03ef4af6",
   "metadata": {},
   "outputs": [
    {
     "name": "stdout",
     "output_type": "stream",
     "text": [
      "Risk Bounds Loaded\n"
     ]
    }
   ],
   "source": [
    "%run ./SupportFiles/Risk_Bound_Engine.ipynb"
   ]
  },
  {
   "cell_type": "markdown",
   "id": "67d2e371",
   "metadata": {},
   "source": [
    "## Generate Plot"
   ]
  },
  {
   "cell_type": "markdown",
   "id": "a7967ea1",
   "metadata": {},
   "source": [
    "#### Decide on Scale of Sample Size (Range: Small N or Large N)"
   ]
  },
  {
   "cell_type": "code",
   "execution_count": 24,
   "id": "527382d5",
   "metadata": {},
   "outputs": [
    {
     "data": {
      "image/png": "[encoded data removed]",
      "text/plain": [
       "<Figure size 800x800 with 1 Axes>"
      ]
     },
     "metadata": {},
     "output_type": "display_data"
    }
   ],
   "source": [
    "plt.figure(figsize=(8,8))\n",
    "sns.set_style(\"whitegrid\")\n",
    "\n",
    "if distortion_given == True:\n",
    "    plt.title('k='+str(k_global)+', Varying F and N')\n",
    "else:\n",
    "    plt.title('(Worst-Case Geometry) k='+str(k_global)+', Varying F and N')\n",
    "    \n",
    "plt.xlabel('No. Samples (N)')\n",
    "plt.ylabel('Risk Bound')# on $\\sup_{f\\in \\mathcal{F}}\\,|\\mathcal{R}(\\hat{f})-\\hat{\\mathcal{R}}(\\hat{f})|$')\n",
    "# plt.ylabel('Bound on $\\mathbb{E}[\\mathcal{W}_1(\\mathbb{P},\\mathbb{P}^N)]$')\n",
    "\n",
    "for i in range(4,40,5):\n",
    "    # Set Value of F\n",
    "    F_global = int(np.round(i,0))\n",
    "    \n",
    "    # Write Function of N only\n",
    "    def get_risk_bound__NVar_scalar(N):\n",
    "        return get_risk_bound__scalar(k=k_global,F=F_global,N=N)\n",
    "    \n",
    "    get_risk_bound__NVar = np.vectorize(get_risk_bound__NVar_scalar)\n",
    "    \n",
    "    # Compute Risk Bound\n",
    "    Risk_Bounds = get_risk_bound__NVar_scalar(N_sequence)\n",
    "    \n",
    "    # Plot\n",
    "    plt.plot(N_sequence, Risk_Bounds,label = 'F='+str(F_global).format(i=i))\n",
    "\n",
    "### Classical Risk-Bounds for Binary Classification\n",
    "if Y_is_bin_class == True:\n",
    "    ###----------------###\n",
    "    ### VC/Occam Bound ###\n",
    "    ###----------------###\n",
    "    # Write Function of N only\n",
    "    def get_risk_bound__VC_scalar(N):\n",
    "        return trivial_VCBound(N_in=N,k_in=k,delta = delta)\n",
    "    get_risk_bound__VC = np.vectorize(get_risk_bound__VC_scalar)\n",
    "    \n",
    "    # Compute Risk Bound\n",
    "    Risk_Bounds__VC = get_risk_bound__VC(N_sequence)\n",
    "    \n",
    "    # Plot Risk-Bound\n",
    "    plt.plot(N_sequence,Risk_Bounds__VC,label = 'Occam')\n",
    "    ###-----------------###\n",
    "    ### Hoeffding Bound ###\n",
    "    ###-----------------###\n",
    "    # Write Function of N only\n",
    "    def get_risk_bound__Hoeffding_scalar(N):\n",
    "        return Hoeffding_Bound(N_in=N,k_in=k,delta = delta)\n",
    "    get_risk_bound__Hoeffding = np.vectorize(get_risk_bound__Hoeffding_scalar)\n",
    "    \n",
    "    # Compute Risk Bound\n",
    "    Risk_Bounds__Hoeffding = get_risk_bound__Hoeffding(N_sequence)\n",
    "    \n",
    "    # Plot Risk-Bound\n",
    "    plt.plot(N_sequence,Risk_Bounds__Hoeffding,label = 'Hoeffding')\n",
    "\n",
    "plt.legend(loc='best')\n",
    "\n",
    "\n",
    "plt.savefig('Experiments/Risk_Bound_F/WBenchmarks__NF_kis'+str(k_global)+'.pdf')\n",
    "plt.show()"
   ]
  },
  {
   "cell_type": "code",
   "execution_count": 23,
   "id": "15592a27",
   "metadata": {},
   "outputs": [
    {
     "data": {
      "image/png": "[encoded data removed]",
      "text/plain": [
       "<Figure size 600x600 with 1 Axes>"
      ]
     },
     "metadata": {},
     "output_type": "display_data"
    }
   ],
   "source": [
    "plt.figure(figsize=(8,8))\n",
    "sns.set_style(\"whitegrid\")\n",
    "\n",
    "if distortion_given == True:\n",
    "    plt.title('k='+str(k_global)+', Varying F and N')\n",
    "else:\n",
    "    plt.title('(Worst-Case Geometry) k='+str(k_global)+', Varying F and N')\n",
    "\n",
    "    \n",
    "plt.xlabel('No. Samples (N)')\n",
    "plt.ylabel('Risk Bound')# on $\\sup_{f\\in \\mathcal{F}}\\,|\\mathcal{R}(\\hat{f})-\\hat{\\mathcal{R}}(\\hat{f})|$')\n",
    "# plt.ylabel('Bound on $\\mathbb{E}[\\mathcal{W}_1(\\mathbb{P},\\mathbb{P}^N)]$')\n",
    "\n",
    "for i in range(4,40,5):\n",
    "    # Set Value of F\n",
    "    F_global = int(np.round(i,0))\n",
    "    \n",
    "    # Write Function of N only\n",
    "    def get_risk_bound__NVar_scalar(N):\n",
    "        return get_risk_bound__scalar(k=k_global,F=F_global,N=N)\n",
    "    \n",
    "    get_risk_bound__NVar = np.vectorize(get_risk_bound__NVar_scalar)\n",
    "    \n",
    "    # Compute Risk Bound\n",
    "    Risk_Bounds = get_risk_bound__NVar_scalar(N_sequence)\n",
    "    \n",
    "    # Plot\n",
    "    plt.plot(N_sequence, Risk_Bounds,label = 'F='+str(F_global).format(i=i))\n",
    "\n",
    "plt.legend(loc='best')\n",
    "\n",
    "\n",
    "plt.savefig('Experiments/Risk_Bound_F/WBenchmarks__NF_kis'+str(k_global)+'.pdf')\n",
    "plt.show()"
   ]
  },
  {
   "cell_type": "markdown",
   "id": "7b911247",
   "metadata": {},
   "source": [
    "### Fixed N"
   ]
  },
  {
   "cell_type": "code",
   "execution_count": 12,
   "id": "24eef7e9",
   "metadata": {},
   "outputs": [],
   "source": [
    "# Set External Values of k and F\n",
    "N_global = 10**5\n",
    "\n",
    "F_min = 4\n",
    "F_max = 10**5\n",
    "F_tests = 50\n",
    "\n",
    "\n",
    "# Generate Sequence of Number of Samples\n",
    "F_sequence = np.linspace(F_min,F_max,F_tests)"
   ]
  },
  {
   "cell_type": "code",
   "execution_count": 13,
   "id": "5b2ef7d8",
   "metadata": {},
   "outputs": [
    {
     "data": {
      "image/png": "[encoded data removed]",
      "text/plain": [
       "<Figure size 600x600 with 1 Axes>"
      ]
     },
     "metadata": {},
     "output_type": "display_data"
    }
   ],
   "source": [
    "plt.figure(figsize=(6,6))\n",
    "\n",
    "plt.title('N='+str(N_global)+', Varying k and F')\n",
    "plt.xlabel('Embedding Dimension (F)')\n",
    "plt.ylabel('Bound on $\\mathbb{E}[\\mathcal{W}_1(\\mathbb{P},\\mathbb{P}^N)]$')\n",
    "\n",
    "for i in range(1,1000,200):\n",
    "    # Set Value of F\n",
    "    k_global = int(np.round(i,0))\n",
    "    \n",
    "    # Function of N only\n",
    "    def get_risk_bound__NVar_scalar(F):\n",
    "        return get_risk_bound__scalar(k=k_global,F=F,N=N_global)\n",
    "    \n",
    "    get_risk_bound__FVar = np.vectorize(get_risk_bound__NVar_scalar)\n",
    "    \n",
    "    # Compute Risk Bound\n",
    "    Risk_Bounds = get_risk_bound__FVar(F_sequence)\n",
    "    \n",
    "    # Plot\n",
    "    plt.plot(F_sequence, Risk_Bounds,label = 'k='+str(k_global).format(i=i))\n",
    "    \n",
    "plt.legend(loc='best')\n",
    "\n",
    "# plt.savefig('kF_Nis'+str(N_global)+'.pdf')\n",
    "plt.show()"
   ]
  },
  {
   "cell_type": "markdown",
   "id": "0280a949",
   "metadata": {},
   "source": [
    "## Best Bound As a Function of $Ratio=\\frac{k}{N}$"
   ]
  },
  {
   "cell_type": "markdown",
   "id": "7cac50b3",
   "metadata": {},
   "source": [
    "### Search for Best Bound for a Given N\n",
    "\n",
    "Use this code to estimate\n",
    "$$\n",
    "\\inf_{m\\in \\mathbb{N}_+}\\,\n",
    "            L\n",
    "            \\operatorname{diam}(\\mathcal{X}\\times\\mathcal{Y})\n",
    "            \\,\n",
    "            \\big(\n",
    "            C_m\n",
    "            \\,\n",
    "            (2\\tau(\\varphi)-1)\\,\n",
    "                \\mathrm{rate}_m(N)\n",
    "            \\,\n",
    "            +\n",
    "            %%% Our magic value of epsilon\n",
    "            \\frac{\n",
    "                    \\ln(2/\\delta)^{1/2}\\tau(\\varphi)\n",
    "                }{\n",
    "                    N^{1/2}\n",
    "                }\n",
    "        \\big)\n",
    "$$\n",
    "This next code segment also returns the best representation dimension for the given $N$ and $k$."
   ]
  },
  {
   "cell_type": "code",
   "execution_count": null,
   "id": "840e3007",
   "metadata": {},
   "outputs": [],
   "source": [
    "def find_best(k=k,N=N,bar_N=N,verbose=False,F_in=F_in):\n",
    "\n",
    "    # Initialize Best Representation Dimension\n",
    "    BEST_F = F_in[0]\n",
    "    min_bound = get_risk_bound__scalar(N=N,k=k,F=F_in[0],distortion_known=distortion_given)\n",
    "    \n",
    "    # Search for Best Bound\n",
    "    for F_loop in F_in:\n",
    "        bound = get_risk_bound__scalar(N=N,k=k,F=F_loop,distortion_known=distortion_given)\n",
    "        if verbose == True:\n",
    "            print(bound)\n",
    "        if bound < min_bound:\n",
    "            min_bound = bound\n",
    "            BEST_F = F_loop\n",
    "    return BEST_F,min_bound\n",
    "\n",
    "# print(F_in)\n",
    "BEST_F = find_best(verbose=False)[0]\n",
    "Tightest_Bound = find_best()[1]\n",
    "print(BEST_F)\n",
    "print(Tightest_Bound)"
   ]
  },
  {
   "cell_type": "code",
   "execution_count": null,
   "id": "86fab972",
   "metadata": {},
   "outputs": [],
   "source": [
    "def GET_BEST_F(kN_ratio):\n",
    "\n",
    "    k = int(math.ceil(N**kN_ratio)) # power ratio\n",
    "    \n",
    "    BEST_F,min_bound = find_best(k=k)\n",
    "    \n",
    "    return BEST_F,min_bound"
   ]
  },
  {
   "cell_type": "markdown",
   "id": "3b20f352",
   "metadata": {},
   "source": [
    "### Compute Best Ratios"
   ]
  },
  {
   "cell_type": "code",
   "execution_count": null,
   "id": "f13e5b30",
   "metadata": {},
   "outputs": [],
   "source": [
    "# Compute Best F as a function of ratio\n",
    "Ratios = np.linspace(0.00001,2,10**1) # power-ratio\n",
    "# best_F_ratio = GET_BEST_F(Ratios[0])[0] \n",
    "Optimal_F = [GET_BEST_F(ratio)[0] for ratio in Ratios]\n",
    "print('Optimal F is:'+str(Optimal_F))\n",
    "\n",
    "x_ratios = []\n",
    "y_optimals = []\n",
    "idx = 0\n",
    "for i in Optimal_F:\n",
    "    if i not in y_optimals:\n",
    "        y_optimals.append(i)\n",
    "        x_ratios.append(idx)\n",
    "    idx += 1"
   ]
  },
  {
   "cell_type": "markdown",
   "id": "f1ac450c",
   "metadata": {},
   "source": [
    "### Plot Results"
   ]
  },
  {
   "cell_type": "code",
   "execution_count": null,
   "id": "205fe02f",
   "metadata": {},
   "outputs": [],
   "source": [
    "plt.plot(x_ratios,y_optimals,color='purple')\n",
    "plt.rcParams['text.usetex'] = True\n",
    "\n",
    "\n",
    "# Labels\n",
    "if Use_Power_Ratio == False:\n",
    "    plt.title('Rate Parameter (F) as a Function of Ratio (k/N) (N='+str(format_e(Decimal(N)))+')')\n",
    "    plt.xlabel(\"Ratio: N. Points in Space/N. Samples (k/N)\")\n",
    "else:\n",
    "    plt.title(r'Rate Parameter (F) as a Function of the Ratio $\\log_k(N)$ (N='+str(format_e(Decimal(N)))+')')\n",
    "    plt.xlabel(r'$\\log_k(N)$: N. Points in Space ($k$) vs. N. Samples ($N$)')\n",
    "    \n",
    "plt.ylabel(\"Rate Parameter (F)\")\n",
    "# plt.legend()\n",
    "\n",
    "# ## Save and Show\n",
    "if Use_Power_Ratio == False:\n",
    "    # ## Save PDF\n",
    "    plt.savefig('Experiments/Ratio_Plot/PDF/N'+str(N)+'.pdf')\n",
    "    ## Save JPEG\n",
    "    plt.savefig('Experiments/Ratio_Plot/JPG/N'+str(N)+'.jpg')\n",
    "else:\n",
    "    # ## Save PDF\n",
    "    plt.savefig('Experiments/Ratio_Plot/PDF/Power_ratio_N'+str(N)+'.pdf')\n",
    "    ## Save JPEG\n",
    "    plt.savefig('Experiments/Ratio_Plot/JPG/Power_ratio_'+str(N)+'.jpg')\n",
    "    \n",
    "# ## PLOT\n",
    "plt.show()"
   ]
  },
  {
   "cell_type": "markdown",
   "id": "e5eb12bc",
   "metadata": {},
   "source": [
    "# Comparisons"
   ]
  },
  {
   "cell_type": "code",
   "execution_count": null,
   "id": "068ee800",
   "metadata": {},
   "outputs": [],
   "source": [
    "trivial_VCBound()"
   ]
  },
  {
   "cell_type": "code",
   "execution_count": null,
   "id": "c781d3ab",
   "metadata": {},
   "outputs": [],
   "source": [
    "## Get Main Plot\n",
    "bound_terms = []\n",
    "for F_loop in F_in:\n",
    "    bound_terms.append(get_risk_bound__scalar(F=F_loop,k=k,N=N))\n",
    "# Get VC and Hoeffding-type Benchmark in plotting form\n",
    "VC_benchmark = np.repeat(trivial_VCBound(),np.array(bound_terms).shape[0])\n",
    "Hoeffding_benchmark = np.repeat(Hoeffding_Bound(),np.array(bound_terms).shape[0])\n",
    "## Verbosity:\n",
    "print('VC/Occam Bound is:'+str(trivial_VCBound()))\n",
    "print('Hoeffding-Type Bound is:'+str(Hoeffding_Bound()))\n",
    "    \n",
    "ax = plt.figure(figsize=(16,16))\n",
    "sns.set_style(\"darkgrid\")\n",
    "\n",
    "\n",
    "axes1 = ax.add_axes([0.1, 0.1, 0.8, 0.8]) # main axes\n",
    "\n",
    "\n",
    "# axes1.plot(wavelet_terms,color='orange', label = 'Local Embedding Cost',linewidth=4)\n",
    "# axes1.plot(embedding_terms,color='blue',label = 'Global Embedding Quantity',linewidth=4)\n",
    "axes1.plot(bound_terms,color='red', label = 'Bound',linewidth=4)\n",
    "# axes1.plot(Hoeffding_benchmark,color='pink', label = 'Hoeffding-Bound',linewidth=4)\n",
    "axes1.plot(VC_benchmark,color='purple', label = 'VC-Bound',linewidth=4,linestyle='dotted')\n",
    "axes1.axvline(x=(BEST_F-1),label='Best F',linestyle=\"dashed\")\n",
    "plt.xticks(fontsize=25)\n",
    "plt.yticks(fontsize=25)\n",
    "\n",
    "\n",
    "# Labels\n",
    "\n",
    "plt.title('Best F: '+str(BEST_F-1)+' k = '+str('{:.2e}'.format(k))+' and N='+str('{:.2e}'.format(N)+'Tightest Bound ='+str(round(Tightest_Bound,3))),fontsize=25)\n",
    "plt.xlabel(\"Value of F\",fontsize=25)\n",
    "plt.ylabel(\"Value of Risk-Bound\",fontsize=25)\n",
    "plt.legend(fontsize=20,loc='upper right')\n",
    "\n",
    "# Get Zoomed Portion\n",
    "## Near Best F\n",
    "zoom_indices = np.array(range(max(1,BEST_F-2),min(BEST_F+3,F_in.shape[0])))\n",
    "bound_terms__zoomed = np.array(bound_terms)[zoom_indices]\n",
    "# VC_benchmark__zoomed\n",
    "# Hoeffding_benchmark__zoomed\n",
    "\n",
    "sns.set_style(\"whitegrid\")\n",
    "axes2 = ax.add_axes([0.55, 0.20, 0.3, 0.3]) # inset axes\n",
    "axes2.set_title('Bound for Best F',fontsize=25)\n",
    "# axes2.plot(zoom_indices,wavelet_terms__zoomed,color='orange', label = 'Local Embedding Cost',linewidth=4)\n",
    "# axes2.plot(zoom_indices,embedding_terms__zoomed,color='blue',label = 'Global Embedding Quantity',linewidth=4)\n",
    "axes2.plot(zoom_indices,bound_terms__zoomed,color='red', label = 'Bound',linewidth=4)\n",
    "# axes2.plot(zoom_indices,VC_benchmark__zoomed,color='purple', label = 'VC-Bound',linewidth=4)\n",
    "# axes2.plot(zoom_indices,Hoeffding_benchmark__zoomed,color='pink', label = 'Hoeffding-Bound',linewidth=4)\n",
    "axes2.axvline(x=(BEST_F-1),linestyle=\"dashed\")\n",
    "plt.xlabel(\"Value of F\",fontsize=20)\n",
    "plt.ylabel(\"Value of Risk-Bound\",fontsize=20)\n",
    "plt.xticks(fontsize=20)\n",
    "plt.yticks(fontsize=20)\n",
    "\n",
    "## First time VC-Looses\n",
    "### Identify first time the VC bound looses\n",
    "Trivial_VC_looses = Hoeffding_benchmark>=bound_terms\n",
    "Trivial_VC_looses = np.argmax(Trivial_VC_looses>0)\n",
    "print('The VC and Hoeffding Bounds Loose above F='+str(Trivial_VC_looses))\n",
    "indices_VC = np.array(range(Trivial_VC_looses,VC_benchmark.shape[0]))\n",
    "\n",
    "### Generate Plot\n",
    "# wavelet_terms__zoomed___VCComparison = np.array(wavelet_terms)[indices_VC]\n",
    "# embedding_terms__zoomed___VCComparison = np.array(embedding_terms)[indices_VC]\n",
    "bound_terms__zoomed___VCComparison = np.array(bound_terms)[indices_VC]\n",
    "VC_benchmark_plot = VC_benchmark[indices_VC]\n",
    "# Hoeffding_benchmark__zoomed___VCComparison = Hoeffding_benchmark[indices_VC]\n",
    "\n",
    "# Hoeffding Comparison\n",
    "# sns.set_style(\"ticks\")\n",
    "# axes2 = ax.add_axes([0.25, 0.55, 0.3, 0.3]) # inset axes\n",
    "# axes2.set_title(r'Beats Hoeffding Bound for F$\\geq$'+str(Trivial_VC_looses),fontsize=25)\n",
    "# axes2.plot(indices_VC,bound_terms__zoomed___VCComparison,color='red', label = 'Bound',linewidth=4)\n",
    "# # axes2.plot(indices_VC,VC_benchmark_plot,color='purple', label = 'VC-Bound',linewidth=4)\n",
    "# axes2.plot(indices_VC,Hoeffding_benchmark__zoomed___VCComparison,color='pink', label = 'Hoeffding-Bound',linewidth=4)\n",
    "# axes2.axvline(x=(BEST_F-1),linestyle=\"dashed\")\n",
    "# plt.xlabel(\"Value of F\",fontsize=20)\n",
    "# plt.ylabel(\"Value of Risk-Bound\",fontsize=20)\n",
    "# plt.xticks(fontsize=20)\n",
    "# plt.yticks(fontsize=20)\n",
    "\n",
    "\n",
    "# Save and Show\n",
    "# if Tightest_Bound <= 1:\n",
    "#     ## Save PDF\n",
    "#     plt.savefig('Experiments/PDF/NonVac_BestF_'+str(BEST_F)+'____k'+str(k)+'___N'+str(N)+'.pdf')\n",
    "#     ## Save JPEG\n",
    "#     plt.savefig('Experiments/JPG/NonVac_BestF_'+str(BEST_F)+'____k'+str(k)+'___N'+str(N)+'.jpg')\n",
    "# else:\n",
    "#     ## Save PDF\n",
    "#     plt.savefig('Experiments/PDF/BestF_'+str(BEST_F)+'____k'+str(k)+'___N'+str(N)+'.pdf')\n",
    "#     ## Save JPEG\n",
    "#     plt.savefig('Experiments/JPG/BestF_'+str(BEST_F)+'____k'+str(k)+'___N'+str(N)+'.jpg')\n",
    "## PLOT\n",
    "plt.show()"
   ]
  },
  {
   "cell_type": "markdown",
   "id": "fe786fcd",
   "metadata": {},
   "source": [
    "---\n",
    "# Fin #\n",
    "---"
   ]
  }
 ],
 "metadata": {
  "kernelspec": {
   "display_name": "Python 3 (ipykernel)",
   "language": "python",
   "name": "python3"
  },
  "language_info": {
   "codemirror_mode": {
    "name": "ipython",
    "version": 3
   },
   "file_extension": ".py",
   "mimetype": "text/x-python",
   "name": "python",
   "nbconvert_exporter": "python",
   "pygments_lexer": "ipython3",
   "version": "3.9.12"
  }
 },
 "nbformat": 4,
 "nbformat_minor": 5
}
