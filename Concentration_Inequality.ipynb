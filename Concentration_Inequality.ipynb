{
 "cells": [
  {
   "cell_type": "markdown",
   "id": "620e92ab",
   "metadata": {},
   "source": [
    "# Plot Concentration Inequality $(\\mathcal{W}_1)$\n",
    "---"
   ]
  },
  {
   "cell_type": "markdown",
   "id": "cddaf36c",
   "metadata": {},
   "source": [
    "### Number of Samples (N)\n",
    "Once the number of training samples, $N$, is set then, we consider two scenarios:\n",
    "- if ``N_is_Small==True``: $N$ ranges from $\\lfloor N/10 \\rfloor$ to $N$\n",
    "- if ``N_is_Small==True``: $N$ ranges from $N^3$ to $N^4$"
   ]
  },
  {
   "cell_type": "code",
   "execution_count": 1,
   "id": "18f9740e",
   "metadata": {},
   "outputs": [],
   "source": [
    "N = 1*(10**3)\n",
    "N_is_Small = True"
   ]
  },
  {
   "cell_type": "markdown",
   "id": "2d92e50b",
   "metadata": {},
   "source": [
    "## Geometry of $\\mathcal{X}\\times \\mathcal{Y}$: \n",
    "### Set the Rate at Which Embedding Distorts Geometry in As a Function of Euclidean Dimension"
   ]
  },
  {
   "cell_type": "markdown",
   "id": "b937593b",
   "metadata": {},
   "source": [
    "We consider four possible cases (``distortion_type``):\n",
    "1. Worst-case (expander graph-type geometries): see paper and results of Bourgain.\n",
    "2. Latent Full Binary-Tree Structure: [Gupta - Embedding Tree Metrics into Low-Dimensional Euclidean Spaces (2000); Theorem 4.1](https://link.springer.com/article/10.1007/s004540010020)\n",
    "    If $\\mathcal{X}\\times \\mathcal{Y}$ has a hierarchical structure; in that its metric is induced by a full binary tree; then Distortion \n",
    "    $$\n",
    "    \\tau(\\phi) \\le 4\\,\\pi*L^{1/(F-1)}\\, \\sqrt{\\min\\{F,\\log(L)\\}}\n",
    "    ;\n",
    "    $$ where $L=(k+1)/2$ for $F\\in \\mathbb{N}_+,\\, F>1$.\n",
    "3. Subsets of Euclidean space: see paper and results of Johnson and Lindentrauss as well as Matousek; roughly speaking when $k$ points can be bi-Lipschitz embedding into $\\mathbb{R}^{\\mathcal{O}(\\log(k))}$ with low-distortion.  \n",
    "4. Subspaces (metric) of the real line: $\\tau(\\phi)=1$."
   ]
  },
  {
   "cell_type": "code",
   "execution_count": 2,
   "id": "4dd7e89b",
   "metadata": {},
   "outputs": [],
   "source": [
    "distortion_type = 1"
   ]
  },
  {
   "cell_type": "markdown",
   "id": "4f3a333f",
   "metadata": {},
   "source": [
    "### The Structure of $\\mathcal{X}$ - k vs. N"
   ]
  },
  {
   "cell_type": "code",
   "execution_count": 3,
   "id": "aa300273",
   "metadata": {},
   "outputs": [],
   "source": [
    "# Cube or no Cube?\n",
    "cube_k = False"
   ]
  },
  {
   "cell_type": "markdown",
   "id": "cc1e6943",
   "metadata": {},
   "source": [
    "#### Case 1: Packing of the Cube $[0,1]^d$ by $k$ Points\n",
    "\n",
    "$\\mathcal{X}\\subset [0,1]^d$ is a packing of $k$ points.  A simple computation shows that\n",
    "$$\n",
    "\\operatorname{sep}(\\mathcal{X})\n",
    "=\n",
    "    \\frac{\n",
    "        k^{1/d}\n",
    "    }{\n",
    "        2\n",
    "    }\n",
    ".\n",
    "$$\n",
    "\n",
    "#### Case 2: Either we set k manually or we consider the no. Points Needed to Pack a Cube:\n",
    "\n",
    "From [George G. Lorentz, Manfred v. Golitschek, and Yuly Makovoz. Constructive approximation - Proposition 1.3](https://link.springer.com/book/9783642646102) the packing number of $[0,\\operatorname{diam}]^d$ in $\\ell_{\\infty}^d$ by $\\ell_{\\infty}^d$-balls of radius $10^{-p}$ is no more than\n",
    "$$\n",
    "k \\ge \n",
    "\\Big\\lceil\n",
    "2^{-d}\n",
    "        \\,\n",
    "        \\Big(10^{p}*\\operatorname{diam}\\Big)^d\n",
    "\\Big\\rceil\n",
    "$$\n",
    "we use this lower-bound to compute $k$."
   ]
  },
  {
   "cell_type": "markdown",
   "id": "4d47d92e",
   "metadata": {},
   "source": [
    "### Worst-Case Lipschitz Constant"
   ]
  },
  {
   "cell_type": "markdown",
   "id": "9d5d5ed0",
   "metadata": {},
   "source": [
    "The next bit of code sets the Lipschitz constant; there are two options:\n",
    "- Set Lipschitz Constant Manually (consider small classes... there is no good benchmark in this case) ``Set_Lip_Constant==True``.\n",
    "- Compute Worst-Case Lipschitz constant (there are fair classical benchmarks in this case) ``Set_Lip_Constant==False``."
   ]
  },
  {
   "cell_type": "code",
   "execution_count": 4,
   "id": "349d2248",
   "metadata": {},
   "outputs": [],
   "source": [
    "Set_Lip_Constant = False\n",
    "Lip_Constant_Manual = 1"
   ]
  },
  {
   "cell_type": "code",
   "execution_count": 5,
   "id": "5104fc70",
   "metadata": {},
   "outputs": [
    {
     "name": "stdout",
     "output_type": "stream",
     "text": [
      "Prototypical Space: [0,1]^100\n",
      "Distance Between Points on the Grid: 1e-10\n",
      "We Consider The Worst-Case Lipschitz Constant: 2.5178508235883346\n",
      "Number of points:1.00e+10\n"
     ]
    }
   ],
   "source": [
    "# If Manual \n",
    "k_manual = 1*(10**10)\n",
    "\n",
    "# If Cube\n",
    "diam = 1*(10**0)\n",
    "d = 1*(10**2); print('Prototypical Space: [0,'+str(diam)+']^'+str(d))\n",
    "p = 1*(10**1); print('Distance Between Points on the Grid: '+str(10**-p))\n",
    "\n",
    "%run ./SupportFiles/Compute_N_points.ipynb"
   ]
  },
  {
   "cell_type": "markdown",
   "id": "2c299598",
   "metadata": {},
   "source": [
    "### In the Case of Worst-Case Lipschitz Constants, it is computed as follows:"
   ]
  },
  {
   "cell_type": "markdown",
   "id": "deaca908",
   "metadata": {},
   "source": [
    "## Import Packages and Set Global Hyperparameters"
   ]
  },
  {
   "cell_type": "code",
   "execution_count": 6,
   "id": "a60a845a",
   "metadata": {},
   "outputs": [
    {
     "name": "stdout",
     "output_type": "stream",
     "text": [
      "Dependancies and Packages Loaded\n",
      "---\n"
     ]
    }
   ],
   "source": [
    "%run ./SupportFiles/Dependancies.ipynb\n",
    "print('---')"
   ]
  },
  {
   "cell_type": "markdown",
   "id": "ac0ca770",
   "metadata": {},
   "source": [
    "# Set Global Parameters"
   ]
  },
  {
   "cell_type": "markdown",
   "id": "2322203c",
   "metadata": {},
   "source": [
    "## Are we Computing Risk Bounds or Concentration Bounds (in $\\mathcal{W}_1$)?\n",
    "- For Risk Bounds set: True\n",
    "- For Concentration Bounds set: False"
   ]
  },
  {
   "cell_type": "code",
   "execution_count": 7,
   "id": "e6b22fd8",
   "metadata": {},
   "outputs": [],
   "source": [
    "Risk_or_Concentration = False"
   ]
  },
  {
   "cell_type": "markdown",
   "id": "a13dbad0",
   "metadata": {},
   "source": [
    "#### Decide on How Many Points to Use?"
   ]
  },
  {
   "cell_type": "markdown",
   "id": "d0170410",
   "metadata": {},
   "source": [
    "Load Global hyperparameters, now that internal parameters have been defined."
   ]
  },
  {
   "cell_type": "code",
   "execution_count": 8,
   "id": "36c37f63",
   "metadata": {},
   "outputs": [
    {
     "name": "stdout",
     "output_type": "stream",
     "text": [
      "Results are to Hold with Probability at-least: 95.0%\n",
      "Max Representation Space Dimension (F aka m): 4.605170185988092\n",
      "---\n"
     ]
    }
   ],
   "source": [
    "%run ./SupportFiles/Global_Hyperparameters.ipynb\n",
    "N_sequence = np.linspace(100,10**7,N_tests)\n",
    "print('---')"
   ]
  },
  {
   "cell_type": "markdown",
   "id": "86c7b66d",
   "metadata": {},
   "source": [
    "---"
   ]
  },
  {
   "cell_type": "markdown",
   "id": "40ec195e",
   "metadata": {},
   "source": [
    "#### Load helper functions."
   ]
  },
  {
   "cell_type": "code",
   "execution_count": 9,
   "id": "fbb1feb4",
   "metadata": {},
   "outputs": [
    {
     "name": "stdout",
     "output_type": "stream",
     "text": [
      "---\n",
      "Helper Functions Loaded\n",
      "---\n"
     ]
    }
   ],
   "source": [
    "print('---')\n",
    "%run ./SupportFiles/Helper_Functions.ipynb\n",
    "print('---')"
   ]
  },
  {
   "cell_type": "markdown",
   "id": "67d2e371",
   "metadata": {},
   "source": [
    "## Generate Plot"
   ]
  },
  {
   "cell_type": "markdown",
   "id": "4b128de6",
   "metadata": {},
   "source": [
    "#### Decide on Scale of Sample Size (Range: Small N or Large N)"
   ]
  },
  {
   "cell_type": "code",
   "execution_count": 23,
   "id": "fbd4b771",
   "metadata": {},
   "outputs": [],
   "source": [
    "Freq_plot = 1\n",
    "indexing_set = range(10**1,10**2,Freq_plot)"
   ]
  },
  {
   "cell_type": "code",
   "execution_count": 24,
   "id": "272e0baf",
   "metadata": {},
   "outputs": [],
   "source": [
    "Print_Occam = True\n",
    "Agnostic_PAC_Bound = True"
   ]
  },
  {
   "cell_type": "markdown",
   "id": "5486ec91",
   "metadata": {},
   "source": [
    "**Note**: If ``Set_Lip_Constant==True`` then we *do not* benchmark against the VC or Agnostic PAC bounds."
   ]
  },
  {
   "cell_type": "markdown",
   "id": "7675c1ed",
   "metadata": {},
   "source": [
    "---"
   ]
  },
  {
   "cell_type": "markdown",
   "id": "83cdf5b4",
   "metadata": {},
   "source": [
    "Load risk bound functions."
   ]
  },
  {
   "cell_type": "code",
   "execution_count": 25,
   "id": "36f5b6e6",
   "metadata": {},
   "outputs": [
    {
     "name": "stdout",
     "output_type": "stream",
     "text": [
      "Concentration Inequality Loaded\n"
     ]
    }
   ],
   "source": [
    "%run ./SupportFiles/Concentration_Inequality_Engine.ipynb"
   ]
  },
  {
   "cell_type": "markdown",
   "id": "b0734ea5",
   "metadata": {},
   "source": [
    "---"
   ]
  },
  {
   "cell_type": "code",
   "execution_count": 30,
   "id": "38e744c1",
   "metadata": {},
   "outputs": [
    {
     "data": {
      "image/png": "[encoded data removed]",
      "text/plain": [
       "<Figure size 1000x1000 with 1 Axes>"
      ]
     },
     "metadata": {},
     "output_type": "display_data"
    }
   ],
   "source": [
    "ax = plt.figure(figsize=(10,10))\n",
    "sns.set_style(\"darkgrid\")\n",
    "\n",
    "plt.title(''+dist_name+', k='+str('{:.2e}'.format(k))+', Varying F and N')\n",
    "    \n",
    "\n",
    "plt.xlabel('No. Samples (N)')\n",
    "plt.ylabel('Bound on $\\mathbb{E}[\\mathcal{W}_1(\\mathbb{P},\\mathbb{P}^N)]$')\n",
    "\n",
    "\n",
    "\n",
    "# Set Max No Colours\n",
    "n_col=max(indexing_set)+2\n",
    "\n",
    "\n",
    "#### Plot Generation\n",
    "for i in indexing_set:\n",
    "    # Set Value of F\n",
    "    F_global = int(np.round(i,0))\n",
    "    \n",
    "    # Write Function of N only\n",
    "    def get_concentration_inequality__scalar__N(N):\n",
    "        return get_concentration_inequality__scalar(k=k_global,F=F_global,N=N)\n",
    "    \n",
    "    get_concentration_inequality__N = np.vectorize(get_concentration_inequality__scalar__N)\n",
    "    \n",
    "    # Compute Risk Bound\n",
    "    Risk_Bounds = get_concentration_inequality__N(N_sequence)\n",
    "\n",
    "    \n",
    "    # Plot\n",
    "    col_index = (i-min(indexing_set))/(max(indexing_set)+1)\n",
    "    # Plot Risk-Bound\n",
    "    plot_ratio =int(max(indexing_set)/max(1,Freq_plot*10))  # plot small subset of rep. dims.\n",
    "    \n",
    "    if i == min(indexing_set) or i == max(indexing_set):\n",
    "        plt.plot(N_sequence, \n",
    "             Risk_Bounds,\n",
    "             color=colorFader(c1,c2,col_index),\n",
    "             label = 'F='+str(F_global).format(i=i))\n",
    "    else:\n",
    "        plt.plot(N_sequence, \n",
    "                 Risk_Bounds,\n",
    "                 color=colorFader(c1,c2,col_index),label='_nolegend_')\n",
    "\n",
    "plt.legend()\n",
    "    \n",
    "    \n",
    "plt.xlabel('No. Samples (N)',fontsize=10)\n",
    "plt.ylabel('Concentration Inequality',fontsize=10)\n",
    "plt.xticks(fontsize=10)\n",
    "plt.yticks(fontsize=10)\n",
    "\n",
    "# ----------------------------------------------------- #\n",
    "\n",
    "plt.savefig('Experiments/Concentration_Inequalities/CI_'+str(N_is_Small)+'____'+str(dist_name__plot)+'___d____'+str(d)+'.pdf')\n",
    "plt.show()"
   ]
  },
  {
   "cell_type": "code",
   "execution_count": 31,
   "id": "bb29ce06",
   "metadata": {},
   "outputs": [
    {
     "name": "stdout",
     "output_type": "stream",
     "text": [
      "N Min: 1 \\times 10^{2}\n",
      "N Max: 1 \\times 10^{3}\n",
      "For Paper:\n",
      "1 \\times 10^{2}<N<1 \\times 10^{3}\n",
      "dimension: 1 \\times 10^{2}\n",
      "N. Points (k): 1 \\times 10^{10}\n"
     ]
    }
   ],
   "source": [
    "print('N Min: '+latex_float(N_min))\n",
    "print('N Max: '+latex_float(N_max))\n",
    "print('For Paper:')\n",
    "print(latex_float(N_min)+'<N<'+latex_float(N_max))\n",
    "print('dimension: '+latex_float(d))\n",
    "print('N. Points (k): '+latex_float(k_manual))"
   ]
  },
  {
   "cell_type": "markdown",
   "id": "fe786fcd",
   "metadata": {},
   "source": [
    "---\n",
    "# Fin #\n",
    "---"
   ]
  },
  {
   "cell_type": "markdown",
   "id": "f8526889",
   "metadata": {},
   "source": [
    "---"
   ]
  },
  {
   "cell_type": "markdown",
   "id": "515628f0",
   "metadata": {},
   "source": [
    "---"
   ]
  }
 ],
 "metadata": {
  "kernelspec": {
   "display_name": "Python 3 (ipykernel)",
   "language": "python",
   "name": "python3"
  },
  "language_info": {
   "codemirror_mode": {
    "name": "ipython",
    "version": 3
   },
   "file_extension": ".py",
   "mimetype": "text/x-python",
   "name": "python",
   "nbconvert_exporter": "python",
   "pygments_lexer": "ipython3",
   "version": "3.9.12"
  }
 },
 "nbformat": 4,
 "nbformat_minor": 5
}
