{
 "cells": [
  {
   "cell_type": "markdown",
   "id": "620e92ab",
   "metadata": {},
   "source": [
    "# Plot Risk Bound: Comparison Against Rademacher Bounds (Bartlett and Mendelsen 2002)\n",
    "---"
   ]
  },
  {
   "cell_type": "code",
   "execution_count": 4,
   "id": "a21a99a6",
   "metadata": {},
   "outputs": [],
   "source": [
    "# Flag Risk-Engine that we are considering the Rademacher bound comparioson\n",
    "is_Rademacher = True"
   ]
  },
  {
   "cell_type": "markdown",
   "id": "2f38d727",
   "metadata": {},
   "source": [
    "---"
   ]
  },
  {
   "cell_type": "markdown",
   "id": "2c77e06a",
   "metadata": {},
   "source": [
    "## For Reference: Euclidean Embedding Rates"
   ]
  },
  {
   "cell_type": "markdown",
   "id": "99fae0a2",
   "metadata": {},
   "source": [
    "For reference, the embeddings are.  We will restrict computations to the case where $8\\lceil \\ln k \\rceil < m\\le d$ to avoid computing $k$, and only working with $\\log(k)$."
   ]
  },
  {
   "cell_type": "markdown",
   "id": "efd40b66",
   "metadata": {},
   "source": [
    "| $m$ | $m<d$ | Worst-Case Distortion $(\\tau(\\phi))$ |\n",
    "| :--- | :--- | :---: |\n",
    "| $1\\le m \\le 2$ | Yes | $12\\,k$ |\n",
    "| $3 \\le m \\le 8 \\lceil \\ln k\\rceil$ | Yes | $\\frac{15 \\, \\log(k)^{1/2} k^{2/m}}{m^{1/2}}$ |\n",
    "| $8 \\lceil \\ln k\\rceil < m$ | Yes | $48 \\lfloor \\log_2 k + 1 \\rfloor(\\frac{m^{1/2} + 2 \\sqrt{2}\\log(k)^{1/2}}{m^{1/2} - 2\\sqrt{2}\\log(k)^{1/2}})^{1/2}$|\n",
    "| $m\\ge d$ | No | $1$ |"
   ]
  },
  {
   "cell_type": "markdown",
   "id": "e7bd0f94",
   "metadata": {},
   "source": [
    "---"
   ]
  },
  {
   "cell_type": "markdown",
   "id": "dbd5c942",
   "metadata": {},
   "source": [
    "All computations correspond to the Huber loss function $\\ell$ \n",
    "$$\n",
    "\\ell(y, \\tilde{y}) = \\begin{cases}\n",
    " \\frac{1}{2}(y - \\tilde{y})^2                   & \\text{for } |y - \\tilde{y}| \\le \\delta, \\\\\n",
    " \\delta\\ \\cdot \\left(|y - \\tilde{y}| - \\frac{1}{2}\\delta\\right), & \\text{otherwise.}\n",
    "\\end{cases}\n",
    "$$\n",
    "for each $y,\\tilde{y}\\in [0,\\infty)$.  Furthermore, for any $M\\ge 0$; the Huber loss function satisfies:\n",
    "- $1$-Lipschitz\n",
    "- $\\|\\ell|_{[0,M]^2}\\|_{\\infty}= M$."
   ]
  },
  {
   "cell_type": "markdown",
   "id": "6f53afc5",
   "metadata": {},
   "source": [
    "## Lipschitz Constant of Hypothesis Class\n",
    "\n",
    "W.l.o.g. We consider $1$-Lipschitz functions but allow the option for more general classes."
   ]
  },
  {
   "cell_type": "code",
   "execution_count": 5,
   "id": "a1648b1f",
   "metadata": {},
   "outputs": [],
   "source": [
    "Lip_WorstCase = 1"
   ]
  },
  {
   "cell_type": "markdown",
   "id": "5dc0dfb6",
   "metadata": {},
   "source": [
    "## Defaults Parameters (Only exist to coerce to general risk engine).\n",
    "Default is 3; otherwise the comparison no longer applies to results of [Bartlett and Mendelson](https://www.jmlr.org/papers/volume3/bartlett02a/bartlett02a.pdf)."
   ]
  },
  {
   "cell_type": "code",
   "execution_count": 6,
   "id": "8d6712bd",
   "metadata": {},
   "outputs": [],
   "source": [
    "# Default in this model.\n",
    "distortion_type = 3\n",
    "# This is also default to true for the same reason.\n",
    "Set_Lip_Constant = True"
   ]
  },
  {
   "cell_type": "markdown",
   "id": "cddaf36c",
   "metadata": {},
   "source": [
    "### Number of Samples (N)\n",
    "Once the number of training samples, $N$, is set then, we consider two scenarios:\n",
    "- if ``N_is_Small==True``: $N$ ranges from $\\lfloor N/10 \\rfloor$ to $N$\n",
    "- if ``N_is_Small==True``: $N$ ranges from $N^3$ to $N^4$"
   ]
  },
  {
   "cell_type": "markdown",
   "id": "85598807",
   "metadata": {},
   "source": [
    "Scaling the grid at size $2^p$ with $p=d$ yields the following:"
   ]
  },
  {
   "cell_type": "code",
   "execution_count": 7,
   "id": "34d4f6a9",
   "metadata": {},
   "outputs": [],
   "source": [
    "N = 1*(10**4)"
   ]
  },
  {
   "cell_type": "markdown",
   "id": "4f3a333f",
   "metadata": {},
   "source": [
    "### The Structure of $\\mathcal{X}$ - k vs. N"
   ]
  },
  {
   "cell_type": "markdown",
   "id": "cc1e6943",
   "metadata": {},
   "source": [
    "#### We set k manually or we consider the no. Points Needed to Pack a Cube:\n",
    "\n",
    "From [George G. Lorentz, Manfred v. Golitschek, and Yuly Makovoz. Constructive approximation - Proposition 15.1.3](https://link.springer.com/book/9783642646102) the packing number of $[0,\\operatorname{1}]^d$ in $\\ell_{\\infty}^d$ by $\\ell_{\\infty}^d$-balls of radius $10^{-p}$ is no more than\n",
    "$$\n",
    "    \\Big\\lceil\n",
    "    2^{-d}\n",
    "            \\,\n",
    "            \\Big(10^{p}*\\operatorname{diam}\\Big)^d\n",
    "    \\Big\\rceil\n",
    "\\le \n",
    "    k\n",
    "\\le \n",
    "    \\Big\\lceil\n",
    "    3^{-d}\n",
    "            \\,\n",
    "            \\Big(10^{p}*\\operatorname{diam}\\Big)^d\n",
    "    \\Big\\rceil\n",
    "$$\n",
    "we use this lower-bound to compute $k$.\n",
    "\n",
    "If we only consider representation dimensions of at-least $\\lceil 8 \\, \\ln(k)\\rceil$ then $\\ln(k)$ is at-most\n",
    "$$\n",
    "    \\log(k)\n",
    "\\le\n",
    "    (d+1)\\big(\n",
    "                p\n",
    "                \\,\n",
    "                \\log(10) \n",
    "            + \n",
    "                 \\log(d/9)/2\n",
    "    \\big)    \n",
    ".\n",
    "$$"
   ]
  },
  {
   "cell_type": "markdown",
   "id": "caa24071",
   "metadata": {},
   "source": [
    "#### No. $\\ln(k)$\n",
    "Set the (natural) logarithmic number of points in the grid; i.e. induced by discrete computing limitations."
   ]
  },
  {
   "cell_type": "code",
   "execution_count": 8,
   "id": "93432342",
   "metadata": {},
   "outputs": [
    {
     "name": "stdout",
     "output_type": "stream",
     "text": [
      "Distance Between Points on the Grid: 0.0\n",
      "Distance Between Points on the Grid: 0.0\n"
     ]
    }
   ],
   "source": [
    "d = 1*(10**1)\n",
    "p = 1*(10**5)\n",
    "\n",
    "print('Distance Between Points on the Grid: '+str(10**-p))\n",
    "print('Distance Between Points on the Grid: '+str(10**-p))"
   ]
  },
  {
   "cell_type": "markdown",
   "id": "0b669479",
   "metadata": {},
   "source": [
    "## Compute Diameter of $[0,1]^d$"
   ]
  },
  {
   "cell_type": "code",
   "execution_count": 14,
   "id": "c422cb23",
   "metadata": {},
   "outputs": [
    {
     "name": "stdout",
     "output_type": "stream",
     "text": [
      "Prototypical Space: [0,3.1622776601683795]^10\n",
      "The logarithmic number of points in the grid is at-most: 2532843\n"
     ]
    }
   ],
   "source": [
    "diam = d**(1/2)\n",
    "print('Prototypical Space: [0,'+str(diam)+']^'+str(d))\n",
    "\n",
    "import numpy as np\n",
    "print('The logarithmic number of points in the grid is at-most: '+str( int((d+1)*p*np.log(10) + np.log(d/9)/2 )))"
   ]
  },
  {
   "cell_type": "markdown",
   "id": "f7e299ba",
   "metadata": {},
   "source": [
    "In this code, we do not allow for super low-dimensional embeddings; i.e. below representation dimension $\\lceil 8*\\ln(k)\\rceil$.  This is simply due to numerical issues with $k=\\mathcal{O}(10^{pd}\\,3^d)$ exploding, either as $p$ or $d$ diverge.  I.e. we can only stability work with $\\ln(k)$."
   ]
  },
  {
   "cell_type": "code",
   "execution_count": 15,
   "id": "02fbff96",
   "metadata": {},
   "outputs": [],
   "source": [
    "## This version of \n",
    "# Euclidean_Distortion__Standard___log\n",
    "## Computes the distortion only in the case where F is at-least 8log(k).  \n",
    "## This is especially important when k is extremely large, e.g. high-dimensional grid rendering k unstorable.  \n",
    "## However, we only need ln(k) to compute the distortion of  moderate/high-dimensional embeddings \n",
    "## so this is typically not an issue anyhow.  We emphasize that the empirical Rademacher complexity scales \n",
    "## at a O(c^1/(d+3)) rate, for some constant $d$ so any $F<d$ is already good enough since the slow part \n",
    "## of our bound converges at a rate of $O(k^1/F)$ for some $c,k>0$ depending on the model class, X, and on Y.\n",
    "\n",
    "def Euclidean_Distortion__Standard___logk(F,p=p,d=d,verbose=False):\n",
    "\n",
    "    #-----------------------#\n",
    "    # Compute log grid size #\n",
    "    #-----------------------#\n",
    "    ln_k__1 = (d+1)\n",
    "    ln_k__2 = p*np.log(10) + np.log(d/9)/2\n",
    "    ln_k = ln_k__1*ln_k__2\n",
    "    \n",
    "    #-----------------------------------------#\n",
    "    ## Case-By-Case Definition of Quantities ## \n",
    "    #-----------------------------------------#\n",
    "    ## --------------------- ##\n",
    "    ## High Dimensional Case ##\n",
    "    ## --------------------- ##     \n",
    "    if d<= F:\n",
    "        if verbose:\n",
    "            print('High')\n",
    "        dist = 1\n",
    "    else:\n",
    "        ## -------------------------- ##\n",
    "        ## Ultra-Low Dimensional Case ##\n",
    "        ## -------------------------- ##\n",
    "        ### Here we use the worst-Case embedding for general metric spaces\n",
    "        if F<=2:\n",
    "            if verbose:\n",
    "                print('Ultra-Low')\n",
    "            # Set worst-Case distortion for embedding into at-most two-dimensional Euclidean space\n",
    "            dist = 12*np.exp(ln_k)\n",
    "        else:\n",
    "            ## -------------------- ##\n",
    "            ## Low Dimensional Case ##\n",
    "            ## -------------------- ##         \n",
    "            if 3 <= F and F <= np.round(math.log(k),0):\n",
    "                if verbose:\n",
    "                    print('Low')\n",
    "                dist__1 = 15\n",
    "                dist__2 = (np.exp(ln_k)**(2/F))\n",
    "                dist__3 = np.sqrt(ln_k/F)\n",
    "\n",
    "                dist = dist__1*dist__2*dist__3\n",
    "            else:\n",
    "                ## ----------------------- ##\n",
    "                ## Medium Dimensional Case ##\n",
    "                ## ----------------------- ##     \n",
    "                if verbose:\n",
    "                    print('Med')\n",
    "                dist = 48*math.floor(2*ln_k+1)\n",
    "\n",
    "    return dist"
   ]
  },
  {
   "cell_type": "code",
   "execution_count": 16,
   "id": "db6293a5",
   "metadata": {},
   "outputs": [],
   "source": [
    "def get_risk_bound__vs_BM___scalar(N,k,F,Risk_or_Concentration=True,Lip=Lip_WorstCase):\n",
    "    \n",
    "    # Compute Discretized Lipschitz Constant\n",
    "    Lip_WorstCase__discretized = Lip_WorstCase + 1\n",
    "\n",
    "    # Compute log grid size\n",
    "    ln_k__1 = (d+1)\n",
    "    ln_k__2 = p*np.log(10) + np.log(d/9)/2\n",
    "    ln_k = ln_k__1*ln_k__2\n",
    "    \n",
    "    ## ----------------------------- ##\n",
    "    ## Failsafe Low Dimensional Case ##\n",
    "    ## ----------------------------- ##\n",
    "    if F <= round(8*ln_k):\n",
    "        # diss allow low-dimensional embeddings\n",
    "        F = round(8*ln_k)\n",
    "        \n",
    "    #--------------------------------#\n",
    "    ## Compute Euclidean Distortion ##\n",
    "    #--------------------------------#\n",
    "    dist = Euclidean_Distortion__Standard___log(F=F, k = k,d=d)\n",
    "    \n",
    "    \n",
    "    \n",
    "    #-------------------------------------------------------#\n",
    "    ## Case-By-Case Definition of Concentration Quantities ## \n",
    "    #-------------------------------------------------------#\n",
    "    \n",
    "    ## ------------------------ ##\n",
    "    ## Non-Low Dimensional Case ##\n",
    "    ## ------------------------ ##         \n",
    "    if F > 2:\n",
    "        # rate\n",
    "        rate = 1/(N**(1/F))\n",
    "        # C_F\n",
    "        C_F__1 = 2\n",
    "        C_F__2 = ((F/2)-1)/(2*(1-2**(1-(F/2))))\n",
    "        C_F__2 = C_F__2**(2/F)\n",
    "        C_F__3 = (1+1/(2*((F/2)-1)))\n",
    "        C_F__4 = np.sqrt(F)\n",
    "        C_F = C_F__1*C_F__2*C_F__3*C_F__4\n",
    "\n",
    "\n",
    "    \n",
    "    #-----------------#\n",
    "    ## Compute Bound ## \n",
    "    #-----------------#\n",
    "      \n",
    "    #### Get Dependancies\n",
    "    bound__1 = Lip_WorstCase__discretized*diam\n",
    "    bound__2 = C_F*(2*dist-1)*rate\n",
    "    bound__3 = (math.log(2/delta)**.5)**dist\n",
    "    bound__4 = 1/np.sqrt(N)\n",
    "    #### Compute Bound\n",
    "    bound = bound__1*bound__2*(bound__3+bound__4)\n",
    "\n",
    "    return bound\n",
    "\n",
    "get_risk_bound__vs_BM = np.vectorize(get_risk_bound__vs_BM___scalar)"
   ]
  },
  {
   "cell_type": "markdown",
   "id": "4d47d92e",
   "metadata": {},
   "source": [
    "### Worst-Case Lipschitz Constant"
   ]
  },
  {
   "cell_type": "markdown",
   "id": "9d5d5ed0",
   "metadata": {},
   "source": [
    "The next bit of code sets the Lipschitz constant; there are two options:\n",
    "- Set Lipschitz Constant Manually (consider small classes... there is no good benchmark in this case) ``Set_Lip_Constant==True``.\n",
    "- Compute Worst-Case Lipschitz constant (there are fair classical benchmarks in this case) ``Set_Lip_Constant==False``."
   ]
  },
  {
   "cell_type": "code",
   "execution_count": 57,
   "id": "349d2248",
   "metadata": {},
   "outputs": [],
   "source": [
    "Lip_Constant_Manual = 1"
   ]
  },
  {
   "cell_type": "markdown",
   "id": "2c299598",
   "metadata": {},
   "source": [
    "### In the Case of Worst-Case Lipschitz Constants, it is computed as follows:"
   ]
  },
  {
   "cell_type": "code",
   "execution_count": 58,
   "id": "5104fc70",
   "metadata": {
    "scrolled": false
   },
   "outputs": [
    {
     "name": "stdout",
     "output_type": "stream",
     "text": [
      "We Consider The Worst-Case Lipschitz Constant: 1\n",
      "Number of points:9.77e+04\n"
     ]
    }
   ],
   "source": [
    "k_manual = k_X\n",
    "cube_k = False\n",
    "%run ./SupportFiles/Compute_N_points.ipynb\n",
    "\n",
    "k_Y = 1/p\n",
    "k_X = k_manual\n",
    "k_manual = k_X*k_Y"
   ]
  },
  {
   "cell_type": "markdown",
   "id": "deaca908",
   "metadata": {},
   "source": [
    "## Import Packages and Set Global Hyperparameters"
   ]
  },
  {
   "cell_type": "code",
   "execution_count": 1,
   "id": "a60a845a",
   "metadata": {},
   "outputs": [
    {
     "ename": "NameError",
     "evalue": "name 'is_Rademacher' is not defined",
     "output_type": "error",
     "traceback": [
      "\u001b[0;31m---------------------------------------------------------------------------\u001b[0m",
      "\u001b[0;31mNameError\u001b[0m                                 Traceback (most recent call last)",
      "File \u001b[0;32m/var/folders/px/t95mkn313fjb_vsv3__y1rjw0000gn/T/ipykernel_24191/2670285384.py:1\u001b[0m, in \u001b[0;36m<cell line: 1>\u001b[0;34m()\u001b[0m\n\u001b[0;32m----> 1\u001b[0m \u001b[38;5;28;01mif\u001b[39;00m \u001b[43mis_Rademacher\u001b[49m:\n\u001b[1;32m      2\u001b[0m     Set_Lip_Constant \u001b[38;5;241m=\u001b[39m Lip_Constant_Manual \u001b[38;5;241m+\u001b[39m \u001b[38;5;241m1\u001b[39m\n",
      "\u001b[0;31mNameError\u001b[0m: name 'is_Rademacher' is not defined"
     ]
    },
    {
     "ename": "NameError",
     "evalue": "name 'is_Rademacher' is not defined",
     "output_type": "error",
     "traceback": [
      "\u001b[0;31m---------------------------------------------------------------------------\u001b[0m",
      "\u001b[0;31mNameError\u001b[0m                                 Traceback (most recent call last)",
      "Input \u001b[0;32mIn [1]\u001b[0m, in \u001b[0;36m<cell line: 1>\u001b[0;34m()\u001b[0m\n\u001b[0;32m----> 1\u001b[0m \u001b[43mget_ipython\u001b[49m\u001b[43m(\u001b[49m\u001b[43m)\u001b[49m\u001b[38;5;241;43m.\u001b[39;49m\u001b[43mrun_line_magic\u001b[49m\u001b[43m(\u001b[49m\u001b[38;5;124;43m'\u001b[39;49m\u001b[38;5;124;43mrun\u001b[39;49m\u001b[38;5;124;43m'\u001b[39;49m\u001b[43m,\u001b[49m\u001b[43m \u001b[49m\u001b[38;5;124;43m'\u001b[39;49m\u001b[38;5;124;43m./SupportFiles/Dependancies.ipynb\u001b[39;49m\u001b[38;5;124;43m'\u001b[39;49m\u001b[43m)\u001b[49m\n\u001b[1;32m      2\u001b[0m \u001b[38;5;28mprint\u001b[39m(\u001b[38;5;124m'\u001b[39m\u001b[38;5;124m---\u001b[39m\u001b[38;5;124m'\u001b[39m)\n",
      "File \u001b[0;32m~/opt/miniconda3/lib/python3.9/site-packages/IPython/core/interactiveshell.py:2305\u001b[0m, in \u001b[0;36mInteractiveShell.run_line_magic\u001b[0;34m(self, magic_name, line, _stack_depth)\u001b[0m\n\u001b[1;32m   2303\u001b[0m     kwargs[\u001b[38;5;124m'\u001b[39m\u001b[38;5;124mlocal_ns\u001b[39m\u001b[38;5;124m'\u001b[39m] \u001b[38;5;241m=\u001b[39m \u001b[38;5;28mself\u001b[39m\u001b[38;5;241m.\u001b[39mget_local_scope(stack_depth)\n\u001b[1;32m   2304\u001b[0m \u001b[38;5;28;01mwith\u001b[39;00m \u001b[38;5;28mself\u001b[39m\u001b[38;5;241m.\u001b[39mbuiltin_trap:\n\u001b[0;32m-> 2305\u001b[0m     result \u001b[38;5;241m=\u001b[39m \u001b[43mfn\u001b[49m\u001b[43m(\u001b[49m\u001b[38;5;241;43m*\u001b[39;49m\u001b[43margs\u001b[49m\u001b[43m,\u001b[49m\u001b[43m \u001b[49m\u001b[38;5;241;43m*\u001b[39;49m\u001b[38;5;241;43m*\u001b[39;49m\u001b[43mkwargs\u001b[49m\u001b[43m)\u001b[49m\n\u001b[1;32m   2306\u001b[0m \u001b[38;5;28;01mreturn\u001b[39;00m result\n",
      "File \u001b[0;32m~/opt/miniconda3/lib/python3.9/site-packages/IPython/core/magics/execution.py:717\u001b[0m, in \u001b[0;36mExecutionMagics.run\u001b[0;34m(self, parameter_s, runner, file_finder)\u001b[0m\n\u001b[1;32m    715\u001b[0m     \u001b[38;5;28;01mwith\u001b[39;00m preserve_keys(\u001b[38;5;28mself\u001b[39m\u001b[38;5;241m.\u001b[39mshell\u001b[38;5;241m.\u001b[39muser_ns, \u001b[38;5;124m'\u001b[39m\u001b[38;5;124m__file__\u001b[39m\u001b[38;5;124m'\u001b[39m):\n\u001b[1;32m    716\u001b[0m         \u001b[38;5;28mself\u001b[39m\u001b[38;5;241m.\u001b[39mshell\u001b[38;5;241m.\u001b[39muser_ns[\u001b[38;5;124m'\u001b[39m\u001b[38;5;124m__file__\u001b[39m\u001b[38;5;124m'\u001b[39m] \u001b[38;5;241m=\u001b[39m filename\n\u001b[0;32m--> 717\u001b[0m         \u001b[38;5;28;43mself\u001b[39;49m\u001b[38;5;241;43m.\u001b[39;49m\u001b[43mshell\u001b[49m\u001b[38;5;241;43m.\u001b[39;49m\u001b[43msafe_execfile_ipy\u001b[49m\u001b[43m(\u001b[49m\u001b[43mfilename\u001b[49m\u001b[43m,\u001b[49m\u001b[43m \u001b[49m\u001b[43mraise_exceptions\u001b[49m\u001b[38;5;241;43m=\u001b[39;49m\u001b[38;5;28;43;01mTrue\u001b[39;49;00m\u001b[43m)\u001b[49m\n\u001b[1;32m    718\u001b[0m     \u001b[38;5;28;01mreturn\u001b[39;00m\n\u001b[1;32m    720\u001b[0m \u001b[38;5;66;03m# Control the response to exit() calls made by the script being run\u001b[39;00m\n",
      "File \u001b[0;32m~/opt/miniconda3/lib/python3.9/site-packages/IPython/core/interactiveshell.py:2811\u001b[0m, in \u001b[0;36mInteractiveShell.safe_execfile_ipy\u001b[0;34m(self, fname, shell_futures, raise_exceptions)\u001b[0m\n\u001b[1;32m   2809\u001b[0m result \u001b[38;5;241m=\u001b[39m \u001b[38;5;28mself\u001b[39m\u001b[38;5;241m.\u001b[39mrun_cell(cell, silent\u001b[38;5;241m=\u001b[39m\u001b[38;5;28;01mTrue\u001b[39;00m, shell_futures\u001b[38;5;241m=\u001b[39mshell_futures)\n\u001b[1;32m   2810\u001b[0m \u001b[38;5;28;01mif\u001b[39;00m raise_exceptions:\n\u001b[0;32m-> 2811\u001b[0m     \u001b[43mresult\u001b[49m\u001b[38;5;241;43m.\u001b[39;49m\u001b[43mraise_error\u001b[49m\u001b[43m(\u001b[49m\u001b[43m)\u001b[49m\n\u001b[1;32m   2812\u001b[0m \u001b[38;5;28;01melif\u001b[39;00m \u001b[38;5;129;01mnot\u001b[39;00m result\u001b[38;5;241m.\u001b[39msuccess:\n\u001b[1;32m   2813\u001b[0m     \u001b[38;5;28;01mbreak\u001b[39;00m\n",
      "File \u001b[0;32m~/opt/miniconda3/lib/python3.9/site-packages/IPython/core/interactiveshell.py:251\u001b[0m, in \u001b[0;36mExecutionResult.raise_error\u001b[0;34m(self)\u001b[0m\n\u001b[1;32m    249\u001b[0m     \u001b[38;5;28;01mraise\u001b[39;00m \u001b[38;5;28mself\u001b[39m\u001b[38;5;241m.\u001b[39merror_before_exec\n\u001b[1;32m    250\u001b[0m \u001b[38;5;28;01mif\u001b[39;00m \u001b[38;5;28mself\u001b[39m\u001b[38;5;241m.\u001b[39merror_in_exec \u001b[38;5;129;01mis\u001b[39;00m \u001b[38;5;129;01mnot\u001b[39;00m \u001b[38;5;28;01mNone\u001b[39;00m:\n\u001b[0;32m--> 251\u001b[0m     \u001b[38;5;28;01mraise\u001b[39;00m \u001b[38;5;28mself\u001b[39m\u001b[38;5;241m.\u001b[39merror_in_exec\n",
      "    \u001b[0;31m[... skipping hidden 1 frame]\u001b[0m\n",
      "File \u001b[0;32m/var/folders/px/t95mkn313fjb_vsv3__y1rjw0000gn/T/ipykernel_24191/2670285384.py:1\u001b[0m, in \u001b[0;36m<cell line: 1>\u001b[0;34m()\u001b[0m\n\u001b[0;32m----> 1\u001b[0m \u001b[38;5;28;01mif\u001b[39;00m \u001b[43mis_Rademacher\u001b[49m:\n\u001b[1;32m      2\u001b[0m     Set_Lip_Constant \u001b[38;5;241m=\u001b[39m Lip_Constant_Manual \u001b[38;5;241m+\u001b[39m \u001b[38;5;241m1\u001b[39m\n",
      "\u001b[0;31mNameError\u001b[0m: name 'is_Rademacher' is not defined"
     ]
    }
   ],
   "source": [
    "%run ./SupportFiles/Dependancies.ipynb\n",
    "print('---')"
   ]
  },
  {
   "cell_type": "markdown",
   "id": "ac0ca770",
   "metadata": {},
   "source": [
    "# Set Global Parameters"
   ]
  },
  {
   "cell_type": "markdown",
   "id": "2322203c",
   "metadata": {},
   "source": [
    "## Are we Computing Risk Bounds or Concentration Bounds (in $\\mathcal{W}_1$)?\n",
    "- For Risk Bounds set: True\n",
    "- For Concentration Bounds set: False"
   ]
  },
  {
   "cell_type": "code",
   "execution_count": 60,
   "id": "e6b22fd8",
   "metadata": {},
   "outputs": [],
   "source": [
    "Risk_or_Concentration = True\n",
    "Isometric_Embedding = True"
   ]
  },
  {
   "cell_type": "markdown",
   "id": "a13dbad0",
   "metadata": {},
   "source": [
    "#### Decide on How Many Points to Use?"
   ]
  },
  {
   "cell_type": "markdown",
   "id": "d0170410",
   "metadata": {},
   "source": [
    "Load Global hyperparameters, now that internal parameters have been defined."
   ]
  },
  {
   "cell_type": "code",
   "execution_count": 61,
   "id": "36c37f63",
   "metadata": {},
   "outputs": [
    {
     "name": "stdout",
     "output_type": "stream",
     "text": [
      "Results are to Hold with Probability at-least: 95.0%\n",
      "Max Representation Space Dimension (F aka m): 4.605170185988092\n",
      "---\n"
     ]
    }
   ],
   "source": [
    "%run ./SupportFiles/Global_Hyperparameters.ipynb\n",
    "print('---')"
   ]
  },
  {
   "cell_type": "markdown",
   "id": "86c7b66d",
   "metadata": {},
   "source": [
    "---"
   ]
  },
  {
   "cell_type": "markdown",
   "id": "40ec195e",
   "metadata": {},
   "source": [
    "#### Load helper functions."
   ]
  },
  {
   "cell_type": "code",
   "execution_count": 62,
   "id": "fbb1feb4",
   "metadata": {},
   "outputs": [
    {
     "name": "stdout",
     "output_type": "stream",
     "text": [
      "---\n",
      "Helper Functions Loaded\n",
      "---\n"
     ]
    }
   ],
   "source": [
    "print('---')\n",
    "%run ./SupportFiles/Helper_Functions.ipynb\n",
    "print('---')"
   ]
  },
  {
   "cell_type": "markdown",
   "id": "0b06efb2",
   "metadata": {},
   "source": [
    "# The Risk Bound Computers"
   ]
  },
  {
   "cell_type": "markdown",
   "id": "0d4b0561",
   "metadata": {},
   "source": [
    "We benchark our risk bound against the following one of Bartlett and Mendelsen:"
   ]
  },
  {
   "cell_type": "markdown",
   "id": "c83199d2",
   "metadata": {},
   "source": [
    "From [Theorems 8 and 12](https://www.jmlr.org/papers/volume3/bartlett02a/bartlett02a.pdf) and [Lemma C.1](https://jmlr.org/papers/v24/22-1293.html) we have the following benmchark bound.\n",
    "\n",
    "The Rademacher complexity of the class of $L$-lipschitz functions, defined on a $d$-dimensional domain is bounded as\n",
    "$$\n",
    "    \\sup_{f \\in \\mathcal{F}_L} | \\mathfrak{R}(f ; \\mu) - \\hat{\\mathfrak{R}}(f) |\n",
    " \\le\n",
    " 2\n",
    " %%% Using Lemma C.1: Rademacher Complexity of \\mathcal{F}_L defined below\n",
    "    \\left( \\frac{8(d+1)^2D^2(16BL)^d}{N}\\right)^{1/(d+3)} + 4 \\sqrt{2} D \\left( \\frac{1}{N}\\frac{(16BL)^d}{(8(d+1)D)^{d+1}}\\right)^{1/(d+3)}\n",
    " %%%\n",
    " + \\|\\ell\\|_\\infty \\sqrt{\\frac{8\\log 2/\\delta}{N}}\n",
    "$$\n",
    "where $D := \\sup_{f \\in \\mathcal{F}_L} \\|f\\|_\\infty$ and $\\operatorname{diam}(\\mathcal{X}) \\leq B$."
   ]
  },
  {
   "cell_type": "markdown",
   "id": "67d2e371",
   "metadata": {},
   "source": [
    "## Generate Plot"
   ]
  },
  {
   "cell_type": "markdown",
   "id": "4b128de6",
   "metadata": {},
   "source": [
    "#### Decide on Scale of Sample Size (Range: Small N or Large N)"
   ]
  },
  {
   "cell_type": "code",
   "execution_count": 63,
   "id": "fbd4b771",
   "metadata": {},
   "outputs": [],
   "source": [
    "# Indices\n",
    "Freq_plot = 10**2\n",
    "if N_is_Small:\n",
    "    indexing_set = range(1,10**5,Freq_plot)\n",
    "else:\n",
    "#     indexing_set = range(3,10000,Freq_plot)\n",
    "    indexing_set = range(1,10,1)"
   ]
  },
  {
   "cell_type": "code",
   "execution_count": 64,
   "id": "272e0baf",
   "metadata": {},
   "outputs": [],
   "source": [
    "Print_Occam = True\n",
    "Agnostic_PAC_Bound = True"
   ]
  },
  {
   "cell_type": "markdown",
   "id": "5486ec91",
   "metadata": {},
   "source": [
    "**Note**: If ``Set_Lip_Constant==True`` then we *do not* benchmark against the VC or Agnostic PAC bounds."
   ]
  },
  {
   "cell_type": "markdown",
   "id": "7675c1ed",
   "metadata": {},
   "source": [
    "---"
   ]
  },
  {
   "cell_type": "markdown",
   "id": "83cdf5b4",
   "metadata": {},
   "source": [
    "Load risk bound functions."
   ]
  },
  {
   "cell_type": "code",
   "execution_count": 65,
   "id": "36f5b6e6",
   "metadata": {},
   "outputs": [
    {
     "name": "stdout",
     "output_type": "stream",
     "text": [
      "Risk Bounds Loaded\n"
     ]
    }
   ],
   "source": [
    "%run ./SupportFiles/Risk_Bound_Engine.ipynb"
   ]
  },
  {
   "cell_type": "markdown",
   "id": "b0734ea5",
   "metadata": {},
   "source": [
    "---"
   ]
  },
  {
   "cell_type": "markdown",
   "id": "170ed8a1",
   "metadata": {},
   "source": [
    "#### Compute"
   ]
  },
  {
   "cell_type": "code",
   "execution_count": 66,
   "id": "b30b2a1c",
   "metadata": {},
   "outputs": [],
   "source": [
    "# Fast Rates\n",
    "indexing_set__fastrates = range(1,50)\n",
    "# Intermediary Rates vs. Distortion\n",
    "indexing_set__intermediary_distortionVSConcentration = range(int(8*np.log(d)),int(8*(np.log(d)**2)))\n",
    "# Low Dist\n",
    "indexing_set__LowDistortion = range(int(d/2),d)\n",
    "\n",
    "# Assemble Values\n",
    "indexing_set = np.append(indexing_set__fastrates,indexing_set__intermediary_distortionVSConcentration)\n",
    "indexing_set = np.append(indexing_set,indexing_set__LowDistortion)\n",
    "\n",
    "# Keep Unique and Sort\n",
    "indexing_set = np.sort(np.unique(indexing_set))"
   ]
  },
  {
   "cell_type": "code",
   "execution_count": 67,
   "id": "aa504c28",
   "metadata": {},
   "outputs": [],
   "source": [
    "#### Compute digital computing bound\n",
    "for i in indexing_set:\n",
    "    # Set Value of F\n",
    "    F_global = int(np.round(i,0))\n",
    "    \n",
    "#     def get_Rad_Bound__scalar(N):\n",
    "#         computed_bound = Rad_Comp_Bound(N=N,F=F_global)\n",
    "#         return computed_bound\n",
    "\n",
    "#     get_Rad_Bound = np.vectorize(get_Rad_Bound__scalar)\n",
    "    def get_risk_bound__NVar__MBCompare_scalar(N):\n",
    "        return get_risk_bound__scalar(k=k_global,F=F_global,N=N)\n",
    "\n",
    "    get_risk_bound__NVar__MBCompare = np.vectorize(get_risk_bound__NVar__MBCompare_scalar)\n",
    "    \n",
    "    if i == min(indexing_set):\n",
    "        # Compute Risk Bound\n",
    "        Risk_Bounds_DC = get_risk_bound__NVar__MBCompare(N_sequence)\n",
    "    else:\n",
    "        # Compute Risk Bound\n",
    "        Risk_Bounds_DC__loop = get_risk_bound__NVar__MBCompare(N_sequence)\n",
    "        Risk_Bounds_DC = np.minimum(Risk_Bounds_DC,Risk_Bounds_DC__loop)\n",
    "    \n",
    "#### Compute continuous space bound\n",
    "Risk_Bounds_Cnt = get_Rad_Bound(N_sequence)"
   ]
  },
  {
   "cell_type": "markdown",
   "id": "466eb863",
   "metadata": {},
   "source": [
    "#### Plot"
   ]
  },
  {
   "cell_type": "code",
   "execution_count": 68,
   "id": "38e744c1",
   "metadata": {},
   "outputs": [
    {
     "data": {
      "image/png": "[encoded data removed]",
      "text/plain": [
       "<Figure size 1000x1000 with 1 Axes>"
      ]
     },
     "metadata": {},
     "output_type": "display_data"
    }
   ],
   "source": [
    "ax = plt.figure(figsize=(10,10))\n",
    "sns.set_style(\"darkgrid\")\n",
    "\n",
    "plt.title(''+dist_name+', k='+str('{:.2e}'.format(k))+', Varying F and N')\n",
    "    \n",
    "\n",
    "plt.xlabel('No. Samples (N)')\n",
    "plt.ylabel('Risk Bound')# on $\\sup_{f\\in \\mathcal{F}}\\,|\\mathcal{R}(\\hat{f})-\\hat{\\mathcal{R}}(\\hat{f})|$')\n",
    "# plt.ylabel('Bound on $\\mathbb{E}[\\mathcal{W}_1(\\mathbb{P},\\mathbb{P}^N)]$')\n",
    "\n",
    "\n",
    "    \n",
    "# Plot Risk-Bound\n",
    "plt.plot(N_sequence, \n",
    "     Risk_Bounds_DC,\n",
    "     label = 'F= w. Digital Computing')\n",
    "\n",
    "plt.plot(N_sequence, \n",
    "     Risk_Bounds_Cnt,\n",
    "     label = 'F= Idealized')\n",
    "\n",
    "plt.legend()\n",
    "    \n",
    "    \n",
    "plt.xlabel('No. Samples (N)',fontsize=10)\n",
    "plt.ylabel('Risk Bound',fontsize=10)\n",
    "plt.xticks(fontsize=10)\n",
    "plt.yticks(fontsize=10)\n",
    "\n",
    "# ----------------------------------------------------- #\n",
    "\n",
    "plt.savefig('Experiments/Risk_Bound_F/BMCompare_'+str(N_is_Small)+'____'+str(dist_name__plot)+'___d____'+str(d)+'.pdf')\n",
    "plt.show()"
   ]
  },
  {
   "cell_type": "code",
   "execution_count": 69,
   "id": "bb29ce06",
   "metadata": {},
   "outputs": [
    {
     "name": "stdout",
     "output_type": "stream",
     "text": [
      "N Min: 1 \\times 10^{3}\n",
      "N Max: 1 \\times 10^{4}\n",
      "For Paper:\n",
      "1 \\times 10^{3}<N<1 \\times 10^{4}\n",
      "dimension: 10\n",
      "N. Points (k): 0.98\n"
     ]
    }
   ],
   "source": [
    "print('N Min: '+latex_float(N_min))\n",
    "print('N Max: '+latex_float(N_max))\n",
    "print('For Paper:')\n",
    "print(latex_float(N_min)+'<N<'+latex_float(N_max))\n",
    "print('dimension: '+latex_float(d))\n",
    "print('N. Points (k): '+latex_float(k_manual))"
   ]
  },
  {
   "cell_type": "markdown",
   "id": "fe786fcd",
   "metadata": {},
   "source": [
    "---\n",
    "# Fin #\n",
    "---"
   ]
  },
  {
   "cell_type": "markdown",
   "id": "f8526889",
   "metadata": {},
   "source": [
    "---"
   ]
  },
  {
   "cell_type": "markdown",
   "id": "515628f0",
   "metadata": {},
   "source": [
    "---"
   ]
  }
 ],
 "metadata": {
  "kernelspec": {
   "display_name": "Python 3 (ipykernel)",
   "language": "python",
   "name": "python3"
  },
  "language_info": {
   "codemirror_mode": {
    "name": "ipython",
    "version": 3
   },
   "file_extension": ".py",
   "mimetype": "text/x-python",
   "name": "python",
   "nbconvert_exporter": "python",
   "pygments_lexer": "ipython3",
   "version": "3.9.12"
  }
 },
 "nbformat": 4,
 "nbformat_minor": 5
}
