{
 "cells": [
  {
   "cell_type": "markdown",
   "id": "620e92ab",
   "metadata": {},
   "source": [
    "# Plot Risk Bound: Comparison Against Rademacher Bounds (Bartlett and Mendelsen 2002)\n",
    "---"
   ]
  },
  {
   "cell_type": "markdown",
   "id": "bdfb8d43",
   "metadata": {},
   "source": [
    "We benchark our risk bound against the following one of Bartlett and Mendelsen:"
   ]
  },
  {
   "cell_type": "markdown",
   "id": "9b4598d4",
   "metadata": {},
   "source": [
    "From [Theorems 8 and 12](https://www.jmlr.org/papers/volume3/bartlett02a/bartlett02a.pdf) and [Lemma C.1](https://jmlr.org/papers/v24/22-1293.html) we have the following benmchark bound.\n",
    "\n",
    "The Rademacher complexity of the class of $L$-lipschitz functions, defined on a $d$-dimensional domain is bounded as\n",
    "$$\n",
    "    \\sup_{f \\in \\mathcal{F}_L} | \\mathfrak{R}(f ; \\mu) - \\hat{\\mathfrak{R}}(f) |\n",
    " \\le\n",
    " 2\n",
    " %%% Using Lemma C.1: Rademacher Complexity of \\mathcal{F}_L defined below\n",
    "    \\left( \\frac{8(d+1)^2D^2(16BL)^d}{N}\\right)^{1/(d+3)} + 4 \\sqrt{2} D \\left( \\frac{1}{N}\\frac{(16BL)^d}{(8(d+1)D)^{d+1}}\\right)^{1/(d+3)}\n",
    " %%%\n",
    " + \\|\\ell\\|_\\infty \\sqrt{\\frac{8\\log 2/\\delta}{N}}\n",
    "$$\n",
    "where $D := \\sup_{f \\in \\mathcal{F}_L} \\|f\\|_\\infty$ and $\\operatorname{diam}(\\mathcal{X}) \\leq B$."
   ]
  },
  {
   "cell_type": "markdown",
   "id": "a2446fb2",
   "metadata": {},
   "source": [
    "---"
   ]
  },
  {
   "cell_type": "code",
   "execution_count": 1,
   "id": "cd4f0f5e",
   "metadata": {},
   "outputs": [],
   "source": [
    "# Flag Risk-Engine that we are considering the Rademacher bound comparioson\n",
    "is_Rademacher = True"
   ]
  },
  {
   "cell_type": "markdown",
   "id": "2f38d727",
   "metadata": {},
   "source": [
    "---"
   ]
  },
  {
   "cell_type": "markdown",
   "id": "011886f0",
   "metadata": {},
   "source": [
    "## For Reference: Euclidean Embedding Rates"
   ]
  },
  {
   "cell_type": "markdown",
   "id": "130b70fb",
   "metadata": {},
   "source": [
    "For reference, the embeddings are.  We will restrict computations to the case where $8\\lceil \\ln k \\rceil < m\\le d$ to avoid computing $k$, and only working with $\\log(k)$."
   ]
  },
  {
   "cell_type": "markdown",
   "id": "881d4f02",
   "metadata": {},
   "source": [
    "| $m$ | $m<d$ | Worst-Case Distortion $(\\tau(\\phi))$ | |\n",
    "| :--- | :--- | :---: | :---: |\n",
    "| $1\\le m \\le 2$ | Yes | $12\\,k$ |  |\n",
    "| $3 \\le m \\le 8 \\lceil \\ln k\\rceil$ | Yes | $\\frac{15 \\, \\log(k)^{1/2} k^{2/m}}{m^{1/2}}$ |   |\n",
    "| $8 \\lceil \\ln k\\rceil < m$ | Yes | $48 \\lfloor \\log_2 k + 1 \\rfloor(\\frac{m^{1/2} + 2 \\sqrt{2}\\log(k)^{1/2}}{m^{1/2} - 2\\sqrt{2}\\log(k)^{1/2}})^{1/2}$ |   |\n",
    "| $m\\ge d$ | No | $1$ |   |"
   ]
  },
  {
   "cell_type": "markdown",
   "id": "8e90013c",
   "metadata": {},
   "source": [
    "---"
   ]
  },
  {
   "cell_type": "markdown",
   "id": "dbd5c942",
   "metadata": {},
   "source": [
    "All computations correspond to the Huber loss function $\\ell$ \n",
    "$$\n",
    "\\ell(y, \\tilde{y}) = \\begin{cases}\n",
    " \\frac{1}{2}(y - \\tilde{y})^2                   & \\text{for } |y - \\tilde{y}| \\le \\delta, \\\\\n",
    " \\delta\\ \\cdot \\left(|y - \\tilde{y}| - \\frac{1}{2}\\delta\\right), & \\text{otherwise.}\n",
    "\\end{cases}\n",
    "$$\n",
    "for each $y,\\tilde{y}\\in [0,\\infty)$.  Furthermore, for any $M\\ge 0$; the Huber loss function satisfies:\n",
    "- $1$-Lipschitz\n",
    "- $\\|\\ell|_{[0,M]^2}\\|_{\\infty}= M$."
   ]
  },
  {
   "cell_type": "markdown",
   "id": "149a4b75",
   "metadata": {},
   "source": [
    "## Lipschitz Constant of Hypothesis Class\n",
    "\n",
    "W.l.o.g. We consider $1$-Lipschitz functions but allow the option for more general classes."
   ]
  },
  {
   "cell_type": "code",
   "execution_count": 2,
   "id": "992c8801",
   "metadata": {},
   "outputs": [],
   "source": [
    "Lip_WorstCase = 1"
   ]
  },
  {
   "cell_type": "markdown",
   "id": "08bb9561",
   "metadata": {},
   "source": [
    "## Defaults Parameters (Only exist to coerce to general risk engine).\n",
    "Default is 3; otherwise the comparison no longer applies to results of [Bartlett and Mendelson](https://www.jmlr.org/papers/volume3/bartlett02a/bartlett02a.pdf)."
   ]
  },
  {
   "cell_type": "code",
   "execution_count": 3,
   "id": "d0f0e8d7",
   "metadata": {},
   "outputs": [],
   "source": [
    "# Default in this model.\n",
    "distortion_type = 3\n",
    "# This is also default to true for the same reason.\n",
    "Set_Lip_Constant = True"
   ]
  },
  {
   "cell_type": "markdown",
   "id": "a947d2be",
   "metadata": {},
   "source": [
    "### Number of Samples (N)"
   ]
  },
  {
   "cell_type": "markdown",
   "id": "7cf2e87d",
   "metadata": {},
   "source": [
    "Number of training instances to consider roughly (N); depending on if ``N_is_Small`` is set to true or not:\n",
    "\n",
    "- if ``N_is_Small==True``: $N$ ranges from $\\lfloor N/10 \\rfloor$ to $N$\n",
    "- if ``N_is_Small==True``: $N$ ranges from $N^3$ to $N^4$"
   ]
  },
  {
   "cell_type": "code",
   "execution_count": 4,
   "id": "34d4f6a9",
   "metadata": {},
   "outputs": [],
   "source": [
    "N = 1*(10**4)"
   ]
  },
  {
   "cell_type": "code",
   "execution_count": 5,
   "id": "9adcc2b5",
   "metadata": {},
   "outputs": [],
   "source": [
    "N_is_Small = True"
   ]
  },
  {
   "cell_type": "markdown",
   "id": "4f3a333f",
   "metadata": {},
   "source": [
    "### The Structure of $\\mathcal{X}$ - k vs. N"
   ]
  },
  {
   "cell_type": "markdown",
   "id": "cc1e6943",
   "metadata": {},
   "source": [
    "#### We set k manually or we consider the no. Points Needed to Pack a Cube:\n",
    "\n",
    "From [George G. Lorentz, Manfred v. Golitschek, and Yuly Makovoz. Constructive approximation - Proposition 15.1.3](https://link.springer.com/book/9783642646102) the packing number of $[0,\\operatorname{1}]^d$ in $\\ell_{\\infty}^d$ by $\\ell_{\\infty}^d$-balls of radius $10^{-p}$ is no more than\n",
    "$$\n",
    "    \\Big\\lceil\n",
    "    2^{-d}\n",
    "            \\,\n",
    "            \\Big(10^{p}*\\operatorname{diam}\\Big)^d\n",
    "    \\Big\\rceil\n",
    "\\le \n",
    "    k\n",
    "\\le \n",
    "    \\Big\\lceil\n",
    "    3^{-d}\n",
    "            \\,\n",
    "            \\Big(10^{p}*\\operatorname{diam}\\Big)^d\n",
    "    \\Big\\rceil\n",
    "$$\n",
    "we use this lower-bound to compute $k$.\n",
    "\n",
    "If we only consider representation dimensions of at-least $\\lceil 8 \\, \\ln(k)\\rceil$ then $\\ln(k)$ is at-most\n",
    "$$\n",
    "    \\log(k)\n",
    "\\le\n",
    "    (d+1)\\big(\n",
    "                p\n",
    "                \\,\n",
    "                \\log(10) \n",
    "            + \n",
    "                 \\log(d/9)/2\n",
    "    \\big)    \n",
    ".\n",
    "$$"
   ]
  },
  {
   "cell_type": "markdown",
   "id": "25e4bc4b",
   "metadata": {},
   "source": [
    "#### No. $\\ln(k)$\n",
    "Set the (natural) logarithmic number of points in the grid; i.e. induced by discrete computing limitations."
   ]
  },
  {
   "cell_type": "code",
   "execution_count": 6,
   "id": "b7ac9932",
   "metadata": {},
   "outputs": [
    {
     "name": "stdout",
     "output_type": "stream",
     "text": [
      "Dimension: 100000\n",
      "Distance Between Points on the Grid: 0.0\n"
     ]
    }
   ],
   "source": [
    "d = 1*(10**5)\n",
    "p = 1*(10**6)\n",
    "\n",
    "print('Dimension: '+str(d))\n",
    "print('Distance Between Points on the Grid: '+str(10**-p))"
   ]
  },
  {
   "cell_type": "markdown",
   "id": "74c7f726",
   "metadata": {},
   "source": [
    "### Compute Diameter of $[0,1]^d$"
   ]
  },
  {
   "cell_type": "code",
   "execution_count": 7,
   "id": "c14010f0",
   "metadata": {},
   "outputs": [
    {
     "name": "stdout",
     "output_type": "stream",
     "text": [
      "Prototypical Space: [0,316.22776601683796]^100000\n"
     ]
    }
   ],
   "source": [
    "diam = d**(1/2)\n",
    "print('Prototypical Space: [0,'+str(diam)+']^'+str(d))"
   ]
  },
  {
   "cell_type": "markdown",
   "id": "aabaafd8",
   "metadata": {},
   "source": [
    "Compute number of points on the grid."
   ]
  },
  {
   "cell_type": "code",
   "execution_count": 8,
   "id": "3c11ad77",
   "metadata": {},
   "outputs": [
    {
     "name": "stdout",
     "output_type": "stream",
     "text": [
      "The logarithmic number of points in the grid is at-most: 230260811889\n"
     ]
    }
   ],
   "source": [
    "import numpy as np\n",
    "print('The logarithmic number of points in the grid is at-most: '+str( int((d+1)*p*np.log(10) + np.log(d/9)/2 )))"
   ]
  },
  {
   "cell_type": "markdown",
   "id": "48ce9fdc",
   "metadata": {},
   "source": [
    "In this code, we do not allow for super low-dimensional embeddings; i.e. below representation dimension $\\lceil 8*\\ln(k)\\rceil$.  This is simply due to numerical issues with $k=\\mathcal{O}(10^{pd}\\,3^d)$ exploding, either as $p$ or $d$ diverge.  I.e. we can only stability work with $\\ln(k)$."
   ]
  },
  {
   "cell_type": "code",
   "execution_count": 9,
   "id": "31beef66",
   "metadata": {},
   "outputs": [],
   "source": [
    "def get_risk_bound__vs_BM___scalar(N,F,Risk_or_Concentration=True,Lip=Lip_WorstCase):\n",
    "    \n",
    "    # Compute Discretized Lipschitz Constant\n",
    "    Lip_WorstCase__discretized = Lip_WorstCase + 1\n",
    "\n",
    "    # Compute log grid size\n",
    "    ln_k__1 = (d+1)\n",
    "    ln_k__2 = p*np.log(10) + np.log(d/9)/2\n",
    "    ln_k = ln_k__1*ln_k__2\n",
    "    \n",
    "    ## ----------------------------- ##\n",
    "    ## Failsafe Low Dimensional Case ##\n",
    "    ## ----------------------------- ##\n",
    "    if F <= round(8*ln_k):\n",
    "        # diss allow low-dimensional embeddings\n",
    "        F = round(8*ln_k)\n",
    "        \n",
    "    #--------------------------------#\n",
    "    ## Compute Euclidean Distortion ##\n",
    "    #--------------------------------#\n",
    "    dist = Euclidean_Distortion__Standard___logk(F=F, k = k,d=d)\n",
    "    \n",
    "    \n",
    "    \n",
    "    #-------------------------------------------------------#\n",
    "    ## Case-By-Case Definition of Concentration Quantities ## \n",
    "    #-------------------------------------------------------#\n",
    "    \n",
    "    ## ------------------------ ##\n",
    "    ## Non-Low Dimensional Case ##\n",
    "    ## ------------------------ ##         \n",
    "    if F > 2:\n",
    "        # rate\n",
    "        rate = 1/(N**(1/F))\n",
    "        # C_F\n",
    "        C_F__1 = 2\n",
    "        C_F__2 = ((F/2)-1)/(2*(1-2**(1-(F/2))))\n",
    "        C_F__2 = C_F__2**(2/F)\n",
    "        C_F__3 = (1+1/(2*((F/2)-1)))\n",
    "        C_F__4 = np.sqrt(F)\n",
    "        C_F = C_F__1*C_F__2*C_F__3*C_F__4\n",
    "\n",
    "\n",
    "    \n",
    "    #-----------------#\n",
    "    ## Compute Bound ## \n",
    "    #-----------------#\n",
    "      \n",
    "    #### Get Dependancies\n",
    "    bound__1 = Lip_WorstCase__discretized*diam\n",
    "    bound__2 = C_F*(2*dist-1)*rate\n",
    "    bound__3 = (math.log(2/delta)**.5)**dist\n",
    "    bound__4 = 1/np.sqrt(N)\n",
    "    #### Compute Bound\n",
    "    bound = bound__1*bound__2*(bound__3+bound__4)\n",
    "\n",
    "    return bound"
   ]
  },
  {
   "cell_type": "markdown",
   "id": "deaca908",
   "metadata": {},
   "source": [
    "## Import Packages and Set Global Hyperparameters"
   ]
  },
  {
   "cell_type": "code",
   "execution_count": 10,
   "id": "a60a845a",
   "metadata": {},
   "outputs": [
    {
     "name": "stdout",
     "output_type": "stream",
     "text": [
      "Dependancies and Packages Loaded\n",
      "---\n"
     ]
    }
   ],
   "source": [
    "%run ./SupportFiles/Dependancies.ipynb\n",
    "print('---')"
   ]
  },
  {
   "cell_type": "markdown",
   "id": "ac0ca770",
   "metadata": {},
   "source": [
    "# Set Global Parameters"
   ]
  },
  {
   "cell_type": "markdown",
   "id": "a13dbad0",
   "metadata": {},
   "source": [
    "#### Decide on How Many Points to Use?"
   ]
  },
  {
   "cell_type": "markdown",
   "id": "d0170410",
   "metadata": {},
   "source": [
    "Load Global hyperparameters, now that internal parameters have been defined."
   ]
  },
  {
   "cell_type": "code",
   "execution_count": 11,
   "id": "36c37f63",
   "metadata": {},
   "outputs": [
    {
     "name": "stdout",
     "output_type": "stream",
     "text": [
      "Results are to Hold with Probability at-least: 95.0%\n",
      "Max Representation Space Dimension (F aka m): 4.605170185988092\n",
      "---\n"
     ]
    }
   ],
   "source": [
    "%run ./SupportFiles/Global_Hyperparameters.ipynb\n",
    "print('---')"
   ]
  },
  {
   "cell_type": "markdown",
   "id": "86c7b66d",
   "metadata": {},
   "source": [
    "---"
   ]
  },
  {
   "cell_type": "markdown",
   "id": "40ec195e",
   "metadata": {},
   "source": [
    "#### Load helper functions."
   ]
  },
  {
   "cell_type": "code",
   "execution_count": 12,
   "id": "fbb1feb4",
   "metadata": {},
   "outputs": [
    {
     "name": "stdout",
     "output_type": "stream",
     "text": [
      "---\n",
      "Helper Functions Loaded\n",
      "---\n"
     ]
    }
   ],
   "source": [
    "print('---')\n",
    "%run ./SupportFiles/Helper_Functions.ipynb\n",
    "print('---')"
   ]
  },
  {
   "cell_type": "markdown",
   "id": "67d2e371",
   "metadata": {},
   "source": [
    "## Generate Plot"
   ]
  },
  {
   "cell_type": "markdown",
   "id": "7675c1ed",
   "metadata": {},
   "source": [
    "---"
   ]
  },
  {
   "cell_type": "markdown",
   "id": "83cdf5b4",
   "metadata": {},
   "source": [
    "Load risk bound functions."
   ]
  },
  {
   "cell_type": "code",
   "execution_count": 13,
   "id": "36f5b6e6",
   "metadata": {},
   "outputs": [],
   "source": [
    "%run ./SupportFiles/Risk_Bound_Engine-BMComparison.ipynb"
   ]
  },
  {
   "cell_type": "code",
   "execution_count": 14,
   "id": "a3db6942",
   "metadata": {},
   "outputs": [
    {
     "data": {
      "text/plain": [
       "array(565693.14216724)"
      ]
     },
     "execution_count": 14,
     "metadata": {},
     "output_type": "execute_result"
    }
   ],
   "source": [
    "def get_risk_bound__NVar__MBCompare_scalar(N):\n",
    "    return get_risk_bound__vs_BM___scalar(F=d,N=N,d=d)\n",
    "\n",
    "get_risk_bound__NVar__MBCompare = np.vectorize(get_risk_bound__NVar__MBCompare_scalar)\n",
    "\n",
    "get_risk_bound__NVar__MBCompare(10**4)"
   ]
  },
  {
   "cell_type": "markdown",
   "id": "b0734ea5",
   "metadata": {},
   "source": [
    "---"
   ]
  },
  {
   "cell_type": "markdown",
   "id": "4d8e4afa",
   "metadata": {},
   "source": [
    "#### Compute"
   ]
  },
  {
   "cell_type": "markdown",
   "id": "2fdd6f96",
   "metadata": {},
   "source": [
    "Generate a list of all embedding dimensions to be considered."
   ]
  },
  {
   "cell_type": "code",
   "execution_count": 15,
   "id": "fcd95a6c",
   "metadata": {},
   "outputs": [
    {
     "name": "stdout",
     "output_type": "stream",
     "text": [
      "We will do 1001 iterations.\n"
     ]
    }
   ],
   "source": [
    "# Moderate Embedding Dimension Rates vs. Distortion\n",
    "F_indexing_set = range(int(d*.99),d+1)\n",
    "\n",
    "print('We will do '+str(len(F_indexing_set))+' iterations.')"
   ]
  },
  {
   "cell_type": "code",
   "execution_count": null,
   "id": "fe1b779d",
   "metadata": {},
   "outputs": [
    {
     "name": "stderr",
     "output_type": "stream",
     "text": [
      " 73%|█████████████████████████▋         | 734/1001 [00:46<00:16, 15.86it/s]"
     ]
    }
   ],
   "source": [
    "#### Compute digital computing bound\n",
    "for F_global in tqdm(F_indexing_set):\n",
    "    # Set Value of F\n",
    "#     F_global = int(indexing_set[i])\n",
    "    \n",
    "#     print(F_global)\n",
    "#     print(F_global<=d)\n",
    "    \n",
    "    if F_global >d:\n",
    "        print('Breaking Loop Early at representation dimension: ' + str(F_global)+'.')\n",
    "        print('Further Improvement Impossible.')\n",
    "        break\n",
    "\n",
    "        \n",
    "\n",
    "    def get_risk_bound__NVar__MBCompare_scalar(N):\n",
    "        return get_risk_bound__vs_BM___scalar(F=F_global,N=N,d=d)\n",
    "\n",
    "    get_risk_bound__NVar__MBCompare = np.vectorize(get_risk_bound__NVar__MBCompare_scalar)\n",
    "    \n",
    "    if F_global == min(F_indexing_set):\n",
    "        # Compute Risk Bound\n",
    "        Risk_Bounds_DC = get_risk_bound__NVar__MBCompare(N_sequence)\n",
    "    else:\n",
    "        # Compute Risk Bound\n",
    "        Risk_Bounds_DC__loop = get_risk_bound__NVar__MBCompare(N_sequence)\n",
    "        Risk_Bounds_DC = np.minimum(Risk_Bounds_DC,Risk_Bounds_DC__loop)\n",
    "#     print(Risk_Bounds_DC)"
   ]
  },
  {
   "cell_type": "code",
   "execution_count": null,
   "id": "644bc846",
   "metadata": {},
   "outputs": [],
   "source": [
    "Risk_Bounds_DC__loop"
   ]
  },
  {
   "cell_type": "markdown",
   "id": "b2aa53dc",
   "metadata": {},
   "source": [
    "In the case where $\\phi=I_{\\mathbb{R}^d}$ we obtain the following bound:\n",
    "$$\n",
    "(L+1)\\,\\operatorname{diam}(\\mathcal{X}\\times \\mathcal{Y})\\frac{\\ln(2/\\delta)^{1/2}}{N^{1/2}}\n",
    "$$\n",
    "We simply compute it as follows:\n",
    "<!-- #### Verification\n",
    "- [First Limit Term in $C_m$ since it is monotonically increasing at converges to 1 as $d\\to \\infty$](https://www.wolframalpha.com/input?i=limit+2*%28+%28x%2F2+-+1%29%2F%282*%281-2%5E%281-%28x%2F2%29%29%29%29+%29%5E%282%2Fx%29+x+to+infinity)\n",
    "- [Second Term in $C_m$ maximized at 3; when $d\\ge 3$ since it is monotonically decreasing](https://www.wolframalpha.com/input?i=1%2B+%281%2F%282*%28%28m%2F2%29-1%29%29%29+%2C+m+%3D3)\n",
    "\n",
    "So together, that terms is bounded above by\n",
    "$$\n",
    "C_m \\le 2\\,1 (1+1) d^{1/2} = 4\\,d^{1/2}.\n",
    "$$\n",
    "[Wolfram verification](https://www.wolframalpha.com/input?i=4+-+%282*%28+%28x%2F2+-+1%29%2F%282*%281-2%5E%281-%28x%2F2%29%29%29%29+%29%5E%282%2Fx%29+*+%281%2B+%281%2F%282*%28%28x%2F2%29-1%29%29%29+%29++%29+). -->"
   ]
  },
  {
   "cell_type": "code",
   "execution_count": null,
   "id": "58eca026",
   "metadata": {},
   "outputs": [],
   "source": [
    "Risk_Bounds_DC_HDB = high_dim_riskbound(N_sequence)"
   ]
  },
  {
   "cell_type": "markdown",
   "id": "df973a97",
   "metadata": {},
   "source": [
    "#### Compute Bartlett and Mendelon Bounds"
   ]
  },
  {
   "cell_type": "code",
   "execution_count": null,
   "id": "32c21c90",
   "metadata": {},
   "outputs": [],
   "source": [
    "#### Compute continuous space bound (Bartlett and Mendelson)\n",
    "Risk_Bounds_Cnt = Rad_Comp_Bound(N_sequence)"
   ]
  },
  {
   "cell_type": "markdown",
   "id": "c870f582",
   "metadata": {},
   "source": [
    "## Plots"
   ]
  },
  {
   "cell_type": "code",
   "execution_count": null,
   "id": "c006a8ef",
   "metadata": {},
   "outputs": [],
   "source": [
    "ax = plt.figure(figsize=(10,10))\n",
    "sns.set_style(\"darkgrid\")\n",
    "\n",
    "plt.title('p='+str('{:.2e}'.format(p))+'d='+str('{:.2e}'.format(p))+', Varying F and N')\n",
    "    \n",
    "\n",
    "plt.xlabel('No. Samples (N)')\n",
    "plt.ylabel('Risk Bound')# on $\\sup_{f\\in \\mathcal{F}}\\,|\\mathcal{R}(\\hat{f})-\\hat{\\mathcal{R}}(\\hat{f})|$')\n",
    "\n",
    "\n",
    "    \n",
    "# Plot Risk-Bound\n",
    "plt.plot(N_sequence, \n",
    "         Risk_Bounds_DC,\n",
    "         label = 'F= w. Digital Computing',\n",
    "         c='purple')\n",
    "\n",
    "plt.plot(N_sequence, \n",
    "         Risk_Bounds_DC_HDB,\n",
    "         label = 'F= w. Digital Computing (+Rounding)',\n",
    "         c='blue')\n",
    "\n",
    "\n",
    "plt.plot(N_sequence, \n",
    "         Risk_Bounds_Cnt,\n",
    "         label = 'F= Idealized',\n",
    "         c='orange')\n",
    "\n",
    "plt.legend()\n",
    "    \n",
    "    \n",
    "plt.xlabel('No. Samples (N)',fontsize=10)\n",
    "plt.ylabel('Risk Bound',fontsize=10)\n",
    "plt.xticks(fontsize=10)\n",
    "plt.yticks(fontsize=10)\n",
    "\n",
    "# ----------------------------------------------------- #\n",
    "\n",
    "plt.savefig('Experiments/Risk_Bound_F/BMCompare_'+str(N_is_Small)+'____p___'+str(p)+'___d____'+str(d)+'.pdf')\n",
    "plt.show()"
   ]
  },
  {
   "cell_type": "markdown",
   "id": "8560d91d",
   "metadata": {},
   "source": [
    "#### Summary of Experiment"
   ]
  },
  {
   "cell_type": "code",
   "execution_count": null,
   "id": "0fb524f7",
   "metadata": {},
   "outputs": [],
   "source": [
    "print('N Min: '+latex_float(N_min))\n",
    "print('N Max: '+latex_float(N_max))\n",
    "print('For Paper:')\n",
    "print(latex_float(N_min)+'<N<'+latex_float(N_max))\n",
    "print('dimension: '+latex_float(d))\n",
    "print('p: '+latex_float(p))"
   ]
  },
  {
   "cell_type": "markdown",
   "id": "f45c1baf",
   "metadata": {},
   "source": [
    "---\n",
    "## Bonus Plots:"
   ]
  },
  {
   "cell_type": "markdown",
   "id": "ca0d1602",
   "metadata": {},
   "source": [
    "Plot without Bartlett and Mendelson bound."
   ]
  },
  {
   "cell_type": "code",
   "execution_count": null,
   "id": "92e16741",
   "metadata": {},
   "outputs": [],
   "source": [
    "plt.figure(figsize=(10,10))\n",
    "sns.set_style(\"darkgrid\")\n",
    "\n",
    "plt.title('p='+str('{:.2e}'.format(p))+'d='+str('{:.2e}'.format(p))+', Varying F and N')\n",
    "    \n",
    "\n",
    "plt.xlabel('No. Samples (N)')\n",
    "plt.ylabel('Risk Bound')\n",
    "\n",
    "    \n",
    "# Plot Risk-Bound\n",
    "plt.plot(N_sequence, \n",
    "     Risk_Bounds_DC,\n",
    "     label = 'F= w. Digital Computing')\n",
    "\n",
    "plt.legend()"
   ]
  },
  {
   "cell_type": "markdown",
   "id": "9bbb537c",
   "metadata": {},
   "source": [
    "#### Plot BM Risk Bounds Only (for Visualization)"
   ]
  },
  {
   "cell_type": "code",
   "execution_count": null,
   "id": "12de48c7",
   "metadata": {},
   "outputs": [],
   "source": [
    "ax = plt.figure(figsize=(10,10))\n",
    "sns.set_style(\"darkgrid\")\n",
    "\n",
    "plt.plot(N_sequence, \n",
    "     Risk_Bounds_Cnt,\n",
    "     label = 'F= Idealized',c='orange')\n",
    "\n",
    "plt.legend()\n",
    "    \n",
    "    \n",
    "plt.xlabel('No. Samples (N)',fontsize=10)\n",
    "plt.ylabel('Risk Bound',fontsize=10)\n",
    "plt.xticks(fontsize=10)\n",
    "plt.yticks(fontsize=10)\n",
    "\n",
    "# ----------------------------------------------------- #\n",
    "\n",
    "plt.savefig('Experiments/Risk_Bound_F/BMCompare_'+str(N_is_Small)+'____p___'+str(p)+'___d____'+str(d)+'.pdf')\n",
    "plt.show()"
   ]
  },
  {
   "cell_type": "markdown",
   "id": "fe786fcd",
   "metadata": {},
   "source": [
    "---\n",
    "# Fin #\n",
    "---"
   ]
  },
  {
   "cell_type": "markdown",
   "id": "f8526889",
   "metadata": {},
   "source": [
    "---"
   ]
  },
  {
   "cell_type": "markdown",
   "id": "515628f0",
   "metadata": {},
   "source": [
    "---"
   ]
  }
 ],
 "metadata": {
  "kernelspec": {
   "display_name": "Python 3 (ipykernel)",
   "language": "python",
   "name": "python3"
  },
  "language_info": {
   "codemirror_mode": {
    "name": "ipython",
    "version": 3
   },
   "file_extension": ".py",
   "mimetype": "text/x-python",
   "name": "python",
   "nbconvert_exporter": "python",
   "pygments_lexer": "ipython3",
   "version": "3.9.12"
  }
 },
 "nbformat": 4,
 "nbformat_minor": 5
}
